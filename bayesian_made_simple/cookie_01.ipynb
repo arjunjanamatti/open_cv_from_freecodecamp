{
 "cells": [
  {
   "cell_type": "code",
   "execution_count": 2,
   "metadata": {
    "ExecuteTime": {
     "end_time": "2021-05-16T12:17:18.535614Z",
     "start_time": "2021-05-16T12:17:18.516182Z"
    }
   },
   "outputs": [
    {
     "name": "stdout",
     "output_type": "stream",
     "text": [
      "All packages installed successfuly\n"
     ]
    }
   ],
   "source": [
    "try:\n",
    "    import pandas as pd\n",
    "    import numpy as np\n",
    "    import seaborn as sns\n",
    "    sns.set_style('white')\n",
    "    sns.set_context('talk')\n",
    "    import matplotlib.pyplot as plt\n",
    "    print('All packages installed successfuly')\n",
    "except Exception as e:\n",
    "    print(f'Exception: {e}')"
   ]
  },
  {
   "cell_type": "markdown",
   "metadata": {},
   "source": [
    "### The cookie problem\n",
    "* Suppose we have two bowls of cookies, \n",
    "    * Bowl_1 contains 30 vanilla and 10 chocolate cookies\n",
    "    * Bowl_2 contains 20 vanilla and 20 chocolate cookies\n",
    "* A person chooses one bowl at random, and random picked up cookie turns out to be vanilla cookie.\n",
    "* What is the probability that chosen Bowl is Bowl_1?\n",
    "\n",
    " Assume that there was an equal chance of choosing either bowl and an equal chance of choosing any cookie in the bowl."
   ]
  },
  {
   "cell_type": "code",
   "execution_count": 11,
   "metadata": {
    "ExecuteTime": {
     "end_time": "2021-05-16T12:38:45.652426Z",
     "start_time": "2021-05-16T12:38:45.634348Z"
    }
   },
   "outputs": [],
   "source": [
    "number_of_bowls = 2\n",
    "bowl_qty_list = [40,40]\n",
    "vanilla_bowl_list = [30, 20]\n",
    "chocolate_bowl_list = [30, 20]"
   ]
  },
  {
   "cell_type": "code",
   "execution_count": 22,
   "metadata": {
    "ExecuteTime": {
     "end_time": "2021-05-16T12:55:43.330502Z",
     "start_time": "2021-05-16T12:55:43.304725Z"
    }
   },
   "outputs": [],
   "source": [
    "def get_posterior(number_of_bowls, bowl_qty_list, vanilla_bowl_list, chocolate_bowl_list):\n",
    "    prior_probabilities = [1/(number_of_bowls) for num in range(number_of_bowls)]\n",
    "    vanilla_unnormalized_probs = [van/bowl_qty_list[index] for index, van in enumerate(vanilla_bowl_list)] \n",
    "    vanilla_normalized_sum  = sum(vanilla_unnormalized_probs)/ len(vanilla_unnormalized_probs)\n",
    "    vanilla_normalized_sum_list = [vanilla_normalized_sum for van in range(len(vanilla_unnormalized_probs))]\n",
    "    new_df = pd.DataFrame()\n",
    "    new_df['prior_probabilities'] = prior_probabilities\n",
    "    new_df['vanilla_unnormalized_probs'] = vanilla_unnormalized_probs\n",
    "    new_df['vanilla_normalized_sum_list'] = vanilla_normalized_sum_list\n",
    "    new_df.index = [f'Bowl_{num+1}' for num in range(number_of_bowls)]\n",
    "    new_df['posterior'] = (new_df['prior_probabilities'] * new_df['vanilla_unnormalized_probs']) / new_df['vanilla_normalized_sum_list']\n",
    "    return new_df"
   ]
  },
  {
   "cell_type": "code",
   "execution_count": 23,
   "metadata": {
    "ExecuteTime": {
     "end_time": "2021-05-16T12:56:38.004986Z",
     "start_time": "2021-05-16T12:56:37.982534Z"
    }
   },
   "outputs": [
    {
     "data": {
      "text/html": [
       "<div>\n",
       "<style scoped>\n",
       "    .dataframe tbody tr th:only-of-type {\n",
       "        vertical-align: middle;\n",
       "    }\n",
       "\n",
       "    .dataframe tbody tr th {\n",
       "        vertical-align: top;\n",
       "    }\n",
       "\n",
       "    .dataframe thead th {\n",
       "        text-align: right;\n",
       "    }\n",
       "</style>\n",
       "<table border=\"1\" class=\"dataframe\">\n",
       "  <thead>\n",
       "    <tr style=\"text-align: right;\">\n",
       "      <th></th>\n",
       "      <th>prior_probabilities</th>\n",
       "      <th>vanilla_unnormalized_probs</th>\n",
       "      <th>vanilla_normalized_sum_list</th>\n",
       "      <th>posterior</th>\n",
       "    </tr>\n",
       "  </thead>\n",
       "  <tbody>\n",
       "    <tr>\n",
       "      <th>Bowl_1</th>\n",
       "      <td>0.5</td>\n",
       "      <td>0.75</td>\n",
       "      <td>0.625</td>\n",
       "      <td>0.6</td>\n",
       "    </tr>\n",
       "    <tr>\n",
       "      <th>Bowl_2</th>\n",
       "      <td>0.5</td>\n",
       "      <td>0.50</td>\n",
       "      <td>0.625</td>\n",
       "      <td>0.4</td>\n",
       "    </tr>\n",
       "  </tbody>\n",
       "</table>\n",
       "</div>"
      ],
      "text/plain": [
       "        prior_probabilities  vanilla_unnormalized_probs  \\\n",
       "Bowl_1                  0.5                        0.75   \n",
       "Bowl_2                  0.5                        0.50   \n",
       "\n",
       "        vanilla_normalized_sum_list  posterior  \n",
       "Bowl_1                        0.625        0.6  \n",
       "Bowl_2                        0.625        0.4  "
      ]
     },
     "execution_count": 23,
     "metadata": {},
     "output_type": "execute_result"
    }
   ],
   "source": [
    "new_df = get_posterior(number_of_bowls, bowl_qty_list, vanilla_bowl_list, chocolate_bowl_list)\n",
    "new_df"
   ]
  },
  {
   "cell_type": "code",
   "execution_count": null,
   "metadata": {},
   "outputs": [],
   "source": []
  }
 ],
 "metadata": {
  "kernelspec": {
   "display_name": "Python 3",
   "language": "python",
   "name": "python3"
  },
  "language_info": {
   "codemirror_mode": {
    "name": "ipython",
    "version": 3
   },
   "file_extension": ".py",
   "mimetype": "text/x-python",
   "name": "python",
   "nbconvert_exporter": "python",
   "pygments_lexer": "ipython3",
   "version": "3.6.10"
  },
  "varInspector": {
   "cols": {
    "lenName": 16,
    "lenType": 16,
    "lenVar": 40
   },
   "kernels_config": {
    "python": {
     "delete_cmd_postfix": "",
     "delete_cmd_prefix": "del ",
     "library": "var_list.py",
     "varRefreshCmd": "print(var_dic_list())"
    },
    "r": {
     "delete_cmd_postfix": ") ",
     "delete_cmd_prefix": "rm(",
     "library": "var_list.r",
     "varRefreshCmd": "cat(var_dic_list()) "
    }
   },
   "types_to_exclude": [
    "module",
    "function",
    "builtin_function_or_method",
    "instance",
    "_Feature"
   ],
   "window_display": false
  }
 },
 "nbformat": 4,
 "nbformat_minor": 4
}
