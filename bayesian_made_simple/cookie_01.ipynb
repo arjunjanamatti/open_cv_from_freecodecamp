{
 "cells": [
  {
   "cell_type": "code",
   "execution_count": 1,
   "metadata": {
    "ExecuteTime": {
     "end_time": "2021-05-17T05:52:49.175699Z",
     "start_time": "2021-05-17T05:52:46.914547Z"
    }
   },
   "outputs": [
    {
     "name": "stderr",
     "output_type": "stream",
     "text": [
      "C:\\Users\\Arjun Janamatti\\Anaconda3\\envs\\tf_nptel\\lib\\site-packages\\numpy\\core\\__init__.py:29: UserWarning: loaded more than 1 DLL from .libs:\n",
      "C:\\Users\\Arjun Janamatti\\Anaconda3\\envs\\tf_nptel\\lib\\site-packages\\numpy\\.libs\\libopenblas.PYQHXLVVQ7VESDPUVUADXEVJOBGHJPAY.gfortran-win_amd64.dll\n",
      "C:\\Users\\Arjun Janamatti\\Anaconda3\\envs\\tf_nptel\\lib\\site-packages\\numpy\\.libs\\libopenblas.TXA6YQSD3GCQQC22GEQ54J2UDCXDXHWN.gfortran-win_amd64.dll\n",
      "  stacklevel=1)\n"
     ]
    },
    {
     "name": "stdout",
     "output_type": "stream",
     "text": [
      "All packages installed successfuly\n"
     ]
    }
   ],
   "source": [
    "try:\n",
    "    import pandas as pd\n",
    "    import numpy as np\n",
    "    import seaborn as sns\n",
    "    sns.set_style('white')\n",
    "    sns.set_context('talk')\n",
    "    import matplotlib.pyplot as plt\n",
    "    print('All packages installed successfuly')\n",
    "except Exception as e:\n",
    "    print(f'Exception: {e}')"
   ]
  },
  {
   "cell_type": "markdown",
   "metadata": {},
   "source": [
    "### The cookie problem\n",
    "* Suppose we have two bowls of cookies, \n",
    "    * Bowl_1 contains 30 vanilla and 10 chocolate cookies\n",
    "    * Bowl_2 contains 20 vanilla and 20 chocolate cookies\n",
    "* A person chooses one bowl at random, and random picked up cookie turns out to be vanilla cookie.\n",
    "* What is the probability that chosen Bowl is Bowl_1?\n",
    "\n",
    " Assume that there was an equal chance of choosing either bowl and an equal chance of choosing any cookie in the bowl."
   ]
  },
  {
   "cell_type": "code",
   "execution_count": 2,
   "metadata": {
    "ExecuteTime": {
     "end_time": "2021-05-17T05:52:49.191412Z",
     "start_time": "2021-05-17T05:52:49.178662Z"
    }
   },
   "outputs": [],
   "source": [
    "priors = [1/2, 1/2]\n",
    "priors_index = ['Bowl_1', 'Bowl_2']\n",
    "likelihood = [30/40, 10/20]"
   ]
  },
  {
   "cell_type": "code",
   "execution_count": 3,
   "metadata": {
    "ExecuteTime": {
     "end_time": "2021-05-17T05:52:49.206591Z",
     "start_time": "2021-05-17T05:52:49.194223Z"
    }
   },
   "outputs": [],
   "source": [
    "def get_posterior(priors, priors_index, likelihood):\n",
    "    new_df = pd.DataFrame()\n",
    "    new_df['priors'] = priors\n",
    "    new_df['likelihood'] = likelihood\n",
    "    new_df.index = priors_index\n",
    "    new_df['unnormalized_posterior'] = new_df['priors'] * new_df['likelihood']\n",
    "    new_df['prob_data'] = [sum(new_df['unnormalized_posterior']) for num in range(len(new_df))]\n",
    "    new_df['posterior'] = (new_df['priors'] * new_df['likelihood']) / new_df['prob_data']\n",
    "    return new_df"
   ]
  },
  {
   "cell_type": "code",
   "execution_count": 4,
   "metadata": {
    "ExecuteTime": {
     "end_time": "2021-05-17T05:52:49.252516Z",
     "start_time": "2021-05-17T05:52:49.209123Z"
    }
   },
   "outputs": [
    {
     "data": {
      "text/html": [
       "<div>\n",
       "<style scoped>\n",
       "    .dataframe tbody tr th:only-of-type {\n",
       "        vertical-align: middle;\n",
       "    }\n",
       "\n",
       "    .dataframe tbody tr th {\n",
       "        vertical-align: top;\n",
       "    }\n",
       "\n",
       "    .dataframe thead th {\n",
       "        text-align: right;\n",
       "    }\n",
       "</style>\n",
       "<table border=\"1\" class=\"dataframe\">\n",
       "  <thead>\n",
       "    <tr style=\"text-align: right;\">\n",
       "      <th></th>\n",
       "      <th>priors</th>\n",
       "      <th>likelihood</th>\n",
       "      <th>unnormalized_posterior</th>\n",
       "      <th>prob_data</th>\n",
       "      <th>posterior</th>\n",
       "    </tr>\n",
       "  </thead>\n",
       "  <tbody>\n",
       "    <tr>\n",
       "      <th>Bowl_1</th>\n",
       "      <td>0.5</td>\n",
       "      <td>0.75</td>\n",
       "      <td>0.375</td>\n",
       "      <td>0.625</td>\n",
       "      <td>0.6</td>\n",
       "    </tr>\n",
       "    <tr>\n",
       "      <th>Bowl_2</th>\n",
       "      <td>0.5</td>\n",
       "      <td>0.50</td>\n",
       "      <td>0.250</td>\n",
       "      <td>0.625</td>\n",
       "      <td>0.4</td>\n",
       "    </tr>\n",
       "  </tbody>\n",
       "</table>\n",
       "</div>"
      ],
      "text/plain": [
       "        priors  likelihood  unnormalized_posterior  prob_data  posterior\n",
       "Bowl_1     0.5        0.75                   0.375      0.625        0.6\n",
       "Bowl_2     0.5        0.50                   0.250      0.625        0.4"
      ]
     },
     "execution_count": 4,
     "metadata": {},
     "output_type": "execute_result"
    }
   ],
   "source": [
    "new_df = get_posterior(priors, priors_index, likelihood)\n",
    "new_df"
   ]
  },
  {
   "cell_type": "markdown",
   "metadata": {},
   "source": [
    "### Exercise 1\n",
    "\n",
    "Suppose we put the first cookie back, stir, draw another cookie from the same bowl, and it's a chocolate cookie. What is the probability we drew both cookies from Bowl 1?\n",
    "\n",
    "Hint: The prior for the second update is the posterior from the first update."
   ]
  },
  {
   "cell_type": "code",
   "execution_count": 5,
   "metadata": {
    "ExecuteTime": {
     "end_time": "2021-05-17T05:52:49.285017Z",
     "start_time": "2021-05-17T05:52:49.253831Z"
    }
   },
   "outputs": [
    {
     "data": {
      "text/html": [
       "<div>\n",
       "<style scoped>\n",
       "    .dataframe tbody tr th:only-of-type {\n",
       "        vertical-align: middle;\n",
       "    }\n",
       "\n",
       "    .dataframe tbody tr th {\n",
       "        vertical-align: top;\n",
       "    }\n",
       "\n",
       "    .dataframe thead th {\n",
       "        text-align: right;\n",
       "    }\n",
       "</style>\n",
       "<table border=\"1\" class=\"dataframe\">\n",
       "  <thead>\n",
       "    <tr style=\"text-align: right;\">\n",
       "      <th></th>\n",
       "      <th>priors</th>\n",
       "      <th>likelihood</th>\n",
       "      <th>unnormalized_posterior</th>\n",
       "      <th>prob_data</th>\n",
       "      <th>posterior</th>\n",
       "    </tr>\n",
       "  </thead>\n",
       "  <tbody>\n",
       "    <tr>\n",
       "      <th>Bowl_1</th>\n",
       "      <td>0.5</td>\n",
       "      <td>0.75</td>\n",
       "      <td>0.375</td>\n",
       "      <td>0.625</td>\n",
       "      <td>0.6</td>\n",
       "    </tr>\n",
       "    <tr>\n",
       "      <th>Bowl_2</th>\n",
       "      <td>0.5</td>\n",
       "      <td>0.50</td>\n",
       "      <td>0.250</td>\n",
       "      <td>0.625</td>\n",
       "      <td>0.4</td>\n",
       "    </tr>\n",
       "  </tbody>\n",
       "</table>\n",
       "</div>"
      ],
      "text/plain": [
       "        priors  likelihood  unnormalized_posterior  prob_data  posterior\n",
       "Bowl_1     0.5        0.75                   0.375      0.625        0.6\n",
       "Bowl_2     0.5        0.50                   0.250      0.625        0.4"
      ]
     },
     "execution_count": 5,
     "metadata": {},
     "output_type": "execute_result"
    }
   ],
   "source": [
    "# first update it is for vanilla\n",
    "priors = [1/2, 1/2]\n",
    "priors_index = ['Bowl_1', 'Bowl_2']\n",
    "likelihood = [30/40, 10/20]\n",
    "new_df = get_posterior(priors, priors_index, likelihood)\n",
    "new_df"
   ]
  },
  {
   "cell_type": "code",
   "execution_count": 6,
   "metadata": {
    "ExecuteTime": {
     "end_time": "2021-05-17T05:52:49.330864Z",
     "start_time": "2021-05-17T05:52:49.286382Z"
    }
   },
   "outputs": [
    {
     "data": {
      "text/html": [
       "<div>\n",
       "<style scoped>\n",
       "    .dataframe tbody tr th:only-of-type {\n",
       "        vertical-align: middle;\n",
       "    }\n",
       "\n",
       "    .dataframe tbody tr th {\n",
       "        vertical-align: top;\n",
       "    }\n",
       "\n",
       "    .dataframe thead th {\n",
       "        text-align: right;\n",
       "    }\n",
       "</style>\n",
       "<table border=\"1\" class=\"dataframe\">\n",
       "  <thead>\n",
       "    <tr style=\"text-align: right;\">\n",
       "      <th></th>\n",
       "      <th>priors</th>\n",
       "      <th>likelihood</th>\n",
       "      <th>unnormalized_posterior</th>\n",
       "      <th>prob_data</th>\n",
       "      <th>posterior</th>\n",
       "    </tr>\n",
       "  </thead>\n",
       "  <tbody>\n",
       "    <tr>\n",
       "      <th>Bowl_1</th>\n",
       "      <td>0.6</td>\n",
       "      <td>0.25</td>\n",
       "      <td>0.15</td>\n",
       "      <td>0.35</td>\n",
       "      <td>0.428571</td>\n",
       "    </tr>\n",
       "    <tr>\n",
       "      <th>Bowl_2</th>\n",
       "      <td>0.4</td>\n",
       "      <td>0.50</td>\n",
       "      <td>0.20</td>\n",
       "      <td>0.35</td>\n",
       "      <td>0.571429</td>\n",
       "    </tr>\n",
       "  </tbody>\n",
       "</table>\n",
       "</div>"
      ],
      "text/plain": [
       "        priors  likelihood  unnormalized_posterior  prob_data  posterior\n",
       "Bowl_1     0.6        0.25                    0.15       0.35   0.428571\n",
       "Bowl_2     0.4        0.50                    0.20       0.35   0.571429"
      ]
     },
     "execution_count": 6,
     "metadata": {},
     "output_type": "execute_result"
    }
   ],
   "source": [
    "# second update in which chocolate was found\n",
    "priors = new_df['posterior']\n",
    "priors_index = ['Bowl_1', 'Bowl_2']\n",
    "likelihood = [10/40, 20/40]\n",
    "updated_df = get_posterior(priors, priors_index, likelihood)\n",
    "updated_df"
   ]
  },
  {
   "cell_type": "markdown",
   "metadata": {},
   "source": [
    "### 101 Bowls\n",
    "\n",
    "Suppose instead of 2 bowls there are 101 bowls:\n",
    "\n",
    "* Bowl 0 contains no vanilla cookies,\n",
    "\n",
    "* Bowl 1 contains 1% vanilla cookies,\n",
    "\n",
    "* Bowl 2 contains 2% vanilla cookies,\n",
    "\n",
    "and so on, up to\n",
    "\n",
    "* Bowl 99 contains 99% vanilla cookies, and\n",
    "\n",
    "* Bowl 100 contains all vanilla cookies.\n",
    "\n",
    "As in the previous problem, there are only two kinds of cookies, vanilla and chocolate. So Bowl 0 is all chocolate cookies, Bowl 1 is 99% chocolate, and so on.\n",
    "\n",
    "Suppose we choose a bowl at random, choose a cookie at random, and it turns out to be vanilla. What is the probability that the cookie came from Bowl $x$, for each value of $x$?\n",
    "\n",
    "To represent the prior, I'll use a Pandas Series with 101 equally spaced quantities from 0 to 1.\n"
   ]
  },
  {
   "cell_type": "code",
   "execution_count": 17,
   "metadata": {
    "ExecuteTime": {
     "end_time": "2021-05-17T06:04:18.297998Z",
     "start_time": "2021-05-17T06:04:18.254183Z"
    }
   },
   "outputs": [
    {
     "data": {
      "text/html": [
       "<div>\n",
       "<style scoped>\n",
       "    .dataframe tbody tr th:only-of-type {\n",
       "        vertical-align: middle;\n",
       "    }\n",
       "\n",
       "    .dataframe tbody tr th {\n",
       "        vertical-align: top;\n",
       "    }\n",
       "\n",
       "    .dataframe thead th {\n",
       "        text-align: right;\n",
       "    }\n",
       "</style>\n",
       "<table border=\"1\" class=\"dataframe\">\n",
       "  <thead>\n",
       "    <tr style=\"text-align: right;\">\n",
       "      <th></th>\n",
       "      <th>priors</th>\n",
       "      <th>vanilla_likelihood</th>\n",
       "      <th>chocolate_likelihood</th>\n",
       "    </tr>\n",
       "  </thead>\n",
       "  <tbody>\n",
       "    <tr>\n",
       "      <th>0</th>\n",
       "      <td>0.0099</td>\n",
       "      <td>0</td>\n",
       "      <td>100</td>\n",
       "    </tr>\n",
       "    <tr>\n",
       "      <th>1</th>\n",
       "      <td>0.0099</td>\n",
       "      <td>1</td>\n",
       "      <td>99</td>\n",
       "    </tr>\n",
       "    <tr>\n",
       "      <th>2</th>\n",
       "      <td>0.0099</td>\n",
       "      <td>2</td>\n",
       "      <td>98</td>\n",
       "    </tr>\n",
       "    <tr>\n",
       "      <th>3</th>\n",
       "      <td>0.0099</td>\n",
       "      <td>3</td>\n",
       "      <td>97</td>\n",
       "    </tr>\n",
       "    <tr>\n",
       "      <th>4</th>\n",
       "      <td>0.0099</td>\n",
       "      <td>4</td>\n",
       "      <td>96</td>\n",
       "    </tr>\n",
       "    <tr>\n",
       "      <th>...</th>\n",
       "      <td>...</td>\n",
       "      <td>...</td>\n",
       "      <td>...</td>\n",
       "    </tr>\n",
       "    <tr>\n",
       "      <th>96</th>\n",
       "      <td>0.0099</td>\n",
       "      <td>96</td>\n",
       "      <td>4</td>\n",
       "    </tr>\n",
       "    <tr>\n",
       "      <th>97</th>\n",
       "      <td>0.0099</td>\n",
       "      <td>97</td>\n",
       "      <td>3</td>\n",
       "    </tr>\n",
       "    <tr>\n",
       "      <th>98</th>\n",
       "      <td>0.0099</td>\n",
       "      <td>98</td>\n",
       "      <td>2</td>\n",
       "    </tr>\n",
       "    <tr>\n",
       "      <th>99</th>\n",
       "      <td>0.0099</td>\n",
       "      <td>99</td>\n",
       "      <td>1</td>\n",
       "    </tr>\n",
       "    <tr>\n",
       "      <th>100</th>\n",
       "      <td>0.0099</td>\n",
       "      <td>100</td>\n",
       "      <td>0</td>\n",
       "    </tr>\n",
       "  </tbody>\n",
       "</table>\n",
       "<p>101 rows × 3 columns</p>\n",
       "</div>"
      ],
      "text/plain": [
       "     priors  vanilla_likelihood  chocolate_likelihood\n",
       "0    0.0099                   0                   100\n",
       "1    0.0099                   1                    99\n",
       "2    0.0099                   2                    98\n",
       "3    0.0099                   3                    97\n",
       "4    0.0099                   4                    96\n",
       "..      ...                 ...                   ...\n",
       "96   0.0099                  96                     4\n",
       "97   0.0099                  97                     3\n",
       "98   0.0099                  98                     2\n",
       "99   0.0099                  99                     1\n",
       "100  0.0099                 100                     0\n",
       "\n",
       "[101 rows x 3 columns]"
      ]
     },
     "execution_count": 17,
     "metadata": {},
     "output_type": "execute_result"
    }
   ],
   "source": [
    "priors_index = list(range(101))\n",
    "priors = [round(1/len(priors_index), 5) for pri in range(len(priors_index))]\n",
    "vanilla_likelihood = priors_index\n",
    "check_df = pd.DataFrame()\n",
    "check_df['priors'] = priors\n",
    "check_df['vanilla_likelihood'] = vanilla_likelihood\n",
    "check_df['chocolate_likelihood'] = 100 - check_df['vanilla_likelihood']\n",
    "check_df.index = priors_index\n",
    "check_df"
   ]
  },
  {
   "cell_type": "code",
   "execution_count": 18,
   "metadata": {
    "ExecuteTime": {
     "end_time": "2021-05-17T06:13:41.365746Z",
     "start_time": "2021-05-17T06:13:41.298895Z"
    }
   },
   "outputs": [
    {
     "data": {
      "text/html": [
       "<div>\n",
       "<style scoped>\n",
       "    .dataframe tbody tr th:only-of-type {\n",
       "        vertical-align: middle;\n",
       "    }\n",
       "\n",
       "    .dataframe tbody tr th {\n",
       "        vertical-align: top;\n",
       "    }\n",
       "\n",
       "    .dataframe thead th {\n",
       "        text-align: right;\n",
       "    }\n",
       "</style>\n",
       "<table border=\"1\" class=\"dataframe\">\n",
       "  <thead>\n",
       "    <tr style=\"text-align: right;\">\n",
       "      <th></th>\n",
       "      <th>priors</th>\n",
       "      <th>likelihood</th>\n",
       "      <th>unnormalized_posterior</th>\n",
       "      <th>prob_data</th>\n",
       "      <th>posterior</th>\n",
       "    </tr>\n",
       "  </thead>\n",
       "  <tbody>\n",
       "    <tr>\n",
       "      <th>0</th>\n",
       "      <td>0.0099</td>\n",
       "      <td>0</td>\n",
       "      <td>0.0000</td>\n",
       "      <td>49.995</td>\n",
       "      <td>0.000000</td>\n",
       "    </tr>\n",
       "    <tr>\n",
       "      <th>1</th>\n",
       "      <td>0.0099</td>\n",
       "      <td>1</td>\n",
       "      <td>0.0099</td>\n",
       "      <td>49.995</td>\n",
       "      <td>0.000198</td>\n",
       "    </tr>\n",
       "    <tr>\n",
       "      <th>2</th>\n",
       "      <td>0.0099</td>\n",
       "      <td>2</td>\n",
       "      <td>0.0198</td>\n",
       "      <td>49.995</td>\n",
       "      <td>0.000396</td>\n",
       "    </tr>\n",
       "    <tr>\n",
       "      <th>3</th>\n",
       "      <td>0.0099</td>\n",
       "      <td>3</td>\n",
       "      <td>0.0297</td>\n",
       "      <td>49.995</td>\n",
       "      <td>0.000594</td>\n",
       "    </tr>\n",
       "    <tr>\n",
       "      <th>4</th>\n",
       "      <td>0.0099</td>\n",
       "      <td>4</td>\n",
       "      <td>0.0396</td>\n",
       "      <td>49.995</td>\n",
       "      <td>0.000792</td>\n",
       "    </tr>\n",
       "    <tr>\n",
       "      <th>...</th>\n",
       "      <td>...</td>\n",
       "      <td>...</td>\n",
       "      <td>...</td>\n",
       "      <td>...</td>\n",
       "      <td>...</td>\n",
       "    </tr>\n",
       "    <tr>\n",
       "      <th>96</th>\n",
       "      <td>0.0099</td>\n",
       "      <td>96</td>\n",
       "      <td>0.9504</td>\n",
       "      <td>49.995</td>\n",
       "      <td>0.019010</td>\n",
       "    </tr>\n",
       "    <tr>\n",
       "      <th>97</th>\n",
       "      <td>0.0099</td>\n",
       "      <td>97</td>\n",
       "      <td>0.9603</td>\n",
       "      <td>49.995</td>\n",
       "      <td>0.019208</td>\n",
       "    </tr>\n",
       "    <tr>\n",
       "      <th>98</th>\n",
       "      <td>0.0099</td>\n",
       "      <td>98</td>\n",
       "      <td>0.9702</td>\n",
       "      <td>49.995</td>\n",
       "      <td>0.019406</td>\n",
       "    </tr>\n",
       "    <tr>\n",
       "      <th>99</th>\n",
       "      <td>0.0099</td>\n",
       "      <td>99</td>\n",
       "      <td>0.9801</td>\n",
       "      <td>49.995</td>\n",
       "      <td>0.019604</td>\n",
       "    </tr>\n",
       "    <tr>\n",
       "      <th>100</th>\n",
       "      <td>0.0099</td>\n",
       "      <td>100</td>\n",
       "      <td>0.9900</td>\n",
       "      <td>49.995</td>\n",
       "      <td>0.019802</td>\n",
       "    </tr>\n",
       "  </tbody>\n",
       "</table>\n",
       "<p>101 rows × 5 columns</p>\n",
       "</div>"
      ],
      "text/plain": [
       "     priors  likelihood  unnormalized_posterior  prob_data  posterior\n",
       "0    0.0099           0                  0.0000     49.995   0.000000\n",
       "1    0.0099           1                  0.0099     49.995   0.000198\n",
       "2    0.0099           2                  0.0198     49.995   0.000396\n",
       "3    0.0099           3                  0.0297     49.995   0.000594\n",
       "4    0.0099           4                  0.0396     49.995   0.000792\n",
       "..      ...         ...                     ...        ...        ...\n",
       "96   0.0099          96                  0.9504     49.995   0.019010\n",
       "97   0.0099          97                  0.9603     49.995   0.019208\n",
       "98   0.0099          98                  0.9702     49.995   0.019406\n",
       "99   0.0099          99                  0.9801     49.995   0.019604\n",
       "100  0.0099         100                  0.9900     49.995   0.019802\n",
       "\n",
       "[101 rows x 5 columns]"
      ]
     },
     "execution_count": 18,
     "metadata": {},
     "output_type": "execute_result"
    }
   ],
   "source": [
    "updated_df = get_posterior(priors, priors_index, vanilla_likelihood)\n",
    "updated_df"
   ]
  },
  {
   "cell_type": "code",
   "execution_count": 27,
   "metadata": {
    "ExecuteTime": {
     "end_time": "2021-05-17T06:22:53.762607Z",
     "start_time": "2021-05-17T06:22:53.337716Z"
    }
   },
   "outputs": [
    {
     "data": {
      "image/png": "[encoded data removed]",
      "text/plain": [
       "<Figure size 432x288 with 1 Axes>"
      ]
     },
     "metadata": {},
     "output_type": "display_data"
    }
   ],
   "source": [
    "updated_df['posterior'].plot()\n",
    "\n",
    "plt.xlabel('Fraction of vanilla cookies')\n",
    "plt.ylabel('Probability')\n",
    "plt.title('Posterior, one vanilla')"
   ]
  },
  {
   "cell_type": "markdown",
   "metadata": {},
   "source": [
    "Suppose we put the first cookie back, stir the bowl, draw from the same bowl again, and get a vanilla cookie again.\n",
    "\n",
    "What's are the posterior probabilities now?\n",
    "\n",
    "We can do another update, using the posterior from the first draw as the prior for the second draw."
   ]
  },
  {
   "cell_type": "code",
   "execution_count": 28,
   "metadata": {
    "ExecuteTime": {
     "end_time": "2021-05-17T06:23:54.299807Z",
     "start_time": "2021-05-17T06:23:54.281712Z"
    }
   },
   "outputs": [],
   "source": [
    "priors_index = list(range(101))\n",
    "priors = updated_df['posterior']\n",
    "vanilla_likelihood = priors_index"
   ]
  },
  {
   "cell_type": "code",
   "execution_count": 30,
   "metadata": {
    "ExecuteTime": {
     "end_time": "2021-05-17T06:24:11.308859Z",
     "start_time": "2021-05-17T06:24:11.241054Z"
    }
   },
   "outputs": [
    {
     "data": {
      "text/html": [
       "<div>\n",
       "<style scoped>\n",
       "    .dataframe tbody tr th:only-of-type {\n",
       "        vertical-align: middle;\n",
       "    }\n",
       "\n",
       "    .dataframe tbody tr th {\n",
       "        vertical-align: top;\n",
       "    }\n",
       "\n",
       "    .dataframe thead th {\n",
       "        text-align: right;\n",
       "    }\n",
       "</style>\n",
       "<table border=\"1\" class=\"dataframe\">\n",
       "  <thead>\n",
       "    <tr style=\"text-align: right;\">\n",
       "      <th></th>\n",
       "      <th>priors</th>\n",
       "      <th>likelihood</th>\n",
       "      <th>unnormalized_posterior</th>\n",
       "      <th>prob_data</th>\n",
       "      <th>posterior</th>\n",
       "    </tr>\n",
       "  </thead>\n",
       "  <tbody>\n",
       "    <tr>\n",
       "      <th>0</th>\n",
       "      <td>0.000000</td>\n",
       "      <td>0</td>\n",
       "      <td>0.000000</td>\n",
       "      <td>67.0</td>\n",
       "      <td>0.000000</td>\n",
       "    </tr>\n",
       "    <tr>\n",
       "      <th>1</th>\n",
       "      <td>0.000198</td>\n",
       "      <td>1</td>\n",
       "      <td>0.000198</td>\n",
       "      <td>67.0</td>\n",
       "      <td>0.000003</td>\n",
       "    </tr>\n",
       "    <tr>\n",
       "      <th>2</th>\n",
       "      <td>0.000396</td>\n",
       "      <td>2</td>\n",
       "      <td>0.000792</td>\n",
       "      <td>67.0</td>\n",
       "      <td>0.000012</td>\n",
       "    </tr>\n",
       "    <tr>\n",
       "      <th>3</th>\n",
       "      <td>0.000594</td>\n",
       "      <td>3</td>\n",
       "      <td>0.001782</td>\n",
       "      <td>67.0</td>\n",
       "      <td>0.000027</td>\n",
       "    </tr>\n",
       "    <tr>\n",
       "      <th>4</th>\n",
       "      <td>0.000792</td>\n",
       "      <td>4</td>\n",
       "      <td>0.003168</td>\n",
       "      <td>67.0</td>\n",
       "      <td>0.000047</td>\n",
       "    </tr>\n",
       "    <tr>\n",
       "      <th>...</th>\n",
       "      <td>...</td>\n",
       "      <td>...</td>\n",
       "      <td>...</td>\n",
       "      <td>...</td>\n",
       "      <td>...</td>\n",
       "    </tr>\n",
       "    <tr>\n",
       "      <th>96</th>\n",
       "      <td>0.019010</td>\n",
       "      <td>96</td>\n",
       "      <td>1.824950</td>\n",
       "      <td>67.0</td>\n",
       "      <td>0.027238</td>\n",
       "    </tr>\n",
       "    <tr>\n",
       "      <th>97</th>\n",
       "      <td>0.019208</td>\n",
       "      <td>97</td>\n",
       "      <td>1.863168</td>\n",
       "      <td>67.0</td>\n",
       "      <td>0.027808</td>\n",
       "    </tr>\n",
       "    <tr>\n",
       "      <th>98</th>\n",
       "      <td>0.019406</td>\n",
       "      <td>98</td>\n",
       "      <td>1.901782</td>\n",
       "      <td>67.0</td>\n",
       "      <td>0.028385</td>\n",
       "    </tr>\n",
       "    <tr>\n",
       "      <th>99</th>\n",
       "      <td>0.019604</td>\n",
       "      <td>99</td>\n",
       "      <td>1.940792</td>\n",
       "      <td>67.0</td>\n",
       "      <td>0.028967</td>\n",
       "    </tr>\n",
       "    <tr>\n",
       "      <th>100</th>\n",
       "      <td>0.019802</td>\n",
       "      <td>100</td>\n",
       "      <td>1.980198</td>\n",
       "      <td>67.0</td>\n",
       "      <td>0.029555</td>\n",
       "    </tr>\n",
       "  </tbody>\n",
       "</table>\n",
       "<p>101 rows × 5 columns</p>\n",
       "</div>"
      ],
      "text/plain": [
       "       priors  likelihood  unnormalized_posterior  prob_data  posterior\n",
       "0    0.000000           0                0.000000       67.0   0.000000\n",
       "1    0.000198           1                0.000198       67.0   0.000003\n",
       "2    0.000396           2                0.000792       67.0   0.000012\n",
       "3    0.000594           3                0.001782       67.0   0.000027\n",
       "4    0.000792           4                0.003168       67.0   0.000047\n",
       "..        ...         ...                     ...        ...        ...\n",
       "96   0.019010          96                1.824950       67.0   0.027238\n",
       "97   0.019208          97                1.863168       67.0   0.027808\n",
       "98   0.019406          98                1.901782       67.0   0.028385\n",
       "99   0.019604          99                1.940792       67.0   0.028967\n",
       "100  0.019802         100                1.980198       67.0   0.029555\n",
       "\n",
       "[101 rows x 5 columns]"
      ]
     },
     "execution_count": 30,
     "metadata": {},
     "output_type": "execute_result"
    }
   ],
   "source": [
    "updated_df_1 = get_posterior(priors, priors_index, vanilla_likelihood)\n",
    "updated_df_1"
   ]
  },
  {
   "cell_type": "code",
   "execution_count": 31,
   "metadata": {
    "ExecuteTime": {
     "end_time": "2021-05-17T06:24:31.308992Z",
     "start_time": "2021-05-17T06:24:30.887417Z"
    }
   },
   "outputs": [
    {
     "data": {
      "text/plain": [
       "Text(0.5, 1.0, 'Posterior, one vanilla')"
      ]
     },
     "execution_count": 31,
     "metadata": {},
     "output_type": "execute_result"
    },
    {
     "data": {
      "image/png": "[encoded data removed]",
      "text/plain": [
       "<Figure size 432x288 with 1 Axes>"
      ]
     },
     "metadata": {},
     "output_type": "display_data"
    }
   ],
   "source": [
    "updated_df_1['posterior'].plot()\n",
    "\n",
    "plt.xlabel('Fraction of vanilla cookies')\n",
    "plt.ylabel('Probability')\n",
    "plt.title('Posterior, one vanilla')"
   ]
  },
  {
   "cell_type": "markdown",
   "metadata": {},
   "source": [
    "### Exercise 2\n",
    "\n",
    "Suppose we put the second cookie back, stir the bowl, draw from the same bowl again, and get a chocolate cookie.\n",
    "\n",
    "Now what are the posterior probabilities?\n"
   ]
  },
  {
   "cell_type": "code",
   "execution_count": 39,
   "metadata": {
    "ExecuteTime": {
     "end_time": "2021-05-17T06:29:30.787551Z",
     "start_time": "2021-05-17T06:29:30.766422Z"
    }
   },
   "outputs": [],
   "source": [
    "priors_index = list(range(101))\n",
    "priors = updated_df_1['posterior']\n",
    "vanilla_likelihood = priors_index\n",
    "chocolate_likelihood = [100-van for van in vanilla_likelihood]"
   ]
  },
  {
   "cell_type": "code",
   "execution_count": 40,
   "metadata": {
    "ExecuteTime": {
     "end_time": "2021-05-17T06:29:31.538376Z",
     "start_time": "2021-05-17T06:29:31.486412Z"
    }
   },
   "outputs": [
    {
     "data": {
      "text/html": [
       "<div>\n",
       "<style scoped>\n",
       "    .dataframe tbody tr th:only-of-type {\n",
       "        vertical-align: middle;\n",
       "    }\n",
       "\n",
       "    .dataframe tbody tr th {\n",
       "        vertical-align: top;\n",
       "    }\n",
       "\n",
       "    .dataframe thead th {\n",
       "        text-align: right;\n",
       "    }\n",
       "</style>\n",
       "<table border=\"1\" class=\"dataframe\">\n",
       "  <thead>\n",
       "    <tr style=\"text-align: right;\">\n",
       "      <th></th>\n",
       "      <th>priors</th>\n",
       "      <th>likelihood</th>\n",
       "      <th>unnormalized_posterior</th>\n",
       "      <th>prob_data</th>\n",
       "      <th>posterior</th>\n",
       "    </tr>\n",
       "  </thead>\n",
       "  <tbody>\n",
       "    <tr>\n",
       "      <th>0</th>\n",
       "      <td>0.000000</td>\n",
       "      <td>100</td>\n",
       "      <td>0.000000</td>\n",
       "      <td>24.626866</td>\n",
       "      <td>0.000000</td>\n",
       "    </tr>\n",
       "    <tr>\n",
       "      <th>1</th>\n",
       "      <td>0.000003</td>\n",
       "      <td>99</td>\n",
       "      <td>0.000293</td>\n",
       "      <td>24.626866</td>\n",
       "      <td>0.000012</td>\n",
       "    </tr>\n",
       "    <tr>\n",
       "      <th>2</th>\n",
       "      <td>0.000012</td>\n",
       "      <td>98</td>\n",
       "      <td>0.001159</td>\n",
       "      <td>24.626866</td>\n",
       "      <td>0.000047</td>\n",
       "    </tr>\n",
       "    <tr>\n",
       "      <th>3</th>\n",
       "      <td>0.000027</td>\n",
       "      <td>97</td>\n",
       "      <td>0.002580</td>\n",
       "      <td>24.626866</td>\n",
       "      <td>0.000105</td>\n",
       "    </tr>\n",
       "    <tr>\n",
       "      <th>4</th>\n",
       "      <td>0.000047</td>\n",
       "      <td>96</td>\n",
       "      <td>0.004540</td>\n",
       "      <td>24.626866</td>\n",
       "      <td>0.000184</td>\n",
       "    </tr>\n",
       "    <tr>\n",
       "      <th>...</th>\n",
       "      <td>...</td>\n",
       "      <td>...</td>\n",
       "      <td>...</td>\n",
       "      <td>...</td>\n",
       "      <td>...</td>\n",
       "    </tr>\n",
       "    <tr>\n",
       "      <th>96</th>\n",
       "      <td>0.027238</td>\n",
       "      <td>4</td>\n",
       "      <td>0.108952</td>\n",
       "      <td>24.626866</td>\n",
       "      <td>0.004424</td>\n",
       "    </tr>\n",
       "    <tr>\n",
       "      <th>97</th>\n",
       "      <td>0.027808</td>\n",
       "      <td>3</td>\n",
       "      <td>0.083425</td>\n",
       "      <td>24.626866</td>\n",
       "      <td>0.003388</td>\n",
       "    </tr>\n",
       "    <tr>\n",
       "      <th>98</th>\n",
       "      <td>0.028385</td>\n",
       "      <td>2</td>\n",
       "      <td>0.056770</td>\n",
       "      <td>24.626866</td>\n",
       "      <td>0.002305</td>\n",
       "    </tr>\n",
       "    <tr>\n",
       "      <th>99</th>\n",
       "      <td>0.028967</td>\n",
       "      <td>1</td>\n",
       "      <td>0.028967</td>\n",
       "      <td>24.626866</td>\n",
       "      <td>0.001176</td>\n",
       "    </tr>\n",
       "    <tr>\n",
       "      <th>100</th>\n",
       "      <td>0.029555</td>\n",
       "      <td>0</td>\n",
       "      <td>0.000000</td>\n",
       "      <td>24.626866</td>\n",
       "      <td>0.000000</td>\n",
       "    </tr>\n",
       "  </tbody>\n",
       "</table>\n",
       "<p>101 rows × 5 columns</p>\n",
       "</div>"
      ],
      "text/plain": [
       "       priors  likelihood  unnormalized_posterior  prob_data  posterior\n",
       "0    0.000000         100                0.000000  24.626866   0.000000\n",
       "1    0.000003          99                0.000293  24.626866   0.000012\n",
       "2    0.000012          98                0.001159  24.626866   0.000047\n",
       "3    0.000027          97                0.002580  24.626866   0.000105\n",
       "4    0.000047          96                0.004540  24.626866   0.000184\n",
       "..        ...         ...                     ...        ...        ...\n",
       "96   0.027238           4                0.108952  24.626866   0.004424\n",
       "97   0.027808           3                0.083425  24.626866   0.003388\n",
       "98   0.028385           2                0.056770  24.626866   0.002305\n",
       "99   0.028967           1                0.028967  24.626866   0.001176\n",
       "100  0.029555           0                0.000000  24.626866   0.000000\n",
       "\n",
       "[101 rows x 5 columns]"
      ]
     },
     "execution_count": 40,
     "metadata": {},
     "output_type": "execute_result"
    }
   ],
   "source": [
    "updated_df_2 = get_posterior(priors, priors_index, chocolate_likelihood)\n",
    "updated_df_2"
   ]
  },
  {
   "cell_type": "code",
   "execution_count": 42,
   "metadata": {
    "ExecuteTime": {
     "end_time": "2021-05-17T06:29:51.104016Z",
     "start_time": "2021-05-17T06:29:50.681119Z"
    }
   },
   "outputs": [
    {
     "data": {
      "text/plain": [
       "Text(0.5, 1.0, 'Posterior, for two vanilla and one chocolate')"
      ]
     },
     "execution_count": 42,
     "metadata": {},
     "output_type": "execute_result"
    },
    {
     "data": {
      "image/png": "[encoded data removed]",
      "text/plain": [
       "<Figure size 432x288 with 1 Axes>"
      ]
     },
     "metadata": {},
     "output_type": "display_data"
    }
   ],
   "source": [
    "updated_df_2['posterior'].plot()\n",
    "\n",
    "plt.xlabel('Fraction of chocolate cookies')\n",
    "plt.ylabel('Probability')\n",
    "plt.title('Posterior, for two vanilla and one chocolate')"
   ]
  },
  {
   "cell_type": "code",
   "execution_count": null,
   "metadata": {},
   "outputs": [],
   "source": []
  }
 ],
 "metadata": {
  "kernelspec": {
   "display_name": "Python 3",
   "language": "python",
   "name": "python3"
  },
  "language_info": {
   "codemirror_mode": {
    "name": "ipython",
    "version": 3
   },
   "file_extension": ".py",
   "mimetype": "text/x-python",
   "name": "python",
   "nbconvert_exporter": "python",
   "pygments_lexer": "ipython3",
   "version": "3.6.10"
  },
  "varInspector": {
   "cols": {
    "lenName": 16,
    "lenType": 16,
    "lenVar": 40
   },
   "kernels_config": {
    "python": {
     "delete_cmd_postfix": "",
     "delete_cmd_prefix": "del ",
     "library": "var_list.py",
     "varRefreshCmd": "print(var_dic_list())"
    },
    "r": {
     "delete_cmd_postfix": ") ",
     "delete_cmd_prefix": "rm(",
     "library": "var_list.r",
     "varRefreshCmd": "cat(var_dic_list()) "
    }
   },
   "types_to_exclude": [
    "module",
    "function",
    "builtin_function_or_method",
    "instance",
    "_Feature"
   ],
   "window_display": false
  }
 },
 "nbformat": 4,
 "nbformat_minor": 4
}
