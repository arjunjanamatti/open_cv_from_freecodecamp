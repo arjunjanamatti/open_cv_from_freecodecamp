{
 "cells": [
  {
   "cell_type": "code",
   "execution_count": 24,
   "metadata": {
    "ExecuteTime": {
     "end_time": "2021-05-24T06:22:19.390103Z",
     "start_time": "2021-05-24T06:22:19.371438Z"
    }
   },
   "outputs": [
    {
     "name": "stdout",
     "output_type": "stream",
     "text": [
      "All packages installed successfuly\n"
     ]
    }
   ],
   "source": [
    "try:\n",
    "    import pandas as pd\n",
    "    pd.get_option(\"display.max_columns\")\n",
    "    import numpy as np\n",
    "    import seaborn as sns\n",
    "    sns.set_style('white')\n",
    "    sns.set_context('talk')\n",
    "    import matplotlib.pyplot as plt\n",
    "    print('All packages installed successfuly')\n",
    "except Exception as e:\n",
    "    print(f'Exception: {e}')"
   ]
  },
  {
   "cell_type": "markdown",
   "metadata": {},
   "source": [
    "### The dice problem\n",
    "\n",
    "I have a box of dice that contains\n",
    "* a 4-sided die,\n",
    "* a 6-sided die,\n",
    "* an 8-sided die,\n",
    "* a 12-sided die.\n",
    "\n",
    "Suppose I select a die from the box at random, roll it, and get a 6.\n",
    "What is the probability that I rolled each die?"
   ]
  },
  {
   "cell_type": "code",
   "execution_count": 25,
   "metadata": {
    "ExecuteTime": {
     "end_time": "2021-05-24T06:22:20.817997Z",
     "start_time": "2021-05-24T06:22:20.802761Z"
    }
   },
   "outputs": [],
   "source": [
    "priors = [1/4, 1/4, 1/4, 1/4]\n",
    "likelihood = [0,1/6, 1/8, 1/12]\n",
    "priors_index = ['4-sided die', '6-sided die', '8-sided die', '12-sided die']"
   ]
  },
  {
   "cell_type": "code",
   "execution_count": 26,
   "metadata": {
    "ExecuteTime": {
     "end_time": "2021-05-24T06:22:21.208417Z",
     "start_time": "2021-05-24T06:22:21.189079Z"
    }
   },
   "outputs": [],
   "source": [
    "def get_posterior(priors, priors_index, likelihood):\n",
    "    new_df = pd.DataFrame()\n",
    "    new_df['priors'] = priors\n",
    "    new_df['likelihood'] = likelihood\n",
    "    new_df.index = priors_index\n",
    "    new_df['unnormalized_posterior'] = new_df['priors'] * new_df['likelihood']\n",
    "    new_df['prob_data'] = [sum(new_df['unnormalized_posterior']) for num in range(len(new_df))]\n",
    "    new_df['posterior'] = (new_df['priors'] * new_df['likelihood']) / new_df['prob_data']\n",
    "    return new_df"
   ]
  },
  {
   "cell_type": "code",
   "execution_count": 27,
   "metadata": {
    "ExecuteTime": {
     "end_time": "2021-05-24T06:22:21.567583Z",
     "start_time": "2021-05-24T06:22:21.542210Z"
    }
   },
   "outputs": [
    {
     "data": {
      "text/html": [
       "<div>\n",
       "<style scoped>\n",
       "    .dataframe tbody tr th:only-of-type {\n",
       "        vertical-align: middle;\n",
       "    }\n",
       "\n",
       "    .dataframe tbody tr th {\n",
       "        vertical-align: top;\n",
       "    }\n",
       "\n",
       "    .dataframe thead th {\n",
       "        text-align: right;\n",
       "    }\n",
       "</style>\n",
       "<table border=\"1\" class=\"dataframe\">\n",
       "  <thead>\n",
       "    <tr style=\"text-align: right;\">\n",
       "      <th></th>\n",
       "      <th>priors</th>\n",
       "      <th>likelihood</th>\n",
       "      <th>unnormalized_posterior</th>\n",
       "      <th>prob_data</th>\n",
       "      <th>posterior</th>\n",
       "    </tr>\n",
       "  </thead>\n",
       "  <tbody>\n",
       "    <tr>\n",
       "      <th>4-sided die</th>\n",
       "      <td>0.25</td>\n",
       "      <td>0.000000</td>\n",
       "      <td>0.000000</td>\n",
       "      <td>0.09375</td>\n",
       "      <td>0.000000</td>\n",
       "    </tr>\n",
       "    <tr>\n",
       "      <th>6-sided die</th>\n",
       "      <td>0.25</td>\n",
       "      <td>0.166667</td>\n",
       "      <td>0.041667</td>\n",
       "      <td>0.09375</td>\n",
       "      <td>0.444444</td>\n",
       "    </tr>\n",
       "    <tr>\n",
       "      <th>8-sided die</th>\n",
       "      <td>0.25</td>\n",
       "      <td>0.125000</td>\n",
       "      <td>0.031250</td>\n",
       "      <td>0.09375</td>\n",
       "      <td>0.333333</td>\n",
       "    </tr>\n",
       "    <tr>\n",
       "      <th>12-sided die</th>\n",
       "      <td>0.25</td>\n",
       "      <td>0.083333</td>\n",
       "      <td>0.020833</td>\n",
       "      <td>0.09375</td>\n",
       "      <td>0.222222</td>\n",
       "    </tr>\n",
       "  </tbody>\n",
       "</table>\n",
       "</div>"
      ],
      "text/plain": [
       "              priors  likelihood  unnormalized_posterior  prob_data  posterior\n",
       "4-sided die     0.25    0.000000                0.000000    0.09375   0.000000\n",
       "6-sided die     0.25    0.166667                0.041667    0.09375   0.444444\n",
       "8-sided die     0.25    0.125000                0.031250    0.09375   0.333333\n",
       "12-sided die    0.25    0.083333                0.020833    0.09375   0.222222"
      ]
     },
     "execution_count": 27,
     "metadata": {},
     "output_type": "execute_result"
    }
   ],
   "source": [
    "result_df = get_posterior(priors, priors_index, likelihood)\n",
    "result_df"
   ]
  },
  {
   "cell_type": "markdown",
   "metadata": {},
   "source": [
    "* Suppose I select a die from the box at random, roll it, and get a [8, 7, 7, 5, 4].\n",
    "What is the probability that I rolled each die?"
   ]
  },
  {
   "cell_type": "code",
   "execution_count": 28,
   "metadata": {
    "ExecuteTime": {
     "end_time": "2021-05-24T06:22:22.348007Z",
     "start_time": "2021-05-24T06:22:22.339842Z"
    }
   },
   "outputs": [],
   "source": [
    "def likelihood_nest(data, dice_sides):\n",
    "    likelihood_nested = []\n",
    "    for d in data:\n",
    "        like = []\n",
    "        for dice in dice_sides:\n",
    "            if d <= dice:\n",
    "                like.append(1/dice)\n",
    "            else:\n",
    "                like.append(0)\n",
    "        print(like)\n",
    "        likelihood_nested.append(like)\n",
    "    return likelihood_nested"
   ]
  },
  {
   "cell_type": "code",
   "execution_count": 29,
   "metadata": {
    "ExecuteTime": {
     "end_time": "2021-05-24T06:22:22.829251Z",
     "start_time": "2021-05-24T06:22:22.810280Z"
    }
   },
   "outputs": [],
   "source": [
    "data = [8,7,7,5,4]\n",
    "dice_sides = [4,6,8,12]"
   ]
  },
  {
   "cell_type": "code",
   "execution_count": 30,
   "metadata": {
    "ExecuteTime": {
     "end_time": "2021-05-24T06:22:23.403375Z",
     "start_time": "2021-05-24T06:22:23.389927Z"
    }
   },
   "outputs": [
    {
     "name": "stdout",
     "output_type": "stream",
     "text": [
      "[0, 0, 0.125, 0.08333333333333333]\n",
      "[0, 0, 0.125, 0.08333333333333333]\n",
      "[0, 0, 0.125, 0.08333333333333333]\n",
      "[0, 0.16666666666666666, 0.125, 0.08333333333333333]\n",
      "[0.25, 0.16666666666666666, 0.125, 0.08333333333333333]\n"
     ]
    }
   ],
   "source": [
    "likelihood_nested = likelihood_nest(data, dice_sides)\n",
    "priors = [1/4, 1/4, 1/4, 1/4]\n",
    "priors_index = ['4-sided die', '6-sided die', '8-sided die', '12-sided die']"
   ]
  },
  {
   "cell_type": "code",
   "execution_count": 31,
   "metadata": {
    "ExecuteTime": {
     "end_time": "2021-05-24T06:22:23.982580Z",
     "start_time": "2021-05-24T06:22:23.923760Z"
    }
   },
   "outputs": [
    {
     "name": "stdout",
     "output_type": "stream",
     "text": [
      "Probability result of getting 8\n",
      "              priors  likelihood  unnormalized_posterior  prob_data  posterior\n",
      "4-sided die     0.25    0.000000                0.000000   0.052083        0.0\n",
      "6-sided die     0.25    0.000000                0.000000   0.052083        0.0\n",
      "8-sided die     0.25    0.125000                0.031250   0.052083        0.6\n",
      "12-sided die    0.25    0.083333                0.020833   0.052083        0.4\n",
      "\n",
      "Probability result of getting 7\n",
      "              priors  likelihood  unnormalized_posterior  prob_data  posterior\n",
      "4-sided die     0.25    0.000000                0.000000   0.052083        0.0\n",
      "6-sided die     0.25    0.000000                0.000000   0.052083        0.0\n",
      "8-sided die     0.25    0.125000                0.031250   0.052083        0.6\n",
      "12-sided die    0.25    0.083333                0.020833   0.052083        0.4\n",
      "\n",
      "Probability result of getting 7\n",
      "              priors  likelihood  unnormalized_posterior  prob_data  posterior\n",
      "4-sided die     0.25    0.000000                0.000000   0.052083        0.0\n",
      "6-sided die     0.25    0.000000                0.000000   0.052083        0.0\n",
      "8-sided die     0.25    0.125000                0.031250   0.052083        0.6\n",
      "12-sided die    0.25    0.083333                0.020833   0.052083        0.4\n",
      "\n",
      "Probability result of getting 5\n",
      "              priors  likelihood  unnormalized_posterior  prob_data  posterior\n",
      "4-sided die     0.25    0.000000                0.000000    0.09375   0.000000\n",
      "6-sided die     0.25    0.166667                0.041667    0.09375   0.444444\n",
      "8-sided die     0.25    0.125000                0.031250    0.09375   0.333333\n",
      "12-sided die    0.25    0.083333                0.020833    0.09375   0.222222\n",
      "\n",
      "Probability result of getting 4\n",
      "              priors  likelihood  unnormalized_posterior  prob_data  posterior\n",
      "4-sided die     0.25    0.250000                0.062500    0.15625   0.400000\n",
      "6-sided die     0.25    0.166667                0.041667    0.15625   0.266667\n",
      "8-sided die     0.25    0.125000                0.031250    0.15625   0.200000\n",
      "12-sided die    0.25    0.083333                0.020833    0.15625   0.133333\n",
      "\n"
     ]
    }
   ],
   "source": [
    "for index, likelihood in enumerate(likelihood_nested):\n",
    "    print(f'Probability result of getting {data[index]}')\n",
    "    print(get_posterior(priors, priors_index, likelihood))\n",
    "    print()"
   ]
  },
  {
   "cell_type": "code",
   "execution_count": null,
   "metadata": {},
   "outputs": [],
   "source": []
  }
 ],
 "metadata": {
  "kernelspec": {
   "display_name": "Python 3",
   "language": "python",
   "name": "python3"
  },
  "language_info": {
   "codemirror_mode": {
    "name": "ipython",
    "version": 3
   },
   "file_extension": ".py",
   "mimetype": "text/x-python",
   "name": "python",
   "nbconvert_exporter": "python",
   "pygments_lexer": "ipython3",
   "version": "3.6.10"
  },
  "varInspector": {
   "cols": {
    "lenName": 16,
    "lenType": 16,
    "lenVar": 40
   },
   "kernels_config": {
    "python": {
     "delete_cmd_postfix": "",
     "delete_cmd_prefix": "del ",
     "library": "var_list.py",
     "varRefreshCmd": "print(var_dic_list())"
    },
    "r": {
     "delete_cmd_postfix": ") ",
     "delete_cmd_prefix": "rm(",
     "library": "var_list.r",
     "varRefreshCmd": "cat(var_dic_list()) "
    }
   },
   "types_to_exclude": [
    "module",
    "function",
    "builtin_function_or_method",
    "instance",
    "_Feature"
   ],
   "window_display": false
  }
 },
 "nbformat": 4,
 "nbformat_minor": 4
}
