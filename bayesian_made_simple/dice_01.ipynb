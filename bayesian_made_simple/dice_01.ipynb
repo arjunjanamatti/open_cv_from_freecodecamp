{
 "cells": [
  {
   "cell_type": "code",
   "execution_count": 2,
   "metadata": {
    "ExecuteTime": {
     "end_time": "2021-05-25T11:30:22.867541Z",
     "start_time": "2021-05-25T11:30:17.010822Z"
    }
   },
   "outputs": [
    {
     "name": "stdout",
     "output_type": "stream",
     "text": [
      "All packages installed successfuly\n"
     ]
    }
   ],
   "source": [
    "try:\n",
    "    import pandas as pd\n",
    "    pd.get_option(\"display.max_columns\")\n",
    "    import numpy as np\n",
    "    import seaborn as sns\n",
    "    sns.set_style('white')\n",
    "    sns.set_context('talk')\n",
    "    import matplotlib.pyplot as plt\n",
    "    print('All packages installed successfuly')\n",
    "except Exception as e:\n",
    "    print(f'Exception: {e}')"
   ]
  },
  {
   "cell_type": "markdown",
   "metadata": {},
   "source": [
    "### The dice problem_01\n",
    "\n",
    "I have a box of dice that contains\n",
    "* a 4-sided die,\n",
    "* a 6-sided die,\n",
    "* an 8-sided die,\n",
    "* a 12-sided die.\n",
    "\n",
    "Suppose I select a die from the box at random, roll it, and get a 6.\n",
    "What is the probability that I rolled each die?"
   ]
  },
  {
   "cell_type": "code",
   "execution_count": 3,
   "metadata": {
    "ExecuteTime": {
     "end_time": "2021-05-25T11:30:22.913745Z",
     "start_time": "2021-05-25T11:30:22.885494Z"
    }
   },
   "outputs": [],
   "source": [
    "class dice_result:\n",
    "    def __init__(self, data, dice_sides, priors_index):\n",
    "        self.data = data\n",
    "        self.dice_sides = dice_sides\n",
    "        self.priors_index = priors_index\n",
    "        self.priors = list(np.repeat([1/len(self.dice_sides)], len(self.dice_sides)))\n",
    "        \n",
    "    def GetLikelihood(self):\n",
    "        '''\n",
    "        Will give likelihood in a single update\n",
    "        data = result from dice after randomly picking a dice from one of the dice_sides\n",
    "        dice_sides = list of dices with max sides available\n",
    "        '''\n",
    "        likelihood_l = []\n",
    "        for dice in self.dice_sides:\n",
    "            value = 1\n",
    "            for d in self.data:\n",
    "                if d <= dice:\n",
    "                    value *= (1/dice)\n",
    "                else:\n",
    "                    value *= 0\n",
    "            likelihood_l.append(value)\n",
    "        return likelihood_l\n",
    "    \n",
    "    def GetPosterior(self):\n",
    "        new_df = pd.DataFrame()\n",
    "        new_df['priors'] = self.priors\n",
    "        new_df['likelihood'] = self.GetLikelihood()\n",
    "        new_df.index = self.priors_index\n",
    "        new_df['unnormalized_posterior'] = new_df['priors'] * new_df['likelihood']\n",
    "        new_df['prob_data'] = [sum(new_df['unnormalized_posterior']) for num in range(len(new_df))]\n",
    "        new_df['posterior'] = (new_df['priors'] * new_df['likelihood']) / new_df['prob_data']\n",
    "        return new_df\n",
    "    pass"
   ]
  },
  {
   "cell_type": "code",
   "execution_count": 4,
   "metadata": {
    "ExecuteTime": {
     "end_time": "2021-05-25T11:30:23.037462Z",
     "start_time": "2021-05-25T11:30:22.932653Z"
    }
   },
   "outputs": [
    {
     "data": {
      "text/html": [
       "<div>\n",
       "<style scoped>\n",
       "    .dataframe tbody tr th:only-of-type {\n",
       "        vertical-align: middle;\n",
       "    }\n",
       "\n",
       "    .dataframe tbody tr th {\n",
       "        vertical-align: top;\n",
       "    }\n",
       "\n",
       "    .dataframe thead th {\n",
       "        text-align: right;\n",
       "    }\n",
       "</style>\n",
       "<table border=\"1\" class=\"dataframe\">\n",
       "  <thead>\n",
       "    <tr style=\"text-align: right;\">\n",
       "      <th></th>\n",
       "      <th>priors</th>\n",
       "      <th>likelihood</th>\n",
       "      <th>unnormalized_posterior</th>\n",
       "      <th>prob_data</th>\n",
       "      <th>posterior</th>\n",
       "    </tr>\n",
       "  </thead>\n",
       "  <tbody>\n",
       "    <tr>\n",
       "      <th>4-sided die</th>\n",
       "      <td>0.25</td>\n",
       "      <td>0.000000</td>\n",
       "      <td>0.000000</td>\n",
       "      <td>0.09375</td>\n",
       "      <td>0.000000</td>\n",
       "    </tr>\n",
       "    <tr>\n",
       "      <th>6-sided die</th>\n",
       "      <td>0.25</td>\n",
       "      <td>0.166667</td>\n",
       "      <td>0.041667</td>\n",
       "      <td>0.09375</td>\n",
       "      <td>0.444444</td>\n",
       "    </tr>\n",
       "    <tr>\n",
       "      <th>8-sided die</th>\n",
       "      <td>0.25</td>\n",
       "      <td>0.125000</td>\n",
       "      <td>0.031250</td>\n",
       "      <td>0.09375</td>\n",
       "      <td>0.333333</td>\n",
       "    </tr>\n",
       "    <tr>\n",
       "      <th>12-sided die</th>\n",
       "      <td>0.25</td>\n",
       "      <td>0.083333</td>\n",
       "      <td>0.020833</td>\n",
       "      <td>0.09375</td>\n",
       "      <td>0.222222</td>\n",
       "    </tr>\n",
       "  </tbody>\n",
       "</table>\n",
       "</div>"
      ],
      "text/plain": [
       "              priors  likelihood  unnormalized_posterior  prob_data  posterior\n",
       "4-sided die     0.25    0.000000                0.000000    0.09375   0.000000\n",
       "6-sided die     0.25    0.166667                0.041667    0.09375   0.444444\n",
       "8-sided die     0.25    0.125000                0.031250    0.09375   0.333333\n",
       "12-sided die    0.25    0.083333                0.020833    0.09375   0.222222"
      ]
     },
     "execution_count": 4,
     "metadata": {},
     "output_type": "execute_result"
    }
   ],
   "source": [
    "data = [6]\n",
    "dice_sides = [4,6,8,12]\n",
    "priors_index = ['4-sided die', '6-sided die', '8-sided die', '12-sided die']\n",
    "result = dice_result(data, dice_sides, priors_index)\n",
    "result_df = result.GetPosterior()\n",
    "result_df"
   ]
  },
  {
   "cell_type": "markdown",
   "metadata": {},
   "source": [
    "### The dice problem_02\n",
    "\n",
    "\n",
    "* Suppose I randomly keep selecting a dice and get the following results rolling in the randomly selected dice as [6,6,6,6]"
   ]
  },
  {
   "cell_type": "code",
   "execution_count": 5,
   "metadata": {
    "ExecuteTime": {
     "end_time": "2021-05-25T11:30:23.114094Z",
     "start_time": "2021-05-25T11:30:23.073323Z"
    }
   },
   "outputs": [
    {
     "data": {
      "text/html": [
       "<div>\n",
       "<style scoped>\n",
       "    .dataframe tbody tr th:only-of-type {\n",
       "        vertical-align: middle;\n",
       "    }\n",
       "\n",
       "    .dataframe tbody tr th {\n",
       "        vertical-align: top;\n",
       "    }\n",
       "\n",
       "    .dataframe thead th {\n",
       "        text-align: right;\n",
       "    }\n",
       "</style>\n",
       "<table border=\"1\" class=\"dataframe\">\n",
       "  <thead>\n",
       "    <tr style=\"text-align: right;\">\n",
       "      <th></th>\n",
       "      <th>priors</th>\n",
       "      <th>likelihood</th>\n",
       "      <th>unnormalized_posterior</th>\n",
       "      <th>prob_data</th>\n",
       "      <th>posterior</th>\n",
       "    </tr>\n",
       "  </thead>\n",
       "  <tbody>\n",
       "    <tr>\n",
       "      <th>4-sided die</th>\n",
       "      <td>0.25</td>\n",
       "      <td>0.000000</td>\n",
       "      <td>0.000000</td>\n",
       "      <td>0.000266</td>\n",
       "      <td>0.000000</td>\n",
       "    </tr>\n",
       "    <tr>\n",
       "      <th>6-sided die</th>\n",
       "      <td>0.25</td>\n",
       "      <td>0.000772</td>\n",
       "      <td>0.000193</td>\n",
       "      <td>0.000266</td>\n",
       "      <td>0.725212</td>\n",
       "    </tr>\n",
       "    <tr>\n",
       "      <th>8-sided die</th>\n",
       "      <td>0.25</td>\n",
       "      <td>0.000244</td>\n",
       "      <td>0.000061</td>\n",
       "      <td>0.000266</td>\n",
       "      <td>0.229462</td>\n",
       "    </tr>\n",
       "    <tr>\n",
       "      <th>12-sided die</th>\n",
       "      <td>0.25</td>\n",
       "      <td>0.000048</td>\n",
       "      <td>0.000012</td>\n",
       "      <td>0.000266</td>\n",
       "      <td>0.045326</td>\n",
       "    </tr>\n",
       "  </tbody>\n",
       "</table>\n",
       "</div>"
      ],
      "text/plain": [
       "              priors  likelihood  unnormalized_posterior  prob_data  posterior\n",
       "4-sided die     0.25    0.000000                0.000000   0.000266   0.000000\n",
       "6-sided die     0.25    0.000772                0.000193   0.000266   0.725212\n",
       "8-sided die     0.25    0.000244                0.000061   0.000266   0.229462\n",
       "12-sided die    0.25    0.000048                0.000012   0.000266   0.045326"
      ]
     },
     "execution_count": 5,
     "metadata": {},
     "output_type": "execute_result"
    }
   ],
   "source": [
    "data = [6,6,6,6]\n",
    "dice_sides = [4,6,8,12]\n",
    "priors_index = ['4-sided die', '6-sided die', '8-sided die', '12-sided die']\n",
    "result = dice_result(data, dice_sides, priors_index)\n",
    "result_df = result.GetPosterior()\n",
    "result_df"
   ]
  },
  {
   "cell_type": "markdown",
   "metadata": {},
   "source": [
    "* Above results that the posterior for a 6 sided die increases, since each time I am getting only 6 after rolling in, there is no other number I getting after rolling in the dice."
   ]
  },
  {
   "cell_type": "markdown",
   "metadata": {},
   "source": [
    "### The dice problem_03\n",
    "\n",
    "\n",
    "* Suppose I randomly keep selecting a dice and get the following results rolling in the randomly selected dice as [6,8,7,7,5,4]"
   ]
  },
  {
   "cell_type": "code",
   "execution_count": 6,
   "metadata": {
    "ExecuteTime": {
     "end_time": "2021-05-25T11:30:23.191123Z",
     "start_time": "2021-05-25T11:30:23.148550Z"
    }
   },
   "outputs": [
    {
     "data": {
      "text/html": [
       "<div>\n",
       "<style scoped>\n",
       "    .dataframe tbody tr th:only-of-type {\n",
       "        vertical-align: middle;\n",
       "    }\n",
       "\n",
       "    .dataframe tbody tr th {\n",
       "        vertical-align: top;\n",
       "    }\n",
       "\n",
       "    .dataframe thead th {\n",
       "        text-align: right;\n",
       "    }\n",
       "</style>\n",
       "<table border=\"1\" class=\"dataframe\">\n",
       "  <thead>\n",
       "    <tr style=\"text-align: right;\">\n",
       "      <th></th>\n",
       "      <th>priors</th>\n",
       "      <th>likelihood</th>\n",
       "      <th>unnormalized_posterior</th>\n",
       "      <th>prob_data</th>\n",
       "      <th>posterior</th>\n",
       "    </tr>\n",
       "  </thead>\n",
       "  <tbody>\n",
       "    <tr>\n",
       "      <th>4-sided die</th>\n",
       "      <td>0.25</td>\n",
       "      <td>0.000000e+00</td>\n",
       "      <td>0.000000e+00</td>\n",
       "      <td>0.000001</td>\n",
       "      <td>0.000000</td>\n",
       "    </tr>\n",
       "    <tr>\n",
       "      <th>6-sided die</th>\n",
       "      <td>0.25</td>\n",
       "      <td>0.000000e+00</td>\n",
       "      <td>0.000000e+00</td>\n",
       "      <td>0.000001</td>\n",
       "      <td>0.000000</td>\n",
       "    </tr>\n",
       "    <tr>\n",
       "      <th>8-sided die</th>\n",
       "      <td>0.25</td>\n",
       "      <td>3.814697e-06</td>\n",
       "      <td>9.536743e-07</td>\n",
       "      <td>0.000001</td>\n",
       "      <td>0.919294</td>\n",
       "    </tr>\n",
       "    <tr>\n",
       "      <th>12-sided die</th>\n",
       "      <td>0.25</td>\n",
       "      <td>3.348980e-07</td>\n",
       "      <td>8.372449e-08</td>\n",
       "      <td>0.000001</td>\n",
       "      <td>0.080706</td>\n",
       "    </tr>\n",
       "  </tbody>\n",
       "</table>\n",
       "</div>"
      ],
      "text/plain": [
       "              priors    likelihood  unnormalized_posterior  prob_data  \\\n",
       "4-sided die     0.25  0.000000e+00            0.000000e+00   0.000001   \n",
       "6-sided die     0.25  0.000000e+00            0.000000e+00   0.000001   \n",
       "8-sided die     0.25  3.814697e-06            9.536743e-07   0.000001   \n",
       "12-sided die    0.25  3.348980e-07            8.372449e-08   0.000001   \n",
       "\n",
       "              posterior  \n",
       "4-sided die    0.000000  \n",
       "6-sided die    0.000000  \n",
       "8-sided die    0.919294  \n",
       "12-sided die   0.080706  "
      ]
     },
     "execution_count": 6,
     "metadata": {},
     "output_type": "execute_result"
    }
   ],
   "source": [
    "data = [6,8,7,7,5,4]\n",
    "dice_sides = [4,6,8,12]\n",
    "priors_index = ['4-sided die', '6-sided die', '8-sided die', '12-sided die']\n",
    "result = dice_result(data, dice_sides, priors_index)\n",
    "result_df = result.GetPosterior()\n",
    "result_df"
   ]
  },
  {
   "cell_type": "markdown",
   "metadata": {},
   "source": [
    "### German Tank problem\n",
    "\n",
    "* Serial numbers in blocks of 100 were alloted\n",
    "* Not all numbers used.\n",
    "* Randomly captured a tank with serial number 42\n",
    "* What should we believe is the number of tanks produced in the above factory\n",
    "\n",
    "Assumption: All the tanks are equally likely to be captured and certain amount of independence "
   ]
  },
  {
   "cell_type": "code",
   "execution_count": 21,
   "metadata": {
    "ExecuteTime": {
     "end_time": "2021-05-25T11:44:03.439053Z",
     "start_time": "2021-05-25T11:44:03.370603Z"
    }
   },
   "outputs": [
    {
     "data": {
      "text/html": [
       "<div>\n",
       "<style scoped>\n",
       "    .dataframe tbody tr th:only-of-type {\n",
       "        vertical-align: middle;\n",
       "    }\n",
       "\n",
       "    .dataframe tbody tr th {\n",
       "        vertical-align: top;\n",
       "    }\n",
       "\n",
       "    .dataframe thead th {\n",
       "        text-align: right;\n",
       "    }\n",
       "</style>\n",
       "<table border=\"1\" class=\"dataframe\">\n",
       "  <thead>\n",
       "    <tr style=\"text-align: right;\">\n",
       "      <th></th>\n",
       "      <th>priors</th>\n",
       "      <th>likelihood</th>\n",
       "      <th>unnormalized_posterior</th>\n",
       "      <th>prob_data</th>\n",
       "      <th>posterior</th>\n",
       "    </tr>\n",
       "  </thead>\n",
       "  <tbody>\n",
       "    <tr>\n",
       "      <th>0_serial_number</th>\n",
       "      <td>0.01</td>\n",
       "      <td>0.000000</td>\n",
       "      <td>0.000000</td>\n",
       "      <td>0.008744</td>\n",
       "      <td>0.000000</td>\n",
       "    </tr>\n",
       "    <tr>\n",
       "      <th>1_serial_number</th>\n",
       "      <td>0.01</td>\n",
       "      <td>0.000000</td>\n",
       "      <td>0.000000</td>\n",
       "      <td>0.008744</td>\n",
       "      <td>0.000000</td>\n",
       "    </tr>\n",
       "    <tr>\n",
       "      <th>2_serial_number</th>\n",
       "      <td>0.01</td>\n",
       "      <td>0.000000</td>\n",
       "      <td>0.000000</td>\n",
       "      <td>0.008744</td>\n",
       "      <td>0.000000</td>\n",
       "    </tr>\n",
       "    <tr>\n",
       "      <th>3_serial_number</th>\n",
       "      <td>0.01</td>\n",
       "      <td>0.000000</td>\n",
       "      <td>0.000000</td>\n",
       "      <td>0.008744</td>\n",
       "      <td>0.000000</td>\n",
       "    </tr>\n",
       "    <tr>\n",
       "      <th>4_serial_number</th>\n",
       "      <td>0.01</td>\n",
       "      <td>0.000000</td>\n",
       "      <td>0.000000</td>\n",
       "      <td>0.008744</td>\n",
       "      <td>0.000000</td>\n",
       "    </tr>\n",
       "    <tr>\n",
       "      <th>...</th>\n",
       "      <td>...</td>\n",
       "      <td>...</td>\n",
       "      <td>...</td>\n",
       "      <td>...</td>\n",
       "      <td>...</td>\n",
       "    </tr>\n",
       "    <tr>\n",
       "      <th>95_serial_number</th>\n",
       "      <td>0.01</td>\n",
       "      <td>0.010526</td>\n",
       "      <td>0.000105</td>\n",
       "      <td>0.008744</td>\n",
       "      <td>0.012038</td>\n",
       "    </tr>\n",
       "    <tr>\n",
       "      <th>96_serial_number</th>\n",
       "      <td>0.01</td>\n",
       "      <td>0.010417</td>\n",
       "      <td>0.000104</td>\n",
       "      <td>0.008744</td>\n",
       "      <td>0.011912</td>\n",
       "    </tr>\n",
       "    <tr>\n",
       "      <th>97_serial_number</th>\n",
       "      <td>0.01</td>\n",
       "      <td>0.010309</td>\n",
       "      <td>0.000103</td>\n",
       "      <td>0.008744</td>\n",
       "      <td>0.011790</td>\n",
       "    </tr>\n",
       "    <tr>\n",
       "      <th>98_serial_number</th>\n",
       "      <td>0.01</td>\n",
       "      <td>0.010204</td>\n",
       "      <td>0.000102</td>\n",
       "      <td>0.008744</td>\n",
       "      <td>0.011669</td>\n",
       "    </tr>\n",
       "    <tr>\n",
       "      <th>99_serial_number</th>\n",
       "      <td>0.01</td>\n",
       "      <td>0.010101</td>\n",
       "      <td>0.000101</td>\n",
       "      <td>0.008744</td>\n",
       "      <td>0.011551</td>\n",
       "    </tr>\n",
       "  </tbody>\n",
       "</table>\n",
       "<p>100 rows × 5 columns</p>\n",
       "</div>"
      ],
      "text/plain": [
       "                  priors  likelihood  unnormalized_posterior  prob_data  \\\n",
       "0_serial_number     0.01    0.000000                0.000000   0.008744   \n",
       "1_serial_number     0.01    0.000000                0.000000   0.008744   \n",
       "2_serial_number     0.01    0.000000                0.000000   0.008744   \n",
       "3_serial_number     0.01    0.000000                0.000000   0.008744   \n",
       "4_serial_number     0.01    0.000000                0.000000   0.008744   \n",
       "...                  ...         ...                     ...        ...   \n",
       "95_serial_number    0.01    0.010526                0.000105   0.008744   \n",
       "96_serial_number    0.01    0.010417                0.000104   0.008744   \n",
       "97_serial_number    0.01    0.010309                0.000103   0.008744   \n",
       "98_serial_number    0.01    0.010204                0.000102   0.008744   \n",
       "99_serial_number    0.01    0.010101                0.000101   0.008744   \n",
       "\n",
       "                  posterior  \n",
       "0_serial_number    0.000000  \n",
       "1_serial_number    0.000000  \n",
       "2_serial_number    0.000000  \n",
       "3_serial_number    0.000000  \n",
       "4_serial_number    0.000000  \n",
       "...                     ...  \n",
       "95_serial_number   0.012038  \n",
       "96_serial_number   0.011912  \n",
       "97_serial_number   0.011790  \n",
       "98_serial_number   0.011669  \n",
       "99_serial_number   0.011551  \n",
       "\n",
       "[100 rows x 5 columns]"
      ]
     },
     "execution_count": 21,
     "metadata": {},
     "output_type": "execute_result"
    }
   ],
   "source": [
    "data = [42]\n",
    "alloted_serial_numbers = list(range(0,100))\n",
    "priors_index = [f'{num}_serial_number' for num in list(range(0,100))]\n",
    "result = dice_result(data, alloted_serial_numbers, priors_index)\n",
    "result_df = result.GetPosterior()\n",
    "result_df"
   ]
  },
  {
   "cell_type": "markdown",
   "metadata": {},
   "source": [
    "* Since we have randomly picked up tank number 42, the number of tanks produced in that factory is likely to be"
   ]
  },
  {
   "cell_type": "code",
   "execution_count": 22,
   "metadata": {
    "ExecuteTime": {
     "end_time": "2021-05-25T11:44:04.267847Z",
     "start_time": "2021-05-25T11:44:04.247146Z"
    }
   },
   "outputs": [
    {
     "name": "stdout",
     "output_type": "stream",
     "text": [
      "The number of tanks produced in that factory is likely to be 66.33\n"
     ]
    }
   ],
   "source": [
    "prob_produced = (np.mean(result_df['posterior'] * alloted_serial_numbers))*100\n",
    "print(f'The number of tanks produced in that factory is likely to be {round(prob_produced, 2)}')"
   ]
  },
  {
   "cell_type": "code",
   "execution_count": 23,
   "metadata": {
    "ExecuteTime": {
     "end_time": "2021-05-25T11:44:09.039573Z",
     "start_time": "2021-05-25T11:44:08.579760Z"
    }
   },
   "outputs": [
    {
     "data": {
      "text/plain": [
       "<matplotlib.axes._subplots.AxesSubplot at 0x2b817055080>"
      ]
     },
     "execution_count": 23,
     "metadata": {},
     "output_type": "execute_result"
    },
    {
     "data": {
      "image/png": "[encoded data removed]",
      "text/plain": [
       "<Figure size 432x288 with 1 Axes>"
      ]
     },
     "metadata": {},
     "output_type": "display_data"
    }
   ],
   "source": [
    "result_df.index = alloted_serial_numbers\n",
    "result_df['posterior'].plot()"
   ]
  },
  {
   "cell_type": "markdown",
   "metadata": {},
   "source": [
    "### Exercise 3: \n",
    "* Suppose we see another tank with serial number 17. What effect does this have on the posterior probabilities?"
   ]
  },
  {
   "cell_type": "code",
   "execution_count": 20,
   "metadata": {
    "ExecuteTime": {
     "end_time": "2021-05-25T11:43:56.081836Z",
     "start_time": "2021-05-25T11:43:56.018920Z"
    }
   },
   "outputs": [
    {
     "data": {
      "text/html": [
       "<div>\n",
       "<style scoped>\n",
       "    .dataframe tbody tr th:only-of-type {\n",
       "        vertical-align: middle;\n",
       "    }\n",
       "\n",
       "    .dataframe tbody tr th {\n",
       "        vertical-align: top;\n",
       "    }\n",
       "\n",
       "    .dataframe thead th {\n",
       "        text-align: right;\n",
       "    }\n",
       "</style>\n",
       "<table border=\"1\" class=\"dataframe\">\n",
       "  <thead>\n",
       "    <tr style=\"text-align: right;\">\n",
       "      <th></th>\n",
       "      <th>priors</th>\n",
       "      <th>likelihood</th>\n",
       "      <th>unnormalized_posterior</th>\n",
       "      <th>prob_data</th>\n",
       "      <th>posterior</th>\n",
       "    </tr>\n",
       "  </thead>\n",
       "  <tbody>\n",
       "    <tr>\n",
       "      <th>0_serial_number</th>\n",
       "      <td>0.01</td>\n",
       "      <td>0.000000</td>\n",
       "      <td>0.000000</td>\n",
       "      <td>0.00014</td>\n",
       "      <td>0.000000</td>\n",
       "    </tr>\n",
       "    <tr>\n",
       "      <th>1_serial_number</th>\n",
       "      <td>0.01</td>\n",
       "      <td>0.000000</td>\n",
       "      <td>0.000000</td>\n",
       "      <td>0.00014</td>\n",
       "      <td>0.000000</td>\n",
       "    </tr>\n",
       "    <tr>\n",
       "      <th>2_serial_number</th>\n",
       "      <td>0.01</td>\n",
       "      <td>0.000000</td>\n",
       "      <td>0.000000</td>\n",
       "      <td>0.00014</td>\n",
       "      <td>0.000000</td>\n",
       "    </tr>\n",
       "    <tr>\n",
       "      <th>3_serial_number</th>\n",
       "      <td>0.01</td>\n",
       "      <td>0.000000</td>\n",
       "      <td>0.000000</td>\n",
       "      <td>0.00014</td>\n",
       "      <td>0.000000</td>\n",
       "    </tr>\n",
       "    <tr>\n",
       "      <th>4_serial_number</th>\n",
       "      <td>0.01</td>\n",
       "      <td>0.000000</td>\n",
       "      <td>0.000000</td>\n",
       "      <td>0.00014</td>\n",
       "      <td>0.000000</td>\n",
       "    </tr>\n",
       "    <tr>\n",
       "      <th>...</th>\n",
       "      <td>...</td>\n",
       "      <td>...</td>\n",
       "      <td>...</td>\n",
       "      <td>...</td>\n",
       "      <td>...</td>\n",
       "    </tr>\n",
       "    <tr>\n",
       "      <th>95_serial_number</th>\n",
       "      <td>0.01</td>\n",
       "      <td>0.000111</td>\n",
       "      <td>0.000001</td>\n",
       "      <td>0.00014</td>\n",
       "      <td>0.007889</td>\n",
       "    </tr>\n",
       "    <tr>\n",
       "      <th>96_serial_number</th>\n",
       "      <td>0.01</td>\n",
       "      <td>0.000109</td>\n",
       "      <td>0.000001</td>\n",
       "      <td>0.00014</td>\n",
       "      <td>0.007726</td>\n",
       "    </tr>\n",
       "    <tr>\n",
       "      <th>97_serial_number</th>\n",
       "      <td>0.01</td>\n",
       "      <td>0.000106</td>\n",
       "      <td>0.000001</td>\n",
       "      <td>0.00014</td>\n",
       "      <td>0.007567</td>\n",
       "    </tr>\n",
       "    <tr>\n",
       "      <th>98_serial_number</th>\n",
       "      <td>0.01</td>\n",
       "      <td>0.000104</td>\n",
       "      <td>0.000001</td>\n",
       "      <td>0.00014</td>\n",
       "      <td>0.007414</td>\n",
       "    </tr>\n",
       "    <tr>\n",
       "      <th>99_serial_number</th>\n",
       "      <td>0.01</td>\n",
       "      <td>0.000102</td>\n",
       "      <td>0.000001</td>\n",
       "      <td>0.00014</td>\n",
       "      <td>0.007265</td>\n",
       "    </tr>\n",
       "  </tbody>\n",
       "</table>\n",
       "<p>100 rows × 5 columns</p>\n",
       "</div>"
      ],
      "text/plain": [
       "                  priors  likelihood  unnormalized_posterior  prob_data  \\\n",
       "0_serial_number     0.01    0.000000                0.000000    0.00014   \n",
       "1_serial_number     0.01    0.000000                0.000000    0.00014   \n",
       "2_serial_number     0.01    0.000000                0.000000    0.00014   \n",
       "3_serial_number     0.01    0.000000                0.000000    0.00014   \n",
       "4_serial_number     0.01    0.000000                0.000000    0.00014   \n",
       "...                  ...         ...                     ...        ...   \n",
       "95_serial_number    0.01    0.000111                0.000001    0.00014   \n",
       "96_serial_number    0.01    0.000109                0.000001    0.00014   \n",
       "97_serial_number    0.01    0.000106                0.000001    0.00014   \n",
       "98_serial_number    0.01    0.000104                0.000001    0.00014   \n",
       "99_serial_number    0.01    0.000102                0.000001    0.00014   \n",
       "\n",
       "                  posterior  \n",
       "0_serial_number    0.000000  \n",
       "1_serial_number    0.000000  \n",
       "2_serial_number    0.000000  \n",
       "3_serial_number    0.000000  \n",
       "4_serial_number    0.000000  \n",
       "...                     ...  \n",
       "95_serial_number   0.007889  \n",
       "96_serial_number   0.007726  \n",
       "97_serial_number   0.007567  \n",
       "98_serial_number   0.007414  \n",
       "99_serial_number   0.007265  \n",
       "\n",
       "[100 rows x 5 columns]"
      ]
     },
     "execution_count": 20,
     "metadata": {},
     "output_type": "execute_result"
    }
   ],
   "source": [
    "data = [42, 17]\n",
    "alloted_serial_numbers = list(range(0,100))\n",
    "priors_index = [f'{num}_serial_number' for num in list(range(0,100))]\n",
    "result = dice_result(data, alloted_serial_numbers, priors_index)\n",
    "result_df_updated = result.GetPosterior()\n",
    "result_df_updated"
   ]
  },
  {
   "cell_type": "markdown",
   "metadata": {},
   "source": [
    "* Since we have randomly picked up two tanks with number 42 and 17, the number of tanks produced in that factory is likely to be"
   ]
  },
  {
   "cell_type": "code",
   "execution_count": 24,
   "metadata": {
    "ExecuteTime": {
     "end_time": "2021-05-25T11:44:20.786754Z",
     "start_time": "2021-05-25T11:44:20.767404Z"
    }
   },
   "outputs": [
    {
     "name": "stdout",
     "output_type": "stream",
     "text": [
      "The number of tanks produced in that factory is likely to be 62.26\n"
     ]
    }
   ],
   "source": [
    "prob_produced = (np.mean(result_df_updated['posterior'] * alloted_serial_numbers))*100\n",
    "print(f'The number of tanks produced in that factory is likely to be {round(prob_produced, 2)}')"
   ]
  },
  {
   "cell_type": "code",
   "execution_count": 36,
   "metadata": {
    "ExecuteTime": {
     "end_time": "2021-05-25T11:54:21.293698Z",
     "start_time": "2021-05-25T11:54:20.841244Z"
    }
   },
   "outputs": [
    {
     "data": {
      "image/png": "[encoded data removed]",
      "text/plain": [
       "<Figure size 432x288 with 1 Axes>"
      ]
     },
     "metadata": {},
     "output_type": "display_data"
    }
   ],
   "source": [
    "result_df_updated['alloted_serial_numbers'] = alloted_serial_numbers\n",
    "result_df_updated.plot(x = 'alloted_serial_numbers', y = 'posterior')\n",
    "result_df['posterior'].plot()\n",
    "plt.legend(['two tanks', 'single tank'])\n",
    "plt.show()"
   ]
  },
  {
   "cell_type": "code",
   "execution_count": null,
   "metadata": {},
   "outputs": [],
   "source": []
  }
 ],
 "metadata": {
  "kernelspec": {
   "display_name": "Python 3",
   "language": "python",
   "name": "python3"
  },
  "language_info": {
   "codemirror_mode": {
    "name": "ipython",
    "version": 3
   },
   "file_extension": ".py",
   "mimetype": "text/x-python",
   "name": "python",
   "nbconvert_exporter": "python",
   "pygments_lexer": "ipython3",
   "version": "3.6.10"
  },
  "varInspector": {
   "cols": {
    "lenName": 16,
    "lenType": 16,
    "lenVar": 40
   },
   "kernels_config": {
    "python": {
     "delete_cmd_postfix": "",
     "delete_cmd_prefix": "del ",
     "library": "var_list.py",
     "varRefreshCmd": "print(var_dic_list())"
    },
    "r": {
     "delete_cmd_postfix": ") ",
     "delete_cmd_prefix": "rm(",
     "library": "var_list.r",
     "varRefreshCmd": "cat(var_dic_list()) "
    }
   },
   "types_to_exclude": [
    "module",
    "function",
    "builtin_function_or_method",
    "instance",
    "_Feature"
   ],
   "window_display": false
  }
 },
 "nbformat": 4,
 "nbformat_minor": 4
}
