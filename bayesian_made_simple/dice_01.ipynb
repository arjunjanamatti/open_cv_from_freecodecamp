{
 "cells": [
  {
   "cell_type": "code",
   "execution_count": 1,
   "metadata": {
    "ExecuteTime": {
     "end_time": "2021-05-24T07:30:23.578353Z",
     "start_time": "2021-05-24T07:30:21.418887Z"
    }
   },
   "outputs": [
    {
     "name": "stderr",
     "output_type": "stream",
     "text": [
      "C:\\Users\\Arjun Janamatti\\Anaconda3\\envs\\tf_nptel\\lib\\site-packages\\numpy\\core\\__init__.py:29: UserWarning: loaded more than 1 DLL from .libs:\n",
      "C:\\Users\\Arjun Janamatti\\Anaconda3\\envs\\tf_nptel\\lib\\site-packages\\numpy\\.libs\\libopenblas.PYQHXLVVQ7VESDPUVUADXEVJOBGHJPAY.gfortran-win_amd64.dll\n",
      "C:\\Users\\Arjun Janamatti\\Anaconda3\\envs\\tf_nptel\\lib\\site-packages\\numpy\\.libs\\libopenblas.TXA6YQSD3GCQQC22GEQ54J2UDCXDXHWN.gfortran-win_amd64.dll\n",
      "  stacklevel=1)\n"
     ]
    },
    {
     "name": "stdout",
     "output_type": "stream",
     "text": [
      "All packages installed successfuly\n"
     ]
    }
   ],
   "source": [
    "try:\n",
    "    import pandas as pd\n",
    "    pd.get_option(\"display.max_columns\")\n",
    "    import numpy as np\n",
    "    import seaborn as sns\n",
    "    sns.set_style('white')\n",
    "    sns.set_context('talk')\n",
    "    import matplotlib.pyplot as plt\n",
    "    print('All packages installed successfuly')\n",
    "except Exception as e:\n",
    "    print(f'Exception: {e}')"
   ]
  },
  {
   "cell_type": "markdown",
   "metadata": {},
   "source": [
    "### The dice problem_01\n",
    "\n",
    "I have a box of dice that contains\n",
    "* a 4-sided die,\n",
    "* a 6-sided die,\n",
    "* an 8-sided die,\n",
    "* a 12-sided die.\n",
    "\n",
    "Suppose I select a die from the box at random, roll it, and get a 6.\n",
    "What is the probability that I rolled each die?"
   ]
  },
  {
   "cell_type": "code",
   "execution_count": 2,
   "metadata": {
    "ExecuteTime": {
     "end_time": "2021-05-24T07:30:23.593580Z",
     "start_time": "2021-05-24T07:30:23.581315Z"
    }
   },
   "outputs": [],
   "source": [
    "priors = [1/4, 1/4, 1/4, 1/4]\n",
    "likelihood = [0,1/6, 1/8, 1/12]\n",
    "priors_index = ['4-sided die', '6-sided die', '8-sided die', '12-sided die']"
   ]
  },
  {
   "cell_type": "code",
   "execution_count": 14,
   "metadata": {
    "ExecuteTime": {
     "end_time": "2021-05-24T08:36:58.264605Z",
     "start_time": "2021-05-24T08:36:58.256075Z"
    }
   },
   "outputs": [
    {
     "data": {
      "text/plain": [
       "[0.25, 0.25, 0.25, 0.25]"
      ]
     },
     "execution_count": 14,
     "metadata": {},
     "output_type": "execute_result"
    }
   ],
   "source": [
    "list(np.repeat([1/len((dice_sides))], len(dice_sides)))"
   ]
  },
  {
   "cell_type": "code",
   "execution_count": 15,
   "metadata": {
    "ExecuteTime": {
     "end_time": "2021-05-24T08:40:27.704826Z",
     "start_time": "2021-05-24T08:40:27.694337Z"
    }
   },
   "outputs": [],
   "source": [
    "class dice_result:\n",
    "    def __init__(self, data, dice_sides, priors_index):\n",
    "        self.data = data\n",
    "        self.dice_sides = dice_sides\n",
    "        self.priors_index = priors_index\n",
    "        self.priors = list(np.repeat([1/len(self.dice_sides)], len(self.dice_sides)))\n",
    "        \n",
    "    def GetLikelihood(self):\n",
    "        '''\n",
    "        Will give likelihood in a single update\n",
    "        data = result from dice after randomly picking a dice from one of the dice_sides\n",
    "        dice_sides = list of dices with max sides available\n",
    "        '''\n",
    "        likelihood_l = []\n",
    "        for dice in self.dice_sides:\n",
    "            value = 1\n",
    "            for d in self.data:\n",
    "                if d <= dice:\n",
    "                    value *= (1/dice)\n",
    "                else:\n",
    "                    value *= 0\n",
    "            likelihood_l.append(value)\n",
    "        return likelihood_l\n",
    "    \n",
    "    def GetPost():\n",
    "        new_df = pd.DataFrame()\n",
    "        new_df['priors'] = self.priors\n",
    "        new_df['likelihood'] = self.GetLikelihood()\n",
    "        new_df.index = self.priors_index\n",
    "        new_df['unnormalized_posterior'] = new_df['priors'] * new_df['likelihood']\n",
    "        new_df['prob_data'] = [sum(new_df['unnormalized_posterior']) for num in range(len(new_df))]\n",
    "        new_df['posterior'] = (new_df['priors'] * new_df['likelihood']) / new_df['prob_data']\n",
    "        return new_df\n",
    "    pass"
   ]
  },
  {
   "cell_type": "code",
   "execution_count": null,
   "metadata": {},
   "outputs": [],
   "source": [
    "data = [8, 7, 7, 5, 4]\n",
    "dice_sides = [4,6,8,12]\n",
    "priors_index = ['4-sided die', '6-sided die', '8-sided die', '12-sided die']\n",
    "result_df = "
   ]
  },
  {
   "cell_type": "code",
   "execution_count": 3,
   "metadata": {
    "ExecuteTime": {
     "end_time": "2021-05-24T07:30:23.608580Z",
     "start_time": "2021-05-24T07:30:23.595578Z"
    }
   },
   "outputs": [],
   "source": [
    "def get_posterior(priors, priors_index, likelihood):\n",
    "    new_df = pd.DataFrame()\n",
    "    new_df['priors'] = priors\n",
    "    new_df['likelihood'] = likelihood\n",
    "    new_df.index = priors_index\n",
    "    new_df['unnormalized_posterior'] = new_df['priors'] * new_df['likelihood']\n",
    "    new_df['prob_data'] = [sum(new_df['unnormalized_posterior']) for num in range(len(new_df))]\n",
    "    new_df['posterior'] = (new_df['priors'] * new_df['likelihood']) / new_df['prob_data']\n",
    "    return new_df"
   ]
  },
  {
   "cell_type": "code",
   "execution_count": 4,
   "metadata": {
    "ExecuteTime": {
     "end_time": "2021-05-24T07:30:23.655579Z",
     "start_time": "2021-05-24T07:30:23.610582Z"
    }
   },
   "outputs": [
    {
     "data": {
      "text/html": [
       "<div>\n",
       "<style scoped>\n",
       "    .dataframe tbody tr th:only-of-type {\n",
       "        vertical-align: middle;\n",
       "    }\n",
       "\n",
       "    .dataframe tbody tr th {\n",
       "        vertical-align: top;\n",
       "    }\n",
       "\n",
       "    .dataframe thead th {\n",
       "        text-align: right;\n",
       "    }\n",
       "</style>\n",
       "<table border=\"1\" class=\"dataframe\">\n",
       "  <thead>\n",
       "    <tr style=\"text-align: right;\">\n",
       "      <th></th>\n",
       "      <th>priors</th>\n",
       "      <th>likelihood</th>\n",
       "      <th>unnormalized_posterior</th>\n",
       "      <th>prob_data</th>\n",
       "      <th>posterior</th>\n",
       "    </tr>\n",
       "  </thead>\n",
       "  <tbody>\n",
       "    <tr>\n",
       "      <th>4-sided die</th>\n",
       "      <td>0.25</td>\n",
       "      <td>0.000000</td>\n",
       "      <td>0.000000</td>\n",
       "      <td>0.09375</td>\n",
       "      <td>0.000000</td>\n",
       "    </tr>\n",
       "    <tr>\n",
       "      <th>6-sided die</th>\n",
       "      <td>0.25</td>\n",
       "      <td>0.166667</td>\n",
       "      <td>0.041667</td>\n",
       "      <td>0.09375</td>\n",
       "      <td>0.444444</td>\n",
       "    </tr>\n",
       "    <tr>\n",
       "      <th>8-sided die</th>\n",
       "      <td>0.25</td>\n",
       "      <td>0.125000</td>\n",
       "      <td>0.031250</td>\n",
       "      <td>0.09375</td>\n",
       "      <td>0.333333</td>\n",
       "    </tr>\n",
       "    <tr>\n",
       "      <th>12-sided die</th>\n",
       "      <td>0.25</td>\n",
       "      <td>0.083333</td>\n",
       "      <td>0.020833</td>\n",
       "      <td>0.09375</td>\n",
       "      <td>0.222222</td>\n",
       "    </tr>\n",
       "  </tbody>\n",
       "</table>\n",
       "</div>"
      ],
      "text/plain": [
       "              priors  likelihood  unnormalized_posterior  prob_data  posterior\n",
       "4-sided die     0.25    0.000000                0.000000    0.09375   0.000000\n",
       "6-sided die     0.25    0.166667                0.041667    0.09375   0.444444\n",
       "8-sided die     0.25    0.125000                0.031250    0.09375   0.333333\n",
       "12-sided die    0.25    0.083333                0.020833    0.09375   0.222222"
      ]
     },
     "execution_count": 4,
     "metadata": {},
     "output_type": "execute_result"
    }
   ],
   "source": [
    "result_df = get_posterior(priors, priors_index, likelihood)\n",
    "result_df"
   ]
  },
  {
   "cell_type": "markdown",
   "metadata": {},
   "source": [
    "### The dice problem_02\n",
    "\n",
    "\n",
    "* Suppose I randomly keep selecting a dice and get the following results rolling in the randomly selected dice as [6,6,6,6]"
   ]
  },
  {
   "cell_type": "code",
   "execution_count": 5,
   "metadata": {
    "ExecuteTime": {
     "end_time": "2021-05-24T07:30:23.671623Z",
     "start_time": "2021-05-24T07:30:23.657689Z"
    }
   },
   "outputs": [],
   "source": [
    "def get_likelihood(data, dice_sides):\n",
    "    '''\n",
    "    Will give likelihood in a single update\n",
    "    data = result from dice after randomly picking a dice from one of the dice_sides\n",
    "    dice_sides = list of dices with max sides available\n",
    "    '''\n",
    "    likelihood_l = []\n",
    "    for dice in dice_sides:\n",
    "        value = 1\n",
    "        for d in data:\n",
    "            if d <= dice:\n",
    "                value *= (1/dice)\n",
    "            else:\n",
    "                value *= 0\n",
    "        likelihood_l.append(value)\n",
    "    return likelihood_l\n",
    "    "
   ]
  },
  {
   "cell_type": "code",
   "execution_count": 10,
   "metadata": {
    "ExecuteTime": {
     "end_time": "2021-05-24T07:36:36.594709Z",
     "start_time": "2021-05-24T07:36:36.586032Z"
    }
   },
   "outputs": [],
   "source": [
    "data = [8, 7, 7, 5, 4]\n",
    "dice_sides = [4,6,8,12]"
   ]
  },
  {
   "cell_type": "code",
   "execution_count": 11,
   "metadata": {
    "ExecuteTime": {
     "end_time": "2021-05-24T07:36:37.031010Z",
     "start_time": "2021-05-24T07:36:37.007174Z"
    }
   },
   "outputs": [
    {
     "data": {
      "text/html": [
       "<div>\n",
       "<style scoped>\n",
       "    .dataframe tbody tr th:only-of-type {\n",
       "        vertical-align: middle;\n",
       "    }\n",
       "\n",
       "    .dataframe tbody tr th {\n",
       "        vertical-align: top;\n",
       "    }\n",
       "\n",
       "    .dataframe thead th {\n",
       "        text-align: right;\n",
       "    }\n",
       "</style>\n",
       "<table border=\"1\" class=\"dataframe\">\n",
       "  <thead>\n",
       "    <tr style=\"text-align: right;\">\n",
       "      <th></th>\n",
       "      <th>priors</th>\n",
       "      <th>likelihood</th>\n",
       "      <th>unnormalized_posterior</th>\n",
       "      <th>prob_data</th>\n",
       "      <th>posterior</th>\n",
       "    </tr>\n",
       "  </thead>\n",
       "  <tbody>\n",
       "    <tr>\n",
       "      <th>4-sided die</th>\n",
       "      <td>0.25</td>\n",
       "      <td>0.000000</td>\n",
       "      <td>0.000000</td>\n",
       "      <td>0.000009</td>\n",
       "      <td>0.000000</td>\n",
       "    </tr>\n",
       "    <tr>\n",
       "      <th>6-sided die</th>\n",
       "      <td>0.25</td>\n",
       "      <td>0.000000</td>\n",
       "      <td>0.000000</td>\n",
       "      <td>0.000009</td>\n",
       "      <td>0.000000</td>\n",
       "    </tr>\n",
       "    <tr>\n",
       "      <th>8-sided die</th>\n",
       "      <td>0.25</td>\n",
       "      <td>0.000031</td>\n",
       "      <td>0.000008</td>\n",
       "      <td>0.000009</td>\n",
       "      <td>0.883636</td>\n",
       "    </tr>\n",
       "    <tr>\n",
       "      <th>12-sided die</th>\n",
       "      <td>0.25</td>\n",
       "      <td>0.000004</td>\n",
       "      <td>0.000001</td>\n",
       "      <td>0.000009</td>\n",
       "      <td>0.116364</td>\n",
       "    </tr>\n",
       "  </tbody>\n",
       "</table>\n",
       "</div>"
      ],
      "text/plain": [
       "              priors  likelihood  unnormalized_posterior  prob_data  posterior\n",
       "4-sided die     0.25    0.000000                0.000000   0.000009   0.000000\n",
       "6-sided die     0.25    0.000000                0.000000   0.000009   0.000000\n",
       "8-sided die     0.25    0.000031                0.000008   0.000009   0.883636\n",
       "12-sided die    0.25    0.000004                0.000001   0.000009   0.116364"
      ]
     },
     "execution_count": 11,
     "metadata": {},
     "output_type": "execute_result"
    }
   ],
   "source": [
    "likelihood = get_likelihood(data, dice_sides)\n",
    "priors = [1/4, 1/4, 1/4, 1/4]\n",
    "priors_index = ['4-sided die', '6-sided die', '8-sided die', '12-sided die']\n",
    "result_df = get_posterior(priors, priors_index, likelihood)\n",
    "result_df"
   ]
  },
  {
   "cell_type": "markdown",
   "metadata": {},
   "source": [
    "* Above results that the posterior for a 6 sided die increases, since each time I am getting only 6 after rolling in, there is no other number I getting after rolling in the dice."
   ]
  },
  {
   "cell_type": "code",
   "execution_count": null,
   "metadata": {},
   "outputs": [],
   "source": []
  }
 ],
 "metadata": {
  "kernelspec": {
   "display_name": "Python 3",
   "language": "python",
   "name": "python3"
  },
  "language_info": {
   "codemirror_mode": {
    "name": "ipython",
    "version": 3
   },
   "file_extension": ".py",
   "mimetype": "text/x-python",
   "name": "python",
   "nbconvert_exporter": "python",
   "pygments_lexer": "ipython3",
   "version": "3.6.10"
  },
  "varInspector": {
   "cols": {
    "lenName": 16,
    "lenType": 16,
    "lenVar": 40
   },
   "kernels_config": {
    "python": {
     "delete_cmd_postfix": "",
     "delete_cmd_prefix": "del ",
     "library": "var_list.py",
     "varRefreshCmd": "print(var_dic_list())"
    },
    "r": {
     "delete_cmd_postfix": ") ",
     "delete_cmd_prefix": "rm(",
     "library": "var_list.r",
     "varRefreshCmd": "cat(var_dic_list()) "
    }
   },
   "types_to_exclude": [
    "module",
    "function",
    "builtin_function_or_method",
    "instance",
    "_Feature"
   ],
   "window_display": false
  }
 },
 "nbformat": 4,
 "nbformat_minor": 4
}
