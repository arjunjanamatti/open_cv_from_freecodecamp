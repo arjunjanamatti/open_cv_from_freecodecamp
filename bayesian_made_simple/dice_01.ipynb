{
 "cells": [
  {
   "cell_type": "code",
   "execution_count": 24,
   "metadata": {
    "ExecuteTime": {
     "end_time": "2021-05-24T06:22:19.390103Z",
     "start_time": "2021-05-24T06:22:19.371438Z"
    }
   },
   "outputs": [
    {
     "name": "stdout",
     "output_type": "stream",
     "text": [
      "All packages installed successfuly\n"
     ]
    }
   ],
   "source": [
    "try:\n",
    "    import pandas as pd\n",
    "    pd.get_option(\"display.max_columns\")\n",
    "    import numpy as np\n",
    "    import seaborn as sns\n",
    "    sns.set_style('white')\n",
    "    sns.set_context('talk')\n",
    "    import matplotlib.pyplot as plt\n",
    "    print('All packages installed successfuly')\n",
    "except Exception as e:\n",
    "    print(f'Exception: {e}')"
   ]
  },
  {
   "cell_type": "markdown",
   "metadata": {},
   "source": [
    "### The dice problem\n",
    "\n",
    "I have a box of dice that contains\n",
    "* a 4-sided die,\n",
    "* a 6-sided die,\n",
    "* an 8-sided die,\n",
    "* a 12-sided die.\n",
    "\n",
    "Suppose I select a die from the box at random, roll it, and get a 6.\n",
    "What is the probability that I rolled each die?"
   ]
  },
  {
   "cell_type": "code",
   "execution_count": 25,
   "metadata": {
    "ExecuteTime": {
     "end_time": "2021-05-24T06:22:20.817997Z",
     "start_time": "2021-05-24T06:22:20.802761Z"
    }
   },
   "outputs": [],
   "source": [
    "priors = [1/4, 1/4, 1/4, 1/4]\n",
    "likelihood = [0,1/6, 1/8, 1/12]\n",
    "priors_index = ['4-sided die', '6-sided die', '8-sided die', '12-sided die']"
   ]
  },
  {
   "cell_type": "code",
   "execution_count": 26,
   "metadata": {
    "ExecuteTime": {
     "end_time": "2021-05-24T06:22:21.208417Z",
     "start_time": "2021-05-24T06:22:21.189079Z"
    }
   },
   "outputs": [],
   "source": [
    "def get_posterior(priors, priors_index, likelihood):\n",
    "    new_df = pd.DataFrame()\n",
    "    new_df['priors'] = priors\n",
    "    new_df['likelihood'] = likelihood\n",
    "    new_df.index = priors_index\n",
    "    new_df['unnormalized_posterior'] = new_df['priors'] * new_df['likelihood']\n",
    "    new_df['prob_data'] = [sum(new_df['unnormalized_posterior']) for num in range(len(new_df))]\n",
    "    new_df['posterior'] = (new_df['priors'] * new_df['likelihood']) / new_df['prob_data']\n",
    "    return new_df"
   ]
  },
  {
   "cell_type": "code",
   "execution_count": 27,
   "metadata": {
    "ExecuteTime": {
     "end_time": "2021-05-24T06:22:21.567583Z",
     "start_time": "2021-05-24T06:22:21.542210Z"
    }
   },
   "outputs": [
    {
     "data": {
      "text/html": [
       "<div>\n",
       "<style scoped>\n",
       "    .dataframe tbody tr th:only-of-type {\n",
       "        vertical-align: middle;\n",
       "    }\n",
       "\n",
       "    .dataframe tbody tr th {\n",
       "        vertical-align: top;\n",
       "    }\n",
       "\n",
       "    .dataframe thead th {\n",
       "        text-align: right;\n",
       "    }\n",
       "</style>\n",
       "<table border=\"1\" class=\"dataframe\">\n",
       "  <thead>\n",
       "    <tr style=\"text-align: right;\">\n",
       "      <th></th>\n",
       "      <th>priors</th>\n",
       "      <th>likelihood</th>\n",
       "      <th>unnormalized_posterior</th>\n",
       "      <th>prob_data</th>\n",
       "      <th>posterior</th>\n",
       "    </tr>\n",
       "  </thead>\n",
       "  <tbody>\n",
       "    <tr>\n",
       "      <th>4-sided die</th>\n",
       "      <td>0.25</td>\n",
       "      <td>0.000000</td>\n",
       "      <td>0.000000</td>\n",
       "      <td>0.09375</td>\n",
       "      <td>0.000000</td>\n",
       "    </tr>\n",
       "    <tr>\n",
       "      <th>6-sided die</th>\n",
       "      <td>0.25</td>\n",
       "      <td>0.166667</td>\n",
       "      <td>0.041667</td>\n",
       "      <td>0.09375</td>\n",
       "      <td>0.444444</td>\n",
       "    </tr>\n",
       "    <tr>\n",
       "      <th>8-sided die</th>\n",
       "      <td>0.25</td>\n",
       "      <td>0.125000</td>\n",
       "      <td>0.031250</td>\n",
       "      <td>0.09375</td>\n",
       "      <td>0.333333</td>\n",
       "    </tr>\n",
       "    <tr>\n",
       "      <th>12-sided die</th>\n",
       "      <td>0.25</td>\n",
       "      <td>0.083333</td>\n",
       "      <td>0.020833</td>\n",
       "      <td>0.09375</td>\n",
       "      <td>0.222222</td>\n",
       "    </tr>\n",
       "  </tbody>\n",
       "</table>\n",
       "</div>"
      ],
      "text/plain": [
       "              priors  likelihood  unnormalized_posterior  prob_data  posterior\n",
       "4-sided die     0.25    0.000000                0.000000    0.09375   0.000000\n",
       "6-sided die     0.25    0.166667                0.041667    0.09375   0.444444\n",
       "8-sided die     0.25    0.125000                0.031250    0.09375   0.333333\n",
       "12-sided die    0.25    0.083333                0.020833    0.09375   0.222222"
      ]
     },
     "execution_count": 27,
     "metadata": {},
     "output_type": "execute_result"
    }
   ],
   "source": [
    "result_df = get_posterior(priors, priors_index, likelihood)\n",
    "result_df"
   ]
  },
  {
   "cell_type": "markdown",
   "metadata": {},
   "source": [
    "* Suppose I select a die from the box at random, roll it, and get a [8, 7, 7, 5, 4].\n",
    "What is the probability that I rolled each die?"
   ]
  },
  {
   "cell_type": "code",
   "execution_count": 28,
   "metadata": {
    "ExecuteTime": {
     "end_time": "2021-05-24T06:22:22.348007Z",
     "start_time": "2021-05-24T06:22:22.339842Z"
    }
   },
   "outputs": [],
   "source": [
    "def likelihood_nest(data, dice_sides):\n",
    "    likelihood_nested = []\n",
    "    for d in data:\n",
    "        like = []\n",
    "        for dice in dice_sides:\n",
    "            if d <= dice:\n",
    "                like.append(1/dice)\n",
    "            else:\n",
    "                like.append(0)\n",
    "        print(like)\n",
    "        likelihood_nested.append(like)\n",
    "    return likelihood_nested"
   ]
  },
  {
   "cell_type": "code",
   "execution_count": 29,
   "metadata": {
    "ExecuteTime": {
     "end_time": "2021-05-24T06:22:22.829251Z",
     "start_time": "2021-05-24T06:22:22.810280Z"
    }
   },
   "outputs": [],
   "source": [
    "data = [8,7,7,5,4]\n",
    "dice_sides = [4,6,8,12]"
   ]
  },
  {
   "cell_type": "code",
   "execution_count": 30,
   "metadata": {
    "ExecuteTime": {
     "end_time": "2021-05-24T06:22:23.403375Z",
     "start_time": "2021-05-24T06:22:23.389927Z"
    }
   },
   "outputs": [
    {
     "name": "stdout",
     "output_type": "stream",
     "text": [
      "[0, 0, 0.125, 0.08333333333333333]\n",
      "[0, 0, 0.125, 0.08333333333333333]\n",
      "[0, 0, 0.125, 0.08333333333333333]\n",
      "[0, 0.16666666666666666, 0.125, 0.08333333333333333]\n",
      "[0.25, 0.16666666666666666, 0.125, 0.08333333333333333]\n"
     ]
    }
   ],
   "source": [
    "likelihood_nested = likelihood_nest(data, dice_sides)\n",
    "priors = [1/4, 1/4, 1/4, 1/4]\n",
    "priors_index = ['4-sided die', '6-sided die', '8-sided die', '12-sided die']"
   ]
  },
  {
   "cell_type": "code",
   "execution_count": 32,
   "metadata": {
    "ExecuteTime": {
     "end_time": "2021-05-24T06:25:11.700933Z",
     "start_time": "2021-05-24T06:25:11.629381Z"
    }
   },
   "outputs": [
    {
     "name": "stdout",
     "output_type": "stream",
     "text": [
      "Probability result of getting 8\n",
      "              priors  likelihood  unnormalized_posterior  prob_data  posterior\n",
      "4-sided die     0.25    0.000000                0.000000   0.052083        0.0\n",
      "6-sided die     0.25    0.000000                0.000000   0.052083        0.0\n",
      "8-sided die     0.25    0.125000                0.031250   0.052083        0.6\n",
      "12-sided die    0.25    0.083333                0.020833   0.052083        0.4\n",
      "\n",
      "Probability result of getting 7\n",
      "              priors  likelihood  unnormalized_posterior  prob_data  posterior\n",
      "4-sided die     0.25    0.000000                0.000000   0.052083        0.0\n",
      "6-sided die     0.25    0.000000                0.000000   0.052083        0.0\n",
      "8-sided die     0.25    0.125000                0.031250   0.052083        0.6\n",
      "12-sided die    0.25    0.083333                0.020833   0.052083        0.4\n",
      "\n",
      "Probability result of getting 7\n",
      "              priors  likelihood  unnormalized_posterior  prob_data  posterior\n",
      "4-sided die     0.25    0.000000                0.000000   0.052083        0.0\n",
      "6-sided die     0.25    0.000000                0.000000   0.052083        0.0\n",
      "8-sided die     0.25    0.125000                0.031250   0.052083        0.6\n",
      "12-sided die    0.25    0.083333                0.020833   0.052083        0.4\n",
      "\n",
      "Probability result of getting 5\n",
      "              priors  likelihood  unnormalized_posterior  prob_data  posterior\n",
      "4-sided die     0.25    0.000000                0.000000    0.09375   0.000000\n",
      "6-sided die     0.25    0.166667                0.041667    0.09375   0.444444\n",
      "8-sided die     0.25    0.125000                0.031250    0.09375   0.333333\n",
      "12-sided die    0.25    0.083333                0.020833    0.09375   0.222222\n",
      "\n",
      "Probability result of getting 4\n",
      "              priors  likelihood  unnormalized_posterior  prob_data  posterior\n",
      "4-sided die     0.25    0.250000                0.062500    0.15625   0.400000\n",
      "6-sided die     0.25    0.166667                0.041667    0.15625   0.266667\n",
      "8-sided die     0.25    0.125000                0.031250    0.15625   0.200000\n",
      "12-sided die    0.25    0.083333                0.020833    0.15625   0.133333\n",
      "\n"
     ]
    }
   ],
   "source": [
    "result_dict = {}\n",
    "for index, likelihood in enumerate(likelihood_nested):\n",
    "    print(f'Probability result of getting {data[index]}')\n",
    "    print(get_posterior(priors, priors_index, likelihood))\n",
    "    print()\n",
    "    result_dict[f'roll_{data[index]}'] = get_posterior(priors, priors_index, likelihood)"
   ]
  },
  {
   "cell_type": "code",
   "execution_count": 34,
   "metadata": {
    "ExecuteTime": {
     "end_time": "2021-05-24T06:27:42.451164Z",
     "start_time": "2021-05-24T06:27:42.440881Z"
    }
   },
   "outputs": [],
   "source": [
    "for index, key in enumerate(result_dict.keys()):\n",
    "    result_dict[key]['roll_in'] = np.repeat([data[index]], len(result_dict[key]))"
   ]
  },
  {
   "cell_type": "code",
   "execution_count": 35,
   "metadata": {
    "ExecuteTime": {
     "end_time": "2021-05-24T06:27:47.096305Z",
     "start_time": "2021-05-24T06:27:47.072684Z"
    }
   },
   "outputs": [
    {
     "data": {
      "text/plain": [
       "{'roll_8':               priors  likelihood  unnormalized_posterior  prob_data  \\\n",
       " 4-sided die     0.25    0.000000                0.000000   0.052083   \n",
       " 6-sided die     0.25    0.000000                0.000000   0.052083   \n",
       " 8-sided die     0.25    0.125000                0.031250   0.052083   \n",
       " 12-sided die    0.25    0.083333                0.020833   0.052083   \n",
       " \n",
       "               posterior  roll_in  \n",
       " 4-sided die         0.0        8  \n",
       " 6-sided die         0.0        8  \n",
       " 8-sided die         0.6        8  \n",
       " 12-sided die        0.4        8  ,\n",
       " 'roll_7':               priors  likelihood  unnormalized_posterior  prob_data  \\\n",
       " 4-sided die     0.25    0.000000                0.000000   0.052083   \n",
       " 6-sided die     0.25    0.000000                0.000000   0.052083   \n",
       " 8-sided die     0.25    0.125000                0.031250   0.052083   \n",
       " 12-sided die    0.25    0.083333                0.020833   0.052083   \n",
       " \n",
       "               posterior  roll_in  \n",
       " 4-sided die         0.0        7  \n",
       " 6-sided die         0.0        7  \n",
       " 8-sided die         0.6        7  \n",
       " 12-sided die        0.4        7  ,\n",
       " 'roll_5':               priors  likelihood  unnormalized_posterior  prob_data  \\\n",
       " 4-sided die     0.25    0.000000                0.000000    0.09375   \n",
       " 6-sided die     0.25    0.166667                0.041667    0.09375   \n",
       " 8-sided die     0.25    0.125000                0.031250    0.09375   \n",
       " 12-sided die    0.25    0.083333                0.020833    0.09375   \n",
       " \n",
       "               posterior  roll_in  \n",
       " 4-sided die    0.000000        7  \n",
       " 6-sided die    0.444444        7  \n",
       " 8-sided die    0.333333        7  \n",
       " 12-sided die   0.222222        7  ,\n",
       " 'roll_4':               priors  likelihood  unnormalized_posterior  prob_data  \\\n",
       " 4-sided die     0.25    0.250000                0.062500    0.15625   \n",
       " 6-sided die     0.25    0.166667                0.041667    0.15625   \n",
       " 8-sided die     0.25    0.125000                0.031250    0.15625   \n",
       " 12-sided die    0.25    0.083333                0.020833    0.15625   \n",
       " \n",
       "               posterior  roll_in  \n",
       " 4-sided die    0.400000        5  \n",
       " 6-sided die    0.266667        5  \n",
       " 8-sided die    0.200000        5  \n",
       " 12-sided die   0.133333        5  }"
      ]
     },
     "execution_count": 35,
     "metadata": {},
     "output_type": "execute_result"
    }
   ],
   "source": [
    "result_dict"
   ]
  },
  {
   "cell_type": "code",
   "execution_count": 43,
   "metadata": {
    "ExecuteTime": {
     "end_time": "2021-05-24T06:31:00.970650Z",
     "start_time": "2021-05-24T06:31:00.938815Z"
    }
   },
   "outputs": [
    {
     "ename": "TypeError",
     "evalue": "first argument must be an iterable of pandas objects, you passed an object of type \"DataFrame\"",
     "output_type": "error",
     "traceback": [
      "\u001b[1;31m---------------------------------------------------------------------------\u001b[0m",
      "\u001b[1;31mTypeError\u001b[0m                                 Traceback (most recent call last)",
      "\u001b[1;32m<ipython-input-43-d70140f98c80>\u001b[0m in \u001b[0;36m<module>\u001b[1;34m\u001b[0m\n\u001b[1;32m----> 1\u001b[1;33m \u001b[1;33m[\u001b[0m\u001b[0mpd\u001b[0m\u001b[1;33m.\u001b[0m\u001b[0mconcat\u001b[0m\u001b[1;33m(\u001b[0m\u001b[0mvalue\u001b[0m\u001b[1;33m)\u001b[0m \u001b[1;32mfor\u001b[0m \u001b[0mkey\u001b[0m\u001b[1;33m,\u001b[0m \u001b[0mvalue\u001b[0m \u001b[1;32min\u001b[0m \u001b[0mresult_dict\u001b[0m\u001b[1;33m.\u001b[0m\u001b[0mitems\u001b[0m\u001b[1;33m(\u001b[0m\u001b[1;33m)\u001b[0m \u001b[1;33m]\u001b[0m\u001b[1;33m\u001b[0m\u001b[1;33m\u001b[0m\u001b[0m\n\u001b[0m",
      "\u001b[1;32m<ipython-input-43-d70140f98c80>\u001b[0m in \u001b[0;36m<listcomp>\u001b[1;34m(.0)\u001b[0m\n\u001b[1;32m----> 1\u001b[1;33m \u001b[1;33m[\u001b[0m\u001b[0mpd\u001b[0m\u001b[1;33m.\u001b[0m\u001b[0mconcat\u001b[0m\u001b[1;33m(\u001b[0m\u001b[0mvalue\u001b[0m\u001b[1;33m)\u001b[0m \u001b[1;32mfor\u001b[0m \u001b[0mkey\u001b[0m\u001b[1;33m,\u001b[0m \u001b[0mvalue\u001b[0m \u001b[1;32min\u001b[0m \u001b[0mresult_dict\u001b[0m\u001b[1;33m.\u001b[0m\u001b[0mitems\u001b[0m\u001b[1;33m(\u001b[0m\u001b[1;33m)\u001b[0m \u001b[1;33m]\u001b[0m\u001b[1;33m\u001b[0m\u001b[1;33m\u001b[0m\u001b[0m\n\u001b[0m",
      "\u001b[1;32m~\\Anaconda3\\envs\\tf_nptel\\lib\\site-packages\\pandas\\core\\reshape\\concat.py\u001b[0m in \u001b[0;36mconcat\u001b[1;34m(objs, axis, join, ignore_index, keys, levels, names, verify_integrity, sort, copy)\u001b[0m\n\u001b[0;32m    279\u001b[0m         \u001b[0mverify_integrity\u001b[0m\u001b[1;33m=\u001b[0m\u001b[0mverify_integrity\u001b[0m\u001b[1;33m,\u001b[0m\u001b[1;33m\u001b[0m\u001b[1;33m\u001b[0m\u001b[0m\n\u001b[0;32m    280\u001b[0m         \u001b[0mcopy\u001b[0m\u001b[1;33m=\u001b[0m\u001b[0mcopy\u001b[0m\u001b[1;33m,\u001b[0m\u001b[1;33m\u001b[0m\u001b[1;33m\u001b[0m\u001b[0m\n\u001b[1;32m--> 281\u001b[1;33m         \u001b[0msort\u001b[0m\u001b[1;33m=\u001b[0m\u001b[0msort\u001b[0m\u001b[1;33m,\u001b[0m\u001b[1;33m\u001b[0m\u001b[1;33m\u001b[0m\u001b[0m\n\u001b[0m\u001b[0;32m    282\u001b[0m     )\n\u001b[0;32m    283\u001b[0m \u001b[1;33m\u001b[0m\u001b[0m\n",
      "\u001b[1;32m~\\Anaconda3\\envs\\tf_nptel\\lib\\site-packages\\pandas\\core\\reshape\\concat.py\u001b[0m in \u001b[0;36m__init__\u001b[1;34m(self, objs, axis, join, keys, levels, names, ignore_index, verify_integrity, copy, sort)\u001b[0m\n\u001b[0;32m    307\u001b[0m                 \u001b[1;34m\"first argument must be an iterable of pandas \"\u001b[0m\u001b[1;33m\u001b[0m\u001b[1;33m\u001b[0m\u001b[0m\n\u001b[0;32m    308\u001b[0m                 \u001b[1;34m\"objects, you passed an object of type \"\u001b[0m\u001b[1;33m\u001b[0m\u001b[1;33m\u001b[0m\u001b[0m\n\u001b[1;32m--> 309\u001b[1;33m                 \u001b[1;34m'\"{name}\"'\u001b[0m\u001b[1;33m.\u001b[0m\u001b[0mformat\u001b[0m\u001b[1;33m(\u001b[0m\u001b[0mname\u001b[0m\u001b[1;33m=\u001b[0m\u001b[0mtype\u001b[0m\u001b[1;33m(\u001b[0m\u001b[0mobjs\u001b[0m\u001b[1;33m)\u001b[0m\u001b[1;33m.\u001b[0m\u001b[0m__name__\u001b[0m\u001b[1;33m)\u001b[0m\u001b[1;33m\u001b[0m\u001b[1;33m\u001b[0m\u001b[0m\n\u001b[0m\u001b[0;32m    310\u001b[0m             )\n\u001b[0;32m    311\u001b[0m \u001b[1;33m\u001b[0m\u001b[0m\n",
      "\u001b[1;31mTypeError\u001b[0m: first argument must be an iterable of pandas objects, you passed an object of type \"DataFrame\""
     ]
    }
   ],
   "source": [
    "[pd.concat(value) for key, value in result_dict.items() ]"
   ]
  },
  {
   "cell_type": "code",
   "execution_count": null,
   "metadata": {},
   "outputs": [],
   "source": []
  }
 ],
 "metadata": {
  "kernelspec": {
   "display_name": "Python 3",
   "language": "python",
   "name": "python3"
  },
  "language_info": {
   "codemirror_mode": {
    "name": "ipython",
    "version": 3
   },
   "file_extension": ".py",
   "mimetype": "text/x-python",
   "name": "python",
   "nbconvert_exporter": "python",
   "pygments_lexer": "ipython3",
   "version": "3.6.10"
  },
  "varInspector": {
   "cols": {
    "lenName": 16,
    "lenType": 16,
    "lenVar": 40
   },
   "kernels_config": {
    "python": {
     "delete_cmd_postfix": "",
     "delete_cmd_prefix": "del ",
     "library": "var_list.py",
     "varRefreshCmd": "print(var_dic_list())"
    },
    "r": {
     "delete_cmd_postfix": ") ",
     "delete_cmd_prefix": "rm(",
     "library": "var_list.r",
     "varRefreshCmd": "cat(var_dic_list()) "
    }
   },
   "types_to_exclude": [
    "module",
    "function",
    "builtin_function_or_method",
    "instance",
    "_Feature"
   ],
   "window_display": false
  }
 },
 "nbformat": 4,
 "nbformat_minor": 4
}
