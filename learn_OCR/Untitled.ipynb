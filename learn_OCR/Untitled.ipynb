{
 "cells": [
  {
   "cell_type": "code",
   "execution_count": 1,
   "metadata": {
    "ExecuteTime": {
     "end_time": "2021-03-17T09:20:44.946956Z",
     "start_time": "2021-03-17T09:20:40.948882Z"
    }
   },
   "outputs": [],
   "source": [
    "import cv2\n",
    "import numpy as np\n",
    "import easyocr\n",
    "import matplotlib.pyplot as plt\n",
    "%matplotlib inline"
   ]
  },
  {
   "cell_type": "code",
   "execution_count": 2,
   "metadata": {
    "ExecuteTime": {
     "end_time": "2021-03-17T09:28:44.844920Z",
     "start_time": "2021-03-17T09:28:44.824255Z"
    }
   },
   "outputs": [],
   "source": [
    "license_plate_image = 'license_plate_image.jpg'"
   ]
  },
  {
   "cell_type": "code",
   "execution_count": 3,
   "metadata": {
    "ExecuteTime": {
     "end_time": "2021-03-17T09:29:13.221957Z",
     "start_time": "2021-03-17T09:29:13.205236Z"
    }
   },
   "outputs": [],
   "source": [
    "def recognize_text(img_path):\n",
    "    '''loads an image and recognizes text.'''\n",
    "    \n",
    "    reader = easyocr.Reader(lang_list=['en'])\n",
    "    return reader.readtext(img_path)"
   ]
  },
  {
   "cell_type": "code",
   "execution_count": 5,
   "metadata": {
    "ExecuteTime": {
     "end_time": "2021-03-17T09:33:22.083906Z",
     "start_time": "2021-03-17T09:29:49.556678Z"
    }
   },
   "outputs": [
    {
     "name": "stderr",
     "output_type": "stream",
     "text": [
      "CUDA not available - defaulting to CPU. Note: This module is much faster with a GPU.\n",
      "Downloading detection model, please wait. This may take several minutes depending upon your network connection.\n",
      "Downloading recognition model, please wait. This may take several minutes depending upon your network connection.\n"
     ]
    },
    {
     "data": {
      "text/plain": [
       "[([[1824, 342], [1920, 342], [1920, 381], [1824, 381]],\n",
       "  'PTSuBr',\n",
       "  0.006745545193552971),\n",
       " ([[891.1715728752538, 344.1715728752538],\n",
       "   [1001.5992564287848, 326.2549059739225],\n",
       "   [1005.8284271247462, 359.8284271247462],\n",
       "   [895.4007435712152, 377.7450940260775]],\n",
       "  'AXI9',\n",
       "  0.3075830340385437),\n",
       " ([[544, 1040], [713, 1040], [713, 1133], [544, 1133]],\n",
       "  '|153',\n",
       "  0.495274156332016),\n",
       " ([[703.7852532131767, 1042.06727891859],\n",
       "   [824.7553551254679, 1061.917378001857],\n",
       "   [807.2147467868233, 1153.93272108141],\n",
       "   [686.2446448745321, 1134.082621998143]],\n",
       "  '154',\n",
       "  0.8405063152313232),\n",
       " ([[537, 1061], [549, 1061], [549, 1077], [537, 1077]],\n",
       "  'u',\n",
       "  0.8109002113342285),\n",
       " ([[535, 1075], [549, 1075], [549, 1091], [535, 1091]],\n",
       "  'B',\n",
       "  0.7762506604194641)]"
      ]
     },
     "execution_count": 5,
     "metadata": {},
     "output_type": "execute_result"
    }
   ],
   "source": [
    "result = recognize_text(license_plate_image)\n",
    "result"
   ]
  },
  {
   "cell_type": "code",
   "execution_count": null,
   "metadata": {},
   "outputs": [],
   "source": []
  }
 ],
 "metadata": {
  "kernelspec": {
   "display_name": "Python 3",
   "language": "python",
   "name": "python3"
  },
  "language_info": {
   "codemirror_mode": {
    "name": "ipython",
    "version": 3
   },
   "file_extension": ".py",
   "mimetype": "text/x-python",
   "name": "python",
   "nbconvert_exporter": "python",
   "pygments_lexer": "ipython3",
   "version": "3.6.10"
  },
  "varInspector": {
   "cols": {
    "lenName": 16,
    "lenType": 16,
    "lenVar": 40
   },
   "kernels_config": {
    "python": {
     "delete_cmd_postfix": "",
     "delete_cmd_prefix": "del ",
     "library": "var_list.py",
     "varRefreshCmd": "print(var_dic_list())"
    },
    "r": {
     "delete_cmd_postfix": ") ",
     "delete_cmd_prefix": "rm(",
     "library": "var_list.r",
     "varRefreshCmd": "cat(var_dic_list()) "
    }
   },
   "types_to_exclude": [
    "module",
    "function",
    "builtin_function_or_method",
    "instance",
    "_Feature"
   ],
   "window_display": false
  }
 },
 "nbformat": 4,
 "nbformat_minor": 4
}
