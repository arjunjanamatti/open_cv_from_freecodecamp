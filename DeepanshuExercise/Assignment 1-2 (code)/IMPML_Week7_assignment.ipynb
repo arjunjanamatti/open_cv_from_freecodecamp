{
 "cells": [
  {
   "cell_type": "markdown",
   "metadata": {},
   "source": [
    "# Week 7, K-Nearest Neighbors\n",
    "\n",
    "**_Author: Jessica Cervi_**\n",
    "\n",
    "**Expected time = 2 hours**\n",
    "\n"
   ]
  },
  {
   "cell_type": "markdown",
   "metadata": {},
   "source": [
    "## Assignment overview\n",
    "\n",
    "\n",
    "In this assignment, you will work with k-nearest neighbors to classify wine quality using pandas, NumPy, and sklearn Python packages. You will use pandas to import the data set and convert the data into NumPy arrays to prepare it for classification using sklearn. You will then split the data set into a training data set and a test data set. From there, you will use sklearn to normalize the data sets, train the classifier, and use cross-validation to select the best k. Finally, you will evaluate the selected classifier using the test data set. \n",
    "\n",
    "This assignment is designed to help you apply the machine learning algorithms you have learnt using packages in Python. Python concepts, instructions, and starter code are embedded within this Jupyter Notebook to help guide you as you progress through the assignment. Remember to run the code of each code cell prior to submitting the assignment. Upon completing the assignment, we encourage you to compare your work against the solution file to perform a self-assessment.\n",
    "\n",
    "\n",
    "### Learning objectives\n",
    "\n",
    "- Outline k-nearest neighbours for classification\n",
    "- Define the concept of proximity for k-nearest neighbours methods\n",
    "- Convert binary and categorical predictors into numbers\n",
    "- Explain the relationship between selecting k and the bias-variance trade-off\n",
    "- Outline k-nearest neighbours for regression\n",
    "- Discuss real-life applications of k-nearest neighbours"
   ]
  },
  {
   "cell_type": "markdown",
   "metadata": {},
   "source": [
    "## Index:\n",
    "\n",
    "\n",
    "#### Week 7:  K-Nearest Neighbors\n",
    "\n",
    "- [Part 1 - Importing the data set and exploratory data analysis (EDA)](#part1)\n",
    "- [Part 2 - Creating a new binary column for good_wines](#part2)\n",
    "- [Part 3 - Moving the Data to NumPy arrays and splitting the data set](#part3)\n",
    "- [Part 4 - Data normalisation](#part4)\n",
    "- [Part 5-  Loading and training the classifier](#part5)\n",
    "- [Part 6 - Evaluate and select the best classifier](#part6)\n",
    "- [Part 7 - Predict the generalisation error using the test data set](#part7)\n"
   ]
  },
  {
   "cell_type": "markdown",
   "metadata": {},
   "source": [
    "\n",
    "## Week 7:  K-nearest neighbors\n",
    "\n",
    "\n",
    "In Week 7, you learnt about **k-nearest neighbors** (KNN) for classification. \n",
    "\n",
    "The KNN algorithm is one of the simplest classification algorithms. KNN is used to predict the classification of a new sample point, based on data sets that are made up of data which are separated into several classes or categories.\n",
    "\n",
    "The pseudo-algorithm for KNN can be summarised as follows:\n",
    "1. Load the training and test data \n",
    "2. Choose the value of K \n",
    "3. For each point in test data:\n",
    "   - Find the Euclidean distance to all training data points\n",
    "   - Store the Euclidean distances in a list and sort it \n",
    "   - Choose the first k points \n",
    "   - Assign a class to the test point based on the majority of classes present in the chosen points\n",
    "4. Review ouput "
   ]
  },
  {
   "cell_type": "markdown",
   "metadata": {},
   "source": [
    "###  Predicting wine quality with k-nearest neighbors\n",
    "\n",
    "\n",
    "For this exercise, we will use the data set  'sparklingwine.csv' to predict wine quality and we will build a KNN classifier in Python for the data set by following the steps given below\n",
    "\n",
    "1. Load the data file\n",
    "2. Construct a new binary column 'good wine' that indicates whether the wine is good\n",
    "(which we define as having a quality of 6 or higher) or not\n",
    "3. Move the data to NumPy arrays and split the data set into a training data set (first 400 samples), a validation data set (next 200 samples) and a test data set (last 200 samples)\n",
    "4. Normalise the data according to the Z-score transform\n",
    "5. Load and train the k-nearest neighbors classifiers for k = 1,2, ...,100\n",
    "6. Evaluate each classifier using the validation data set and select the best classifier\n",
    "7. Predict the generalisation error using the test data set\n"
   ]
  },
  {
   "cell_type": "markdown",
   "metadata": {},
   "source": [
    "[Back to top](#Index:) \n",
    "\n",
    "<a id='part1'></a>\n",
    "\n",
    "### Part 1 - Importing the dataset and exploratory data analysis (EDA)\n",
    "\n",
    "We begin by using `pandas` to import the data set. To do so, we import `pandas` first and we read the file using the `.read_csv()` function by passing the name of the data set we want to read as a string.\n",
    "\n",
    "Notice that, because the columns in the data set are separated using a `;`, we have specified the type of delimiter in the `.read_csv()` function (the default value is `,`).\n",
    "\n",
    "Complete the code cell below adding the name of the data set inside `.read_csv()`."
   ]
  },
  {
   "cell_type": "code",
   "execution_count": 2,
   "metadata": {
    "ExecuteTime": {
     "end_time": "2021-03-10T07:02:01.678000Z",
     "start_time": "2021-03-10T07:02:00.176983Z"
    }
   },
   "outputs": [],
   "source": [
    "import pandas as pd\n",
    "#read the dataset\n",
    "df = pd.read_csv(\"sparklingwine.csv\", sep = \";\")"
   ]
  },
  {
   "cell_type": "markdown",
   "metadata": {},
   "source": [
    "Before performing any algorithm on the dataframe, it is always good practice to perform exploratory data analysis.\n",
    "\n",
    "We begin by visualising the first *ten* rows of the dataframe `df` using the function `.head()`. By default, `.head()` displays the first five rows of a dataframe. \n",
    "\n",
    "Complete the code cell below by passing the desired number of rows to the function `.head()` as an integer.\n"
   ]
  },
  {
   "cell_type": "code",
   "execution_count": 3,
   "metadata": {
    "ExecuteTime": {
     "end_time": "2021-03-10T07:02:03.693686Z",
     "start_time": "2021-03-10T07:02:03.622034Z"
    }
   },
   "outputs": [
    {
     "data": {
      "text/html": [
       "<div>\n",
       "<style scoped>\n",
       "    .dataframe tbody tr th:only-of-type {\n",
       "        vertical-align: middle;\n",
       "    }\n",
       "\n",
       "    .dataframe tbody tr th {\n",
       "        vertical-align: top;\n",
       "    }\n",
       "\n",
       "    .dataframe thead th {\n",
       "        text-align: right;\n",
       "    }\n",
       "</style>\n",
       "<table border=\"1\" class=\"dataframe\">\n",
       "  <thead>\n",
       "    <tr style=\"text-align: right;\">\n",
       "      <th></th>\n",
       "      <th>fixed acidity</th>\n",
       "      <th>volatile acidity</th>\n",
       "      <th>citric acid</th>\n",
       "      <th>residual sugar</th>\n",
       "      <th>chlorides</th>\n",
       "      <th>free sulfur dioxide</th>\n",
       "      <th>total sulfur dioxide</th>\n",
       "      <th>density</th>\n",
       "      <th>pH</th>\n",
       "      <th>sulphates</th>\n",
       "      <th>alcohol</th>\n",
       "      <th>quality</th>\n",
       "    </tr>\n",
       "  </thead>\n",
       "  <tbody>\n",
       "    <tr>\n",
       "      <th>0</th>\n",
       "      <td>7.4</td>\n",
       "      <td>0.70</td>\n",
       "      <td>0.00</td>\n",
       "      <td>1.9</td>\n",
       "      <td>0.076</td>\n",
       "      <td>11.0</td>\n",
       "      <td>34.0</td>\n",
       "      <td>0.9978</td>\n",
       "      <td>3.51</td>\n",
       "      <td>0.56</td>\n",
       "      <td>9.4</td>\n",
       "      <td>5</td>\n",
       "    </tr>\n",
       "    <tr>\n",
       "      <th>1</th>\n",
       "      <td>7.8</td>\n",
       "      <td>0.88</td>\n",
       "      <td>0.00</td>\n",
       "      <td>2.6</td>\n",
       "      <td>0.098</td>\n",
       "      <td>25.0</td>\n",
       "      <td>67.0</td>\n",
       "      <td>0.9968</td>\n",
       "      <td>3.20</td>\n",
       "      <td>0.68</td>\n",
       "      <td>9.8</td>\n",
       "      <td>5</td>\n",
       "    </tr>\n",
       "    <tr>\n",
       "      <th>2</th>\n",
       "      <td>7.8</td>\n",
       "      <td>0.76</td>\n",
       "      <td>0.04</td>\n",
       "      <td>2.3</td>\n",
       "      <td>0.092</td>\n",
       "      <td>15.0</td>\n",
       "      <td>54.0</td>\n",
       "      <td>0.9970</td>\n",
       "      <td>3.26</td>\n",
       "      <td>0.65</td>\n",
       "      <td>9.8</td>\n",
       "      <td>5</td>\n",
       "    </tr>\n",
       "    <tr>\n",
       "      <th>3</th>\n",
       "      <td>11.2</td>\n",
       "      <td>0.28</td>\n",
       "      <td>0.56</td>\n",
       "      <td>1.9</td>\n",
       "      <td>0.075</td>\n",
       "      <td>17.0</td>\n",
       "      <td>60.0</td>\n",
       "      <td>0.9980</td>\n",
       "      <td>3.16</td>\n",
       "      <td>0.58</td>\n",
       "      <td>9.8</td>\n",
       "      <td>5</td>\n",
       "    </tr>\n",
       "    <tr>\n",
       "      <th>4</th>\n",
       "      <td>7.4</td>\n",
       "      <td>0.70</td>\n",
       "      <td>0.00</td>\n",
       "      <td>1.9</td>\n",
       "      <td>0.076</td>\n",
       "      <td>11.0</td>\n",
       "      <td>34.0</td>\n",
       "      <td>0.9978</td>\n",
       "      <td>3.51</td>\n",
       "      <td>0.56</td>\n",
       "      <td>9.4</td>\n",
       "      <td>5</td>\n",
       "    </tr>\n",
       "  </tbody>\n",
       "</table>\n",
       "</div>"
      ],
      "text/plain": [
       "   fixed acidity  volatile acidity  citric acid  residual sugar  chlorides  \\\n",
       "0            7.4              0.70         0.00             1.9      0.076   \n",
       "1            7.8              0.88         0.00             2.6      0.098   \n",
       "2            7.8              0.76         0.04             2.3      0.092   \n",
       "3           11.2              0.28         0.56             1.9      0.075   \n",
       "4            7.4              0.70         0.00             1.9      0.076   \n",
       "\n",
       "   free sulfur dioxide  total sulfur dioxide  density    pH  sulphates  \\\n",
       "0                 11.0                  34.0   0.9978  3.51       0.56   \n",
       "1                 25.0                  67.0   0.9968  3.20       0.68   \n",
       "2                 15.0                  54.0   0.9970  3.26       0.65   \n",
       "3                 17.0                  60.0   0.9980  3.16       0.58   \n",
       "4                 11.0                  34.0   0.9978  3.51       0.56   \n",
       "\n",
       "   alcohol  quality  \n",
       "0      9.4        5  \n",
       "1      9.8        5  \n",
       "2      9.8        5  \n",
       "3      9.8        5  \n",
       "4      9.4        5  "
      ]
     },
     "execution_count": 3,
     "metadata": {},
     "output_type": "execute_result"
    }
   ],
   "source": [
    "#visualise the first 10 rows\n",
    "df.head( )"
   ]
  },
  {
   "cell_type": "markdown",
   "metadata": {},
   "source": [
    "Next, we retrieve some more information about our dataframe by using the properties `.shape` and `.columns` and the function `.describe()`.\n",
    "\n",
    "Here's a brief description of what each of the above functions does:\n",
    "\n",
    "- `.shape`: Returns a tuple representing the dimensionality of the dataframe.\n",
    "- `.columns`: Returns the column labels of the dataframe.\n",
    "- `.describe()`: Returns summary statistics of the columns in the dataframe provided, such as mean, count, standad deviation and so on.\n",
    "\n",
    "\n",
    "Run the cells below to get information about the dataframe."
   ]
  },
  {
   "cell_type": "code",
   "execution_count": 4,
   "metadata": {
    "ExecuteTime": {
     "end_time": "2021-03-10T07:02:09.248681Z",
     "start_time": "2021-03-10T07:02:09.234352Z"
    }
   },
   "outputs": [
    {
     "data": {
      "text/plain": [
       "(800, 12)"
      ]
     },
     "execution_count": 4,
     "metadata": {},
     "output_type": "execute_result"
    }
   ],
   "source": [
    "df.shape"
   ]
  },
  {
   "cell_type": "code",
   "execution_count": 5,
   "metadata": {
    "ExecuteTime": {
     "end_time": "2021-03-10T07:02:10.165047Z",
     "start_time": "2021-03-10T07:02:10.143210Z"
    }
   },
   "outputs": [
    {
     "data": {
      "text/plain": [
       "Index(['fixed acidity', 'volatile acidity', 'citric acid', 'residual sugar',\n",
       "       'chlorides', 'free sulfur dioxide', 'total sulfur dioxide', 'density',\n",
       "       'pH', 'sulphates', 'alcohol', 'quality'],\n",
       "      dtype='object')"
      ]
     },
     "execution_count": 5,
     "metadata": {},
     "output_type": "execute_result"
    }
   ],
   "source": [
    "df.columns"
   ]
  },
  {
   "cell_type": "code",
   "execution_count": 6,
   "metadata": {
    "ExecuteTime": {
     "end_time": "2021-03-10T07:02:12.716036Z",
     "start_time": "2021-03-10T07:02:12.576305Z"
    }
   },
   "outputs": [
    {
     "data": {
      "text/html": [
       "<div>\n",
       "<style scoped>\n",
       "    .dataframe tbody tr th:only-of-type {\n",
       "        vertical-align: middle;\n",
       "    }\n",
       "\n",
       "    .dataframe tbody tr th {\n",
       "        vertical-align: top;\n",
       "    }\n",
       "\n",
       "    .dataframe thead th {\n",
       "        text-align: right;\n",
       "    }\n",
       "</style>\n",
       "<table border=\"1\" class=\"dataframe\">\n",
       "  <thead>\n",
       "    <tr style=\"text-align: right;\">\n",
       "      <th></th>\n",
       "      <th>fixed acidity</th>\n",
       "      <th>volatile acidity</th>\n",
       "      <th>citric acid</th>\n",
       "      <th>residual sugar</th>\n",
       "      <th>chlorides</th>\n",
       "      <th>free sulfur dioxide</th>\n",
       "      <th>total sulfur dioxide</th>\n",
       "      <th>density</th>\n",
       "      <th>pH</th>\n",
       "      <th>sulphates</th>\n",
       "      <th>alcohol</th>\n",
       "      <th>quality</th>\n",
       "    </tr>\n",
       "  </thead>\n",
       "  <tbody>\n",
       "    <tr>\n",
       "      <th>count</th>\n",
       "      <td>800.000000</td>\n",
       "      <td>800.000000</td>\n",
       "      <td>800.000000</td>\n",
       "      <td>800.000000</td>\n",
       "      <td>800.000000</td>\n",
       "      <td>800.000000</td>\n",
       "      <td>800.000000</td>\n",
       "      <td>800.000000</td>\n",
       "      <td>800.000000</td>\n",
       "      <td>800.000000</td>\n",
       "      <td>800.000000</td>\n",
       "      <td>800.000000</td>\n",
       "    </tr>\n",
       "    <tr>\n",
       "      <th>mean</th>\n",
       "      <td>8.860750</td>\n",
       "      <td>0.539938</td>\n",
       "      <td>0.303875</td>\n",
       "      <td>2.617938</td>\n",
       "      <td>0.093080</td>\n",
       "      <td>14.946250</td>\n",
       "      <td>50.710000</td>\n",
       "      <td>0.997646</td>\n",
       "      <td>3.285338</td>\n",
       "      <td>0.674375</td>\n",
       "      <td>10.098375</td>\n",
       "      <td>5.086250</td>\n",
       "    </tr>\n",
       "    <tr>\n",
       "      <th>std</th>\n",
       "      <td>1.890583</td>\n",
       "      <td>0.180819</td>\n",
       "      <td>0.206469</td>\n",
       "      <td>1.262319</td>\n",
       "      <td>0.054436</td>\n",
       "      <td>9.725725</td>\n",
       "      <td>34.295205</td>\n",
       "      <td>0.001683</td>\n",
       "      <td>0.158945</td>\n",
       "      <td>0.195282</td>\n",
       "      <td>0.979967</td>\n",
       "      <td>0.494081</td>\n",
       "    </tr>\n",
       "    <tr>\n",
       "      <th>min</th>\n",
       "      <td>4.600000</td>\n",
       "      <td>0.180000</td>\n",
       "      <td>0.000000</td>\n",
       "      <td>1.200000</td>\n",
       "      <td>0.034000</td>\n",
       "      <td>1.000000</td>\n",
       "      <td>8.000000</td>\n",
       "      <td>0.991200</td>\n",
       "      <td>2.740000</td>\n",
       "      <td>0.330000</td>\n",
       "      <td>8.400000</td>\n",
       "      <td>4.000000</td>\n",
       "    </tr>\n",
       "    <tr>\n",
       "      <th>25%</th>\n",
       "      <td>7.500000</td>\n",
       "      <td>0.407500</td>\n",
       "      <td>0.120000</td>\n",
       "      <td>2.000000</td>\n",
       "      <td>0.073000</td>\n",
       "      <td>7.000000</td>\n",
       "      <td>24.000000</td>\n",
       "      <td>0.996600</td>\n",
       "      <td>3.180000</td>\n",
       "      <td>0.560000</td>\n",
       "      <td>9.400000</td>\n",
       "      <td>5.000000</td>\n",
       "    </tr>\n",
       "    <tr>\n",
       "      <th>50%</th>\n",
       "      <td>8.400000</td>\n",
       "      <td>0.530000</td>\n",
       "      <td>0.280000</td>\n",
       "      <td>2.300000</td>\n",
       "      <td>0.082000</td>\n",
       "      <td>12.000000</td>\n",
       "      <td>41.500000</td>\n",
       "      <td>0.997500</td>\n",
       "      <td>3.290000</td>\n",
       "      <td>0.620000</td>\n",
       "      <td>9.800000</td>\n",
       "      <td>5.000000</td>\n",
       "    </tr>\n",
       "    <tr>\n",
       "      <th>75%</th>\n",
       "      <td>10.000000</td>\n",
       "      <td>0.645000</td>\n",
       "      <td>0.490000</td>\n",
       "      <td>2.800000</td>\n",
       "      <td>0.094000</td>\n",
       "      <td>20.000000</td>\n",
       "      <td>66.000000</td>\n",
       "      <td>0.998650</td>\n",
       "      <td>3.380000</td>\n",
       "      <td>0.740000</td>\n",
       "      <td>10.500000</td>\n",
       "      <td>5.000000</td>\n",
       "    </tr>\n",
       "    <tr>\n",
       "      <th>max</th>\n",
       "      <td>15.900000</td>\n",
       "      <td>1.330000</td>\n",
       "      <td>1.000000</td>\n",
       "      <td>15.500000</td>\n",
       "      <td>0.611000</td>\n",
       "      <td>68.000000</td>\n",
       "      <td>165.000000</td>\n",
       "      <td>1.003200</td>\n",
       "      <td>3.900000</td>\n",
       "      <td>2.000000</td>\n",
       "      <td>14.900000</td>\n",
       "      <td>7.000000</td>\n",
       "    </tr>\n",
       "  </tbody>\n",
       "</table>\n",
       "</div>"
      ],
      "text/plain": [
       "       fixed acidity  volatile acidity  citric acid  residual sugar  \\\n",
       "count     800.000000        800.000000   800.000000      800.000000   \n",
       "mean        8.860750          0.539938     0.303875        2.617938   \n",
       "std         1.890583          0.180819     0.206469        1.262319   \n",
       "min         4.600000          0.180000     0.000000        1.200000   \n",
       "25%         7.500000          0.407500     0.120000        2.000000   \n",
       "50%         8.400000          0.530000     0.280000        2.300000   \n",
       "75%        10.000000          0.645000     0.490000        2.800000   \n",
       "max        15.900000          1.330000     1.000000       15.500000   \n",
       "\n",
       "        chlorides  free sulfur dioxide  total sulfur dioxide     density  \\\n",
       "count  800.000000           800.000000            800.000000  800.000000   \n",
       "mean     0.093080            14.946250             50.710000    0.997646   \n",
       "std      0.054436             9.725725             34.295205    0.001683   \n",
       "min      0.034000             1.000000              8.000000    0.991200   \n",
       "25%      0.073000             7.000000             24.000000    0.996600   \n",
       "50%      0.082000            12.000000             41.500000    0.997500   \n",
       "75%      0.094000            20.000000             66.000000    0.998650   \n",
       "max      0.611000            68.000000            165.000000    1.003200   \n",
       "\n",
       "               pH   sulphates     alcohol     quality  \n",
       "count  800.000000  800.000000  800.000000  800.000000  \n",
       "mean     3.285338    0.674375   10.098375    5.086250  \n",
       "std      0.158945    0.195282    0.979967    0.494081  \n",
       "min      2.740000    0.330000    8.400000    4.000000  \n",
       "25%      3.180000    0.560000    9.400000    5.000000  \n",
       "50%      3.290000    0.620000    9.800000    5.000000  \n",
       "75%      3.380000    0.740000   10.500000    5.000000  \n",
       "max      3.900000    2.000000   14.900000    7.000000  "
      ]
     },
     "execution_count": 6,
     "metadata": {},
     "output_type": "execute_result"
    }
   ],
   "source": [
    "df.describe()"
   ]
  },
  {
   "cell_type": "markdown",
   "metadata": {},
   "source": [
    "[Back to top](#Index:) \n",
    "\n",
    "<a id='part2'></a>\n",
    "\n",
    "### Part 2 - Creating a new binary column for good wines\n",
    "\n",
    "For the second step of this exercise, we will construct a new binary column `good_wine` that indicates whether a wine is good or not.\n",
    "\n",
    "Because the values in the new column `good_wine` will be based on the values in the column `quality`, we will use the function `.apply()`, which allows us to pass a user-defined function and apply it to every single value of the pandas series (`quality` in this case). \n",
    "\n",
    "`.apply()` takes, at least, the Python or the `NumPy` function to apply. Additional arguments can be passed as well, a detailed description can be found [here](https://pandas.pydata.org/pandas-docs/stable/reference/api/pandas.Series.apply.html).\n",
    "\n",
    "In the code cell below, complete the definition of the function `goodwine`. Your function should take, as input, the column `quality`. Based on whether the values in `quality` are greater than or equal to six, your function should return  1 or 0 otherwise. Remember, your function should look something like the below, and you should fill in the function-name, function-input, and integer values. \n",
    "\n",
    "`def function-name (function-input):\n",
    "    if function-input >= integer :\n",
    "        return integer`"
   ]
  },
  {
   "cell_type": "code",
   "execution_count": 7,
   "metadata": {
    "ExecuteTime": {
     "end_time": "2021-03-10T07:05:56.038867Z",
     "start_time": "2021-03-10T07:05:56.015015Z"
    }
   },
   "outputs": [],
   "source": [
    "#complete the function goodwine\n",
    "def goodwine(x):\n",
    "    '''\n",
    "    INPUT: column `quality`\n",
    "    RETURN: 1 or 0 indicating whether\n",
    "            the wine is good or not\n",
    "    '''\n",
    "    if x >= 6:\n",
    "        return 1\n",
    "    else:\n",
    "        return 0"
   ]
  },
  {
   "cell_type": "markdown",
   "metadata": {},
   "source": [
    "Next, we use the `.apply()` function to create the new column.\n",
    "\n",
    "Complete the code in the cell below by creating a new column in the dataframe `df` called `good_wine` and by passing the function `goodwine` as an argument to the function `.apply()`.\n",
    "\n",
    "*Hint: New columns need to be passed to the dataframe as strings. As you may remember, a string is enclosed in quotation marks like \"string.\"*"
   ]
  },
  {
   "cell_type": "code",
   "execution_count": 9,
   "metadata": {
    "ExecuteTime": {
     "end_time": "2021-03-10T07:06:31.527937Z",
     "start_time": "2021-03-10T07:06:31.506617Z"
    }
   },
   "outputs": [],
   "source": [
    "#apply goodwine to `good_wine`\n",
    "df[\"good_wine\"] = df.quality.apply(goodwine)"
   ]
  },
  {
   "cell_type": "markdown",
   "metadata": {},
   "source": [
    "Run the code cell below to visualise the dataframe again. Observe that now the dataframe has a new column `good_wine`."
   ]
  },
  {
   "cell_type": "code",
   "execution_count": 10,
   "metadata": {
    "ExecuteTime": {
     "end_time": "2021-03-10T07:06:34.236643Z",
     "start_time": "2021-03-10T07:06:34.183911Z"
    }
   },
   "outputs": [
    {
     "data": {
      "text/html": [
       "<div>\n",
       "<style scoped>\n",
       "    .dataframe tbody tr th:only-of-type {\n",
       "        vertical-align: middle;\n",
       "    }\n",
       "\n",
       "    .dataframe tbody tr th {\n",
       "        vertical-align: top;\n",
       "    }\n",
       "\n",
       "    .dataframe thead th {\n",
       "        text-align: right;\n",
       "    }\n",
       "</style>\n",
       "<table border=\"1\" class=\"dataframe\">\n",
       "  <thead>\n",
       "    <tr style=\"text-align: right;\">\n",
       "      <th></th>\n",
       "      <th>fixed acidity</th>\n",
       "      <th>volatile acidity</th>\n",
       "      <th>citric acid</th>\n",
       "      <th>residual sugar</th>\n",
       "      <th>chlorides</th>\n",
       "      <th>free sulfur dioxide</th>\n",
       "      <th>total sulfur dioxide</th>\n",
       "      <th>density</th>\n",
       "      <th>pH</th>\n",
       "      <th>sulphates</th>\n",
       "      <th>alcohol</th>\n",
       "      <th>quality</th>\n",
       "      <th>good_wine</th>\n",
       "    </tr>\n",
       "  </thead>\n",
       "  <tbody>\n",
       "    <tr>\n",
       "      <th>0</th>\n",
       "      <td>7.4</td>\n",
       "      <td>0.70</td>\n",
       "      <td>0.00</td>\n",
       "      <td>1.9</td>\n",
       "      <td>0.076</td>\n",
       "      <td>11.0</td>\n",
       "      <td>34.0</td>\n",
       "      <td>0.99780</td>\n",
       "      <td>3.51</td>\n",
       "      <td>0.56</td>\n",
       "      <td>9.4</td>\n",
       "      <td>5</td>\n",
       "      <td>0</td>\n",
       "    </tr>\n",
       "    <tr>\n",
       "      <th>1</th>\n",
       "      <td>7.8</td>\n",
       "      <td>0.88</td>\n",
       "      <td>0.00</td>\n",
       "      <td>2.6</td>\n",
       "      <td>0.098</td>\n",
       "      <td>25.0</td>\n",
       "      <td>67.0</td>\n",
       "      <td>0.99680</td>\n",
       "      <td>3.20</td>\n",
       "      <td>0.68</td>\n",
       "      <td>9.8</td>\n",
       "      <td>5</td>\n",
       "      <td>0</td>\n",
       "    </tr>\n",
       "    <tr>\n",
       "      <th>2</th>\n",
       "      <td>7.8</td>\n",
       "      <td>0.76</td>\n",
       "      <td>0.04</td>\n",
       "      <td>2.3</td>\n",
       "      <td>0.092</td>\n",
       "      <td>15.0</td>\n",
       "      <td>54.0</td>\n",
       "      <td>0.99700</td>\n",
       "      <td>3.26</td>\n",
       "      <td>0.65</td>\n",
       "      <td>9.8</td>\n",
       "      <td>5</td>\n",
       "      <td>0</td>\n",
       "    </tr>\n",
       "    <tr>\n",
       "      <th>3</th>\n",
       "      <td>11.2</td>\n",
       "      <td>0.28</td>\n",
       "      <td>0.56</td>\n",
       "      <td>1.9</td>\n",
       "      <td>0.075</td>\n",
       "      <td>17.0</td>\n",
       "      <td>60.0</td>\n",
       "      <td>0.99800</td>\n",
       "      <td>3.16</td>\n",
       "      <td>0.58</td>\n",
       "      <td>9.8</td>\n",
       "      <td>5</td>\n",
       "      <td>0</td>\n",
       "    </tr>\n",
       "    <tr>\n",
       "      <th>4</th>\n",
       "      <td>7.4</td>\n",
       "      <td>0.70</td>\n",
       "      <td>0.00</td>\n",
       "      <td>1.9</td>\n",
       "      <td>0.076</td>\n",
       "      <td>11.0</td>\n",
       "      <td>34.0</td>\n",
       "      <td>0.99780</td>\n",
       "      <td>3.51</td>\n",
       "      <td>0.56</td>\n",
       "      <td>9.4</td>\n",
       "      <td>5</td>\n",
       "      <td>0</td>\n",
       "    </tr>\n",
       "    <tr>\n",
       "      <th>...</th>\n",
       "      <td>...</td>\n",
       "      <td>...</td>\n",
       "      <td>...</td>\n",
       "      <td>...</td>\n",
       "      <td>...</td>\n",
       "      <td>...</td>\n",
       "      <td>...</td>\n",
       "      <td>...</td>\n",
       "      <td>...</td>\n",
       "      <td>...</td>\n",
       "      <td>...</td>\n",
       "      <td>...</td>\n",
       "      <td>...</td>\n",
       "    </tr>\n",
       "    <tr>\n",
       "      <th>795</th>\n",
       "      <td>10.8</td>\n",
       "      <td>0.89</td>\n",
       "      <td>0.30</td>\n",
       "      <td>2.6</td>\n",
       "      <td>0.132</td>\n",
       "      <td>7.0</td>\n",
       "      <td>60.0</td>\n",
       "      <td>0.99786</td>\n",
       "      <td>2.99</td>\n",
       "      <td>1.18</td>\n",
       "      <td>10.2</td>\n",
       "      <td>5</td>\n",
       "      <td>0</td>\n",
       "    </tr>\n",
       "    <tr>\n",
       "      <th>796</th>\n",
       "      <td>8.7</td>\n",
       "      <td>0.46</td>\n",
       "      <td>0.31</td>\n",
       "      <td>2.5</td>\n",
       "      <td>0.126</td>\n",
       "      <td>24.0</td>\n",
       "      <td>64.0</td>\n",
       "      <td>0.99746</td>\n",
       "      <td>3.10</td>\n",
       "      <td>0.74</td>\n",
       "      <td>9.6</td>\n",
       "      <td>5</td>\n",
       "      <td>0</td>\n",
       "    </tr>\n",
       "    <tr>\n",
       "      <th>797</th>\n",
       "      <td>9.3</td>\n",
       "      <td>0.37</td>\n",
       "      <td>0.44</td>\n",
       "      <td>1.6</td>\n",
       "      <td>0.038</td>\n",
       "      <td>21.0</td>\n",
       "      <td>42.0</td>\n",
       "      <td>0.99526</td>\n",
       "      <td>3.24</td>\n",
       "      <td>0.81</td>\n",
       "      <td>10.8</td>\n",
       "      <td>6</td>\n",
       "      <td>1</td>\n",
       "    </tr>\n",
       "    <tr>\n",
       "      <th>798</th>\n",
       "      <td>9.4</td>\n",
       "      <td>0.50</td>\n",
       "      <td>0.34</td>\n",
       "      <td>3.6</td>\n",
       "      <td>0.082</td>\n",
       "      <td>5.0</td>\n",
       "      <td>14.0</td>\n",
       "      <td>0.99870</td>\n",
       "      <td>3.29</td>\n",
       "      <td>0.52</td>\n",
       "      <td>10.7</td>\n",
       "      <td>5</td>\n",
       "      <td>0</td>\n",
       "    </tr>\n",
       "    <tr>\n",
       "      <th>799</th>\n",
       "      <td>9.4</td>\n",
       "      <td>0.50</td>\n",
       "      <td>0.34</td>\n",
       "      <td>3.6</td>\n",
       "      <td>0.082</td>\n",
       "      <td>5.0</td>\n",
       "      <td>14.0</td>\n",
       "      <td>0.99870</td>\n",
       "      <td>3.29</td>\n",
       "      <td>0.52</td>\n",
       "      <td>10.7</td>\n",
       "      <td>5</td>\n",
       "      <td>0</td>\n",
       "    </tr>\n",
       "  </tbody>\n",
       "</table>\n",
       "<p>800 rows × 13 columns</p>\n",
       "</div>"
      ],
      "text/plain": [
       "     fixed acidity  volatile acidity  citric acid  residual sugar  chlorides  \\\n",
       "0              7.4              0.70         0.00             1.9      0.076   \n",
       "1              7.8              0.88         0.00             2.6      0.098   \n",
       "2              7.8              0.76         0.04             2.3      0.092   \n",
       "3             11.2              0.28         0.56             1.9      0.075   \n",
       "4              7.4              0.70         0.00             1.9      0.076   \n",
       "..             ...               ...          ...             ...        ...   \n",
       "795           10.8              0.89         0.30             2.6      0.132   \n",
       "796            8.7              0.46         0.31             2.5      0.126   \n",
       "797            9.3              0.37         0.44             1.6      0.038   \n",
       "798            9.4              0.50         0.34             3.6      0.082   \n",
       "799            9.4              0.50         0.34             3.6      0.082   \n",
       "\n",
       "     free sulfur dioxide  total sulfur dioxide  density    pH  sulphates  \\\n",
       "0                   11.0                  34.0  0.99780  3.51       0.56   \n",
       "1                   25.0                  67.0  0.99680  3.20       0.68   \n",
       "2                   15.0                  54.0  0.99700  3.26       0.65   \n",
       "3                   17.0                  60.0  0.99800  3.16       0.58   \n",
       "4                   11.0                  34.0  0.99780  3.51       0.56   \n",
       "..                   ...                   ...      ...   ...        ...   \n",
       "795                  7.0                  60.0  0.99786  2.99       1.18   \n",
       "796                 24.0                  64.0  0.99746  3.10       0.74   \n",
       "797                 21.0                  42.0  0.99526  3.24       0.81   \n",
       "798                  5.0                  14.0  0.99870  3.29       0.52   \n",
       "799                  5.0                  14.0  0.99870  3.29       0.52   \n",
       "\n",
       "     alcohol  quality  good_wine  \n",
       "0        9.4        5          0  \n",
       "1        9.8        5          0  \n",
       "2        9.8        5          0  \n",
       "3        9.8        5          0  \n",
       "4        9.4        5          0  \n",
       "..       ...      ...        ...  \n",
       "795     10.2        5          0  \n",
       "796      9.6        5          0  \n",
       "797     10.8        6          1  \n",
       "798     10.7        5          0  \n",
       "799     10.7        5          0  \n",
       "\n",
       "[800 rows x 13 columns]"
      ]
     },
     "execution_count": 10,
     "metadata": {},
     "output_type": "execute_result"
    }
   ],
   "source": [
    "df"
   ]
  },
  {
   "cell_type": "markdown",
   "metadata": {},
   "source": [
    "Alternatively, we could have created a new column 'good wine' by passing a lambda function to `.apply()` "
   ]
  },
  {
   "cell_type": "code",
   "execution_count": 11,
   "metadata": {
    "ExecuteTime": {
     "end_time": "2021-03-10T07:06:48.051594Z",
     "start_time": "2021-03-10T07:06:48.029111Z"
    }
   },
   "outputs": [],
   "source": [
    "df[\"good wine\"] = df.quality.apply (lambda x : 1 if x>=6 else 0)"
   ]
  },
  {
   "cell_type": "markdown",
   "metadata": {},
   "source": [
    "[Back to top](#Index:) \n",
    "\n",
    "\n",
    "<a id='part3'></a>\n",
    "### Part 3 - Moving the data to NumPy arrays and splitting the data set\n",
    "\n",
    "The KNN algorithm is implemented in the SciKit-Learn package, which takes, as inputs, `NumPy` arrays.\n",
    "\n",
    "Now, we want to predict wine quality to complete column 13: `good_wine`. To do this, we will use all features (or columns in our dataframe) except `quality` (column 12) and `good_wine` (column 13). Hence, we will take the first 11 columns in our dataframe as features to predict the classification labels in the 13th column, `good_wine`.\n",
    "\n",
    "- To begin, we import the `NumPy` package. Alias the package as `np`.\n",
    "- We define `X` and `y` as `NumPy` arrays. So we will start with `X = np.array`.\n",
    "- `X` should be a two-dimensional `NumPy` array of predictors that contains the values of the first eleven columns in `df`.\n",
    "- `y` should be a one-dimensional `NumPy` array with the response variable entries of the column `good_wine`. \n"
   ]
  },
  {
   "cell_type": "code",
   "execution_count": 12,
   "metadata": {
    "ExecuteTime": {
     "end_time": "2021-03-10T07:12:45.210975Z",
     "start_time": "2021-03-10T07:12:45.192770Z"
    }
   },
   "outputs": [],
   "source": [
    "#import numpy\n",
    "import numpy as np \n",
    "\n",
    "#define X and y \n",
    "X = np.array(df.iloc[:,:11] )\n",
    "y = np.array(df.iloc[:,-1] )"
   ]
  },
  {
   "cell_type": "markdown",
   "metadata": {},
   "source": [
    "Again, as a sanity check, it is good practice to check the dimensions of `X` and `y`. \n",
    "\n",
    "Run the code cells below to obtain the shapes of `X` and `y`."
   ]
  },
  {
   "cell_type": "code",
   "execution_count": 13,
   "metadata": {
    "ExecuteTime": {
     "end_time": "2021-03-10T07:12:47.497625Z",
     "start_time": "2021-03-10T07:12:47.469445Z"
    }
   },
   "outputs": [
    {
     "data": {
      "text/plain": [
       "(800, 11)"
      ]
     },
     "execution_count": 13,
     "metadata": {},
     "output_type": "execute_result"
    }
   ],
   "source": [
    "X.shape"
   ]
  },
  {
   "cell_type": "code",
   "execution_count": 14,
   "metadata": {
    "ExecuteTime": {
     "end_time": "2021-03-10T07:12:48.354213Z",
     "start_time": "2021-03-10T07:12:48.334586Z"
    }
   },
   "outputs": [
    {
     "data": {
      "text/plain": [
       "(800,)"
      ]
     },
     "execution_count": 14,
     "metadata": {},
     "output_type": "execute_result"
    }
   ],
   "source": [
    "y.shape"
   ]
  },
  {
   "cell_type": "markdown",
   "metadata": {},
   "source": [
    "Next, according to the instructions, we split `X` into a training data set (first 400 samples), a validation data set (next 200 samples) and a test data set (last 200 samples). Run the code cell below."
   ]
  },
  {
   "cell_type": "code",
   "execution_count": 15,
   "metadata": {
    "ExecuteTime": {
     "end_time": "2021-03-10T07:13:02.207173Z",
     "start_time": "2021-03-10T07:13:02.198282Z"
    }
   },
   "outputs": [],
   "source": [
    "X_train_unproc = X[:400] \n",
    "X_val_unproc = X[400:600]\n",
    "X_test_unproc = X[600:]"
   ]
  },
  {
   "cell_type": "markdown",
   "metadata": {},
   "source": [
    "Complete the code cell below to split `y` in the sets `y_train`, `y_set`, and `y_test` in the way we split `X`."
   ]
  },
  {
   "cell_type": "code",
   "execution_count": 16,
   "metadata": {
    "ExecuteTime": {
     "end_time": "2021-03-10T07:13:33.294505Z",
     "start_time": "2021-03-10T07:13:33.274497Z"
    }
   },
   "outputs": [],
   "source": [
    "#define y_train, y_set and y_test\n",
    "y_train = y[:400]\n",
    "y_val=y[400:600] \n",
    "y_test = y[600:]"
   ]
  },
  {
   "cell_type": "markdown",
   "metadata": {},
   "source": [
    "[Back to top](#Index:) \n",
    "\n",
    "\n",
    "<a id='part4'></a>\n",
    "### Part 4 - Data normalisation\n",
    "\n",
    "In this part, we are going to load and train the k-nearest neighbours classifiers for k = 1,2, ...,100.\n",
    "\n",
    "To do so, we are going to normalise the data, as the nearest neighbours classifier is sensitive to scaling. Standardisation of a data set is a common requirement for many machine learning estimators: the main idea is to normalise (mean = 0 and standard deviation = 1) your feature `X` before applying the machine learning techniques.\n",
    "\n",
    "Although here the training and the test sets are available in advance, we are going to take a general approach: we normalise according to the training data and apply the same transformation to the test set in a consistent manner.\n",
    "\n",
    "\n",
    "In the code cell below, import `.StandardScaler()` from the library `sklearn.preprocessing`. Next, use the `.StandardScaler()` function `.fit()` to compute the mean and standard deviation to be used for later scaling on the unprocessed training set `X_train_unproc`. Assign this to the variable `scaler`."
   ]
  },
  {
   "cell_type": "code",
   "execution_count": 18,
   "metadata": {
    "ExecuteTime": {
     "end_time": "2021-03-10T07:16:02.464630Z",
     "start_time": "2021-03-10T07:16:02.446071Z"
    }
   },
   "outputs": [
    {
     "data": {
      "text/plain": [
       "StandardScaler()"
      ]
     },
     "execution_count": 18,
     "metadata": {},
     "output_type": "execute_result"
    }
   ],
   "source": [
    "#import the necessary library and function\n",
    "from sklearn.preprocessing import StandardScaler \n",
    "\n",
    "#define the scaler\n",
    "scaler = StandardScaler()\n",
    "scaler.fit(X = X_train_unproc, y=y_train)"
   ]
  },
  {
   "cell_type": "markdown",
   "metadata": {},
   "source": [
    "Next, we scale the data by using the `.transform()` function on each unproccesed feature set.\n",
    "\n",
    "Run the cell below to obain the normalised `X` sets."
   ]
  },
  {
   "cell_type": "code",
   "execution_count": 19,
   "metadata": {
    "ExecuteTime": {
     "end_time": "2021-03-10T07:16:05.618897Z",
     "start_time": "2021-03-10T07:16:05.597793Z"
    }
   },
   "outputs": [],
   "source": [
    "X_train = scaler.transform (X_train_unproc)\n",
    "X_val = scaler.transform (X_val_unproc)\n",
    "X_test = scaler.transform (X_test_unproc)"
   ]
  },
  {
   "cell_type": "markdown",
   "metadata": {},
   "source": [
    "[Back to top](#Index:) \n",
    "\n",
    "\n",
    "<a id='part5'></a>\n",
    "\n",
    "### Part 5-  Loading and training the classifier\n",
    "\n",
    "To load and train the classifier, we first need to import the nearest neighbours package.\n",
    "Complete the cell below by importing `KNeighborsClassifier` from the `sklearn.neighbors` package.\n",
    "\n",
    "Next, use ``KNeighborsClassifier`` to initialise the classifier `clf`, setting k = 3. "
   ]
  },
  {
   "cell_type": "code",
   "execution_count": 21,
   "metadata": {
    "ExecuteTime": {
     "end_time": "2021-03-10T07:18:05.243837Z",
     "start_time": "2021-03-10T07:18:05.231598Z"
    }
   },
   "outputs": [],
   "source": [
    "#import the necessary library and function\n",
    "from sklearn.neighbors import KNeighborsClassifier \n",
    "\n",
    "#initialise the classifier\n",
    "clf = KNeighborsClassifier(n_neighbors=3)"
   ]
  },
  {
   "cell_type": "markdown",
   "metadata": {},
   "source": [
    "Run the code cell below to train the classifier `clf` using `X_train` an `y_train`."
   ]
  },
  {
   "cell_type": "code",
   "execution_count": 22,
   "metadata": {
    "ExecuteTime": {
     "end_time": "2021-03-10T07:18:08.252783Z",
     "start_time": "2021-03-10T07:18:08.222562Z"
    }
   },
   "outputs": [
    {
     "data": {
      "text/plain": [
       "KNeighborsClassifier(n_neighbors=3)"
      ]
     },
     "execution_count": 22,
     "metadata": {},
     "output_type": "execute_result"
    }
   ],
   "source": [
    "#train using the training sets\n",
    "clf.fit (X_train , y_train) "
   ]
  },
  {
   "cell_type": "markdown",
   "metadata": {},
   "source": [
    "For our initial choice of k = 3, we evaluate the performance of the classifier on the training data, and\n",
    "we now estimate the performance on new data using the validation set, also known as the test set.\n",
    "\n",
    "This can be achieved by using the `SciKit-learn` function `.score()`.\n",
    "\n",
    "Compute the score on both the training and validation `X` and `y` sets."
   ]
  },
  {
   "cell_type": "code",
   "execution_count": 23,
   "metadata": {
    "ExecuteTime": {
     "end_time": "2021-03-10T07:19:11.779793Z",
     "start_time": "2021-03-10T07:19:11.743749Z"
    }
   },
   "outputs": [
    {
     "data": {
      "text/plain": [
       "0.85"
      ]
     },
     "execution_count": 23,
     "metadata": {},
     "output_type": "execute_result"
    }
   ],
   "source": [
    "#score on the training set\n",
    "\n",
    "clf.score(X_train,y_train)\n",
    "\n",
    "#score on the validation set\n",
    "\n",
    "clf.score( X_val,y_val  )"
   ]
  },
  {
   "cell_type": "markdown",
   "metadata": {},
   "source": [
    "[Back to top](#Index:) \n",
    "\n",
    "\n",
    "<a id='part6'></a>\n",
    "\n",
    "### Part 6 - Evaluate and select the best classifier\n",
    "\n",
    "\n",
    "To evaluate and select the best classifier, we are going to use cross-validation to choose the value of `k` that has the most promising performance on future data.\n",
    "\n",
    "We do so by evaluating each classifier and computing the scores using the training and the validation sets.\n",
    "\n",
    "Define the classifier range `ks` as a sequence of integers from 1 to 100 with step 1, and define two empty lists `inSampleScores` and `valScores`."
   ]
  },
  {
   "cell_type": "code",
   "execution_count": 24,
   "metadata": {
    "ExecuteTime": {
     "end_time": "2021-03-10T07:25:42.243339Z",
     "start_time": "2021-03-10T07:25:42.231916Z"
    }
   },
   "outputs": [],
   "source": [
    "#defining the range for classifiers\n",
    "\n",
    "ks = range(1,100,1)\n",
    "\n",
    "#define the empty lists\n",
    "inSampleScores  = []\n",
    "valScores = []"
   ]
  },
  {
   "cell_type": "markdown",
   "metadata": {},
   "source": [
    "Run the cell below to evaluate each classifier and compute the scores."
   ]
  },
  {
   "cell_type": "code",
   "execution_count": 25,
   "metadata": {
    "ExecuteTime": {
     "end_time": "2021-03-10T07:25:49.133958Z",
     "start_time": "2021-03-10T07:25:46.925811Z"
    }
   },
   "outputs": [],
   "source": [
    "for k in ks:\n",
    "    clf = KNeighborsClassifier(k).fit(X_train,y_train)\n",
    "    inSampleScores.append(clf.score(X_train, y_train)) \n",
    "    valScores.append(clf.score(X_val,y_val))"
   ]
  },
  {
   "cell_type": "markdown",
   "metadata": {},
   "source": [
    "Finally, we select the best classifier by plotting the scores for the training (in)  and the validation (out ) sets.\n",
    "\n",
    "To do so, import `plt` from the `matplotlib.pyplot` library."
   ]
  },
  {
   "cell_type": "code",
   "execution_count": 26,
   "metadata": {
    "ExecuteTime": {
     "end_time": "2021-03-10T07:25:52.372233Z",
     "start_time": "2021-03-10T07:25:51.797654Z"
    }
   },
   "outputs": [],
   "source": [
    "import matplotlib.pyplot as plt\n",
    "#This command is necessary to display plots in Jupyter Notebooks\n",
    "%matplotlib inline \n",
    "\n"
   ]
  },
  {
   "cell_type": "markdown",
   "metadata": {},
   "source": [
    "Run the cell below to visualise a plot with the scores for the training and validation sets."
   ]
  },
  {
   "cell_type": "code",
   "execution_count": 27,
   "metadata": {
    "ExecuteTime": {
     "end_time": "2021-03-10T07:25:53.675375Z",
     "start_time": "2021-03-10T07:25:53.500191Z"
    }
   },
   "outputs": [
    {
     "data": {
      "text/plain": [
       "<matplotlib.legend.Legend at 0x1ab0a8e9470>"
      ]
     },
     "execution_count": 27,
     "metadata": {},
     "output_type": "execute_result"
    },
    {
     "data": {
      "image/png": "[encoded data removed]",
      "text/plain": [
       "<Figure size 432x288 with 1 Axes>"
      ]
     },
     "metadata": {
      "needs_background": "light"
     },
     "output_type": "display_data"
    }
   ],
   "source": [
    "#Plot\n",
    "p1 = plt.plot(ks, inSampleScores)\n",
    "p2 = plt.plot(ks , valScores )\n",
    "plt.legend(['in', 'out'], loc = 'upper right')"
   ]
  },
  {
   "cell_type": "markdown",
   "metadata": {},
   "source": [
    "In analysing this plot, we see that for small values of k, the nearest neighbours classifier suffers from overfitting, whereas for large values of k, the classifer suffers from underfitting. Our plot indicates that a k around 15 is a reasonable choice. We will use this value when evaluating the selected classifier on the test set.\n"
   ]
  },
  {
   "cell_type": "markdown",
   "metadata": {},
   "source": [
    "### Part 7 - Predict the generalisation error using the test data set.\n",
    "\n",
    "In the last part of this exercise, we will evaluate the classifier with k = 15 on the test set.\n",
    "\n",
    "Run the cell below, to compute the classifier for k=15 and to compute the predicted value of `y`."
   ]
  },
  {
   "cell_type": "code",
   "execution_count": 28,
   "metadata": {
    "ExecuteTime": {
     "end_time": "2021-03-10T07:26:59.520891Z",
     "start_time": "2021-03-10T07:26:59.501686Z"
    }
   },
   "outputs": [],
   "source": [
    "clf = KNeighborsClassifier(15).fit(X_train , y_train) \n",
    "\n",
    "y_test_pred = clf.predict(X_test)"
   ]
  },
  {
   "cell_type": "markdown",
   "metadata": {},
   "source": [
    "Finally, in the cell below compute the new score obtained by uning `X_test` and `y_test`. Assign the result to the variable `score_test`. "
   ]
  },
  {
   "cell_type": "code",
   "execution_count": 29,
   "metadata": {
    "ExecuteTime": {
     "end_time": "2021-03-10T07:27:01.387304Z",
     "start_time": "2021-03-10T07:27:01.370647Z"
    }
   },
   "outputs": [],
   "source": [
    "score_test = clf.score(X_test, y_test)"
   ]
  },
  {
   "cell_type": "code",
   "execution_count": 30,
   "metadata": {
    "ExecuteTime": {
     "end_time": "2021-03-10T07:27:10.028883Z",
     "start_time": "2021-03-10T07:27:10.007652Z"
    }
   },
   "outputs": [
    {
     "data": {
      "text/plain": [
       "0.965"
      ]
     },
     "execution_count": 30,
     "metadata": {},
     "output_type": "execute_result"
    }
   ],
   "source": [
    "score_test"
   ]
  }
 ],
 "metadata": {
  "kernelspec": {
   "display_name": "Python 3",
   "language": "python",
   "name": "python3"
  },
  "language_info": {
   "codemirror_mode": {
    "name": "ipython",
    "version": 3
   },
   "file_extension": ".py",
   "mimetype": "text/x-python",
   "name": "python",
   "nbconvert_exporter": "python",
   "pygments_lexer": "ipython3",
   "version": "3.6.10"
  },
  "varInspector": {
   "cols": {
    "lenName": 16,
    "lenType": 16,
    "lenVar": 40
   },
   "kernels_config": {
    "python": {
     "delete_cmd_postfix": "",
     "delete_cmd_prefix": "del ",
     "library": "var_list.py",
     "varRefreshCmd": "print(var_dic_list())"
    },
    "r": {
     "delete_cmd_postfix": ") ",
     "delete_cmd_prefix": "rm(",
     "library": "var_list.r",
     "varRefreshCmd": "cat(var_dic_list()) "
    }
   },
   "types_to_exclude": [
    "module",
    "function",
    "builtin_function_or_method",
    "instance",
    "_Feature"
   ],
   "window_display": false
  }
 },
 "nbformat": 4,
 "nbformat_minor": 2
}
