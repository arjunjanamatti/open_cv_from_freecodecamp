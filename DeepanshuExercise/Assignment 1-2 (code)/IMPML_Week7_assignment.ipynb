{
 "cells": [
  {
   "cell_type": "markdown",
   "metadata": {},
   "source": [
    "# Week 7, K-Nearest Neighbors\n",
    "\n",
    "**_Author: Jessica Cervi_**\n",
    "\n",
    "**Expected time = 2 hours**\n",
    "\n"
   ]
  },
  {
   "cell_type": "markdown",
   "metadata": {},
   "source": [
    "## Assignment overview\n",
    "\n",
    "\n",
    "In this assignment, you will work with k-nearest neighbors to classify wine quality using pandas, NumPy, and sklearn Python packages. You will use pandas to import the data set and convert the data into NumPy arrays to prepare it for classification using sklearn. You will then split the data set into a training data set and a test data set. From there, you will use sklearn to normalize the data sets, train the classifier, and use cross-validation to select the best k. Finally, you will evaluate the selected classifier using the test data set. \n",
    "\n",
    "This assignment is designed to help you apply the machine learning algorithms you have learnt using packages in Python. Python concepts, instructions, and starter code are embedded within this Jupyter Notebook to help guide you as you progress through the assignment. Remember to run the code of each code cell prior to submitting the assignment. Upon completing the assignment, we encourage you to compare your work against the solution file to perform a self-assessment.\n",
    "\n",
    "\n",
    "### Learning objectives\n",
    "\n",
    "- Outline k-nearest neighbours for classification\n",
    "- Define the concept of proximity for k-nearest neighbours methods\n",
    "- Convert binary and categorical predictors into numbers\n",
    "- Explain the relationship between selecting k and the bias-variance trade-off\n",
    "- Outline k-nearest neighbours for regression\n",
    "- Discuss real-life applications of k-nearest neighbours"
   ]
  },
  {
   "cell_type": "markdown",
   "metadata": {},
   "source": [
    "## Index:\n",
    "\n",
    "\n",
    "#### Week 7:  K-Nearest Neighbors\n",
    "\n",
    "- [Part 1 - Importing the data set and exploratory data analysis (EDA)](#part1)\n",
    "- [Part 2 - Creating a new binary column for good_wines](#part2)\n",
    "- [Part 3 - Moving the Data to NumPy arrays and splitting the data set](#part3)\n",
    "- [Part 4 - Data normalisation](#part4)\n",
    "- [Part 5-  Loading and training the classifier](#part5)\n",
    "- [Part 6 - Evaluate and select the best classifier](#part6)\n",
    "- [Part 7 - Predict the generalisation error using the test data set](#part7)\n"
   ]
  },
  {
   "cell_type": "markdown",
   "metadata": {},
   "source": [
    "\n",
    "## Week 7:  K-nearest neighbors\n",
    "\n",
    "\n",
    "In Week 7, you learnt about **k-nearest neighbors** (KNN) for classification. \n",
    "\n",
    "The KNN algorithm is one of the simplest classification algorithms. KNN is used to predict the classification of a new sample point, based on data sets that are made up of data which are separated into several classes or categories.\n",
    "\n",
    "The pseudo-algorithm for KNN can be summarised as follows:\n",
    "1. Load the training and test data \n",
    "2. Choose the value of K \n",
    "3. For each point in test data:\n",
    "   - Find the Euclidean distance to all training data points\n",
    "   - Store the Euclidean distances in a list and sort it \n",
    "   - Choose the first k points \n",
    "   - Assign a class to the test point based on the majority of classes present in the chosen points\n",
    "4. Review ouput "
   ]
  },
  {
   "cell_type": "markdown",
   "metadata": {},
   "source": [
    "###  Predicting wine quality with k-nearest neighbors\n",
    "\n",
    "\n",
    "For this exercise, we will use the data set  'sparklingwine.csv' to predict wine quality and we will build a KNN classifier in Python for the data set by following the steps given below\n",
    "\n",
    "1. Load the data file\n",
    "2. Construct a new binary column 'good wine' that indicates whether the wine is good\n",
    "(which we define as having a quality of 6 or higher) or not\n",
    "3. Move the data to NumPy arrays and split the data set into a training data set (first 400 samples), a validation data set (next 200 samples) and a test data set (last 200 samples)\n",
    "4. Normalise the data according to the Z-score transform\n",
    "5. Load and train the k-nearest neighbors classifiers for k = 1,2, ...,100\n",
    "6. Evaluate each classifier using the validation data set and select the best classifier\n",
    "7. Predict the generalisation error using the test data set\n"
   ]
  },
  {
   "cell_type": "markdown",
   "metadata": {},
   "source": [
    "[Back to top](#Index:) \n",
    "\n",
    "<a id='part1'></a>\n",
    "\n",
    "### Part 1 - Importing the dataset and exploratory data analysis (EDA)\n",
    "\n",
    "We begin by using `pandas` to import the data set. To do so, we import `pandas` first and we read the file using the `.read_csv()` function by passing the name of the data set we want to read as a string.\n",
    "\n",
    "Notice that, because the columns in the data set are separated using a `;`, we have specified the type of delimiter in the `.read_csv()` function (the default value is `,`).\n",
    "\n",
    "Complete the code cell below adding the name of the data set inside `.read_csv()`."
   ]
  },
  {
   "cell_type": "code",
   "execution_count": null,
   "metadata": {},
   "outputs": [],
   "source": [
    "#read the dataset\n",
    "df = pd.read_csv(\" \", sep = \";\")"
   ]
  },
  {
   "cell_type": "markdown",
   "metadata": {},
   "source": [
    "Before performing any algorithm on the dataframe, it is always good practice to perform exploratory data analysis.\n",
    "\n",
    "We begin by visualising the first *ten* rows of the dataframe `df` using the function `.head()`. By default, `.head()` displays the first five rows of a dataframe. \n",
    "\n",
    "Complete the code cell below by passing the desired number of rows to the function `.head()` as an integer.\n"
   ]
  },
  {
   "cell_type": "code",
   "execution_count": null,
   "metadata": {},
   "outputs": [],
   "source": [
    "#visualise the first 10 rows\n",
    "df.head( )"
   ]
  },
  {
   "cell_type": "markdown",
   "metadata": {},
   "source": [
    "Next, we retrieve some more information about our dataframe by using the properties `.shape` and `.columns` and the function `.describe()`.\n",
    "\n",
    "Here's a brief description of what each of the above functions does:\n",
    "\n",
    "- `.shape`: Returns a tuple representing the dimensionality of the dataframe.\n",
    "- `.columns`: Returns the column labels of the dataframe.\n",
    "- `.describe()`: Returns summary statistics of the columns in the dataframe provided, such as mean, count, standad deviation and so on.\n",
    "\n",
    "\n",
    "Run the cells below to get information about the dataframe."
   ]
  },
  {
   "cell_type": "code",
   "execution_count": null,
   "metadata": {},
   "outputs": [],
   "source": [
    "df.shape"
   ]
  },
  {
   "cell_type": "code",
   "execution_count": null,
   "metadata": {},
   "outputs": [],
   "source": [
    "df.columns"
   ]
  },
  {
   "cell_type": "code",
   "execution_count": null,
   "metadata": {},
   "outputs": [],
   "source": [
    "df.describe()"
   ]
  },
  {
   "cell_type": "markdown",
   "metadata": {},
   "source": [
    "[Back to top](#Index:) \n",
    "\n",
    "<a id='part2'></a>\n",
    "\n",
    "### Part 2 - Creating a new binary column for good wines\n",
    "\n",
    "For the second step of this exercise, we will construct a new binary column `good_wine` that indicates whether a wine is good or not.\n",
    "\n",
    "Because the values in the new column `good_wine` will be based on the values in the column `quality`, we will use the function `.apply()`, which allows us to pass a user-defined function and apply it to every single value of the pandas series (`quality` in this case). \n",
    "\n",
    "`.apply()` takes, at least, the Python or the `NumPy` function to apply. Additional arguments can be passed as well, a detailed description can be found [here](https://pandas.pydata.org/pandas-docs/stable/reference/api/pandas.Series.apply.html).\n",
    "\n",
    "In the code cell below, complete the definition of the function `goodwine`. Your function should take, as input, the column `quality`. Based on whether the values in `quality` are greater than or equal to six, your function should return  1 or 0 otherwise. Remember, your function should look something like the below, and you should fill in the function-name, function-input, and integer values. \n",
    "\n",
    "`def function-name (function-input):\n",
    "    if function-input >= integer :\n",
    "        return integer`"
   ]
  },
  {
   "cell_type": "code",
   "execution_count": null,
   "metadata": {},
   "outputs": [],
   "source": [
    "#complete the function goodwine\n",
    "def goodwine( ):\n",
    "    '''\n",
    "    INPUT: column `quality`\n",
    "    RETURN: 1 or 0 indicating whether\n",
    "            the wine is good or not\n",
    "    '''\n",
    "    \n",
    "    \n",
    "    return"
   ]
  },
  {
   "cell_type": "markdown",
   "metadata": {},
   "source": [
    "Next, we use the `.apply()` function to create the new column.\n",
    "\n",
    "Complete the code in the cell below by creating a new column in the dataframe `df` called `good_wine` and by passing the function `goodwine` as an argument to the function `.apply()`.\n",
    "\n",
    "*Hint: New columns need to be passed to the dataframe as strings. As you may remember, a string is enclosed in quotation marks like \"string.\"*"
   ]
  },
  {
   "cell_type": "code",
   "execution_count": null,
   "metadata": {},
   "outputs": [],
   "source": [
    "#apply goodwine to `good_wine`\n",
    "df[\" \"] = df.quality.apply()"
   ]
  },
  {
   "cell_type": "markdown",
   "metadata": {},
   "source": [
    "Run the code cell below to visualise the dataframe again. Observe that now the dataframe has a new column `good_wine`."
   ]
  },
  {
   "cell_type": "code",
   "execution_count": null,
   "metadata": {},
   "outputs": [],
   "source": [
    "df"
   ]
  },
  {
   "cell_type": "markdown",
   "metadata": {},
   "source": [
    "Alternatively, we could have created a new column 'good wine' by passing a lambda function to `.apply()` "
   ]
  },
  {
   "cell_type": "code",
   "execution_count": null,
   "metadata": {},
   "outputs": [],
   "source": [
    "df[\"good wine\"] = df.quality.apply (lambda x : 1 if x>=6 else 0)"
   ]
  },
  {
   "cell_type": "markdown",
   "metadata": {},
   "source": [
    "[Back to top](#Index:) \n",
    "\n",
    "\n",
    "<a id='part3'></a>\n",
    "### Part 3 - Moving the data to NumPy arrays and splitting the data set\n",
    "\n",
    "The KNN algorithm is implemented in the SciKit-Learn package, which takes, as inputs, `NumPy` arrays.\n",
    "\n",
    "Now, we want to predict wine quality to complete column 13: `good_wine`. To do this, we will use all features (or columns in our dataframe) except `quality` (column 12) and `good_wine` (column 13). Hence, we will take the first 11 columns in our dataframe as features to predict the classification labels in the 13th column, `good_wine`.\n",
    "\n",
    "- To begin, we import the `NumPy` package. Alias the package as `np`.\n",
    "- We define `X` and `y` as `NumPy` arrays. So we will start with `X = np.array`.\n",
    "- `X` should be a two-dimensional `NumPy` array of predictors that contains the values of the first eleven columns in `df`.\n",
    "- `y` should be a one-dimensional `NumPy` array with the response variable entries of the column `good_wine`. \n"
   ]
  },
  {
   "cell_type": "code",
   "execution_count": null,
   "metadata": {},
   "outputs": [],
   "source": [
    "#import numpy\n",
    "import  as \n",
    "\n",
    "#define X and y \n",
    "X = np.array( )\n",
    "y = np.array( )"
   ]
  },
  {
   "cell_type": "markdown",
   "metadata": {},
   "source": [
    "Again, as a sanity check, it is good practice to check the dimensions of `X` and `y`. \n",
    "\n",
    "Run the code cells below to obtain the shapes of `X` and `y`."
   ]
  },
  {
   "cell_type": "code",
   "execution_count": null,
   "metadata": {},
   "outputs": [],
   "source": [
    "X.shape"
   ]
  },
  {
   "cell_type": "code",
   "execution_count": null,
   "metadata": {},
   "outputs": [],
   "source": [
    "y.shape"
   ]
  },
  {
   "cell_type": "markdown",
   "metadata": {},
   "source": [
    "Next, according to the instructions, we split `X` into a training data set (first 400 samples), a validation data set (next 200 samples) and a test data set (last 200 samples). Run the code cell below."
   ]
  },
  {
   "cell_type": "code",
   "execution_count": null,
   "metadata": {},
   "outputs": [],
   "source": [
    "X_train_unproc = X[:400] \n",
    "X_val_unproc = X[400:600]\n",
    "X_test_unproc = X[600:]"
   ]
  },
  {
   "cell_type": "markdown",
   "metadata": {},
   "source": [
    "Complete the code cell below to split `y` in the sets `y_train`, `y_set`, and `y_test` in the way we split `X`."
   ]
  },
  {
   "cell_type": "code",
   "execution_count": null,
   "metadata": {},
   "outputs": [],
   "source": [
    "#define y_train, y_set and y_test\n",
    "y_train = y[ ]\n",
    "y_val=y[ ] \n",
    "y_test = y[ ]"
   ]
  },
  {
   "cell_type": "markdown",
   "metadata": {},
   "source": [
    "[Back to top](#Index:) \n",
    "\n",
    "\n",
    "<a id='part4'></a>\n",
    "### Part 4 - Data normalisation\n",
    "\n",
    "In this part, we are going to load and train the k-nearest neighbours classifiers for k = 1,2, ...,100.\n",
    "\n",
    "To do so, we are going to normalise the data, as the nearest neighbours classifier is sensitive to scaling. Standardisation of a data set is a common requirement for many machine learning estimators: the main idea is to normalise (mean = 0 and standard deviation = 1) your feature `X` before applying the machine learning techniques.\n",
    "\n",
    "Although here the training and the test sets are available in advance, we are going to take a general approach: we normalise according to the training data and apply the same transformation to the test set in a consistent manner.\n",
    "\n",
    "\n",
    "In the code cell below, import `.StandardScaler()` from the library `sklearn.preprocessing`. Next, use the `.StandardScaler()` function `.fit()` to compute the mean and standard deviation to be used for later scaling on the unprocessed training set `X_train_unproc`. Assign this to the variable `scaler`."
   ]
  },
  {
   "cell_type": "code",
   "execution_count": null,
   "metadata": {},
   "outputs": [],
   "source": [
    "#import the necessary library and function\n",
    "from   import \n",
    "\n",
    "#define the scaler\n",
    "scaler = \n"
   ]
  },
  {
   "cell_type": "markdown",
   "metadata": {},
   "source": [
    "Next, we scale the data by using the `.transform()` function on each unproccesed feature set.\n",
    "\n",
    "Run the cell below to obain the normalised `X` sets."
   ]
  },
  {
   "cell_type": "code",
   "execution_count": null,
   "metadata": {},
   "outputs": [],
   "source": [
    "X_train = scaler.transform (X_train_unproc)\n",
    "X_val = scaler.transform (X_val_unproc)\n",
    "X_test = scaler.transform (X_test_unproc)"
   ]
  },
  {
   "cell_type": "markdown",
   "metadata": {},
   "source": [
    "[Back to top](#Index:) \n",
    "\n",
    "\n",
    "<a id='part5'></a>\n",
    "\n",
    "### Part 5-  Loading and training the classifier\n",
    "\n",
    "To load and train the classifier, we first need to import the nearest neighbours package.\n",
    "Complete the cell below by importing `KNeighborsClassifier` from the `sklearn.neighbors` package.\n",
    "\n",
    "Next, use ``KNeighborsClassifier`` to initialise the classifier `clf`, setting k = 3. "
   ]
  },
  {
   "cell_type": "code",
   "execution_count": null,
   "metadata": {},
   "outputs": [],
   "source": [
    "#import the necessary library and function\n",
    "from   import \n",
    "\n",
    "#initialise the classifier\n",
    "clf = "
   ]
  },
  {
   "cell_type": "markdown",
   "metadata": {},
   "source": [
    "Run the code cell below to train the classifier `clf` using `X_train` an `y_train`."
   ]
  },
  {
   "cell_type": "code",
   "execution_count": null,
   "metadata": {},
   "outputs": [],
   "source": [
    "#train using the training sets\n",
    "clf.fit (X_train , y_train) "
   ]
  },
  {
   "cell_type": "markdown",
   "metadata": {},
   "source": [
    "For our initial choice of k = 3, we evaluate the performance of the classifier on the training data, and\n",
    "we now estimate the performance on new data using the validation set, also known as the test set.\n",
    "\n",
    "This can be achieved by using the `SciKit-learn` function `.score()`.\n",
    "\n",
    "Compute the score on both the training and validation `X` and `y` sets."
   ]
  },
  {
   "cell_type": "code",
   "execution_count": null,
   "metadata": {},
   "outputs": [],
   "source": [
    "#score on the training set\n",
    "\n",
    "clf.score(   )\n",
    "\n",
    "#score on the validation set\n",
    "\n",
    "clf.score(   )"
   ]
  },
  {
   "cell_type": "markdown",
   "metadata": {},
   "source": [
    "[Back to top](#Index:) \n",
    "\n",
    "\n",
    "<a id='part6'></a>\n",
    "\n",
    "### Part 6 - Evaluate and select the best classifier\n",
    "\n",
    "\n",
    "To evaluate and select the best classifier, we are going to use cross-validation to choose the value of `k` that has the most promising performance on future data.\n",
    "\n",
    "We do so by evaluating each classifier and computing the scores using the training and the validation sets.\n",
    "\n",
    "Define the classifier range `ks` as a sequence of integers from 1 to 100 with step 1, and define two empty lists `inSampleScores` and `valScores`."
   ]
  },
  {
   "cell_type": "code",
   "execution_count": null,
   "metadata": {},
   "outputs": [],
   "source": [
    "#defining the range for classifiers\n",
    "\n",
    "ks = \n",
    "\n",
    "#define the empty lists\n"
   ]
  },
  {
   "cell_type": "markdown",
   "metadata": {},
   "source": [
    "Run the cell below to evaluate each classifier and compute the scores."
   ]
  },
  {
   "cell_type": "code",
   "execution_count": null,
   "metadata": {},
   "outputs": [],
   "source": [
    "for k in ks:\n",
    "    clf = KNeighborsClassifier(k).fit(X_train,y_train)\n",
    "    inSampleScores.append(clf.score(X_train, y_train)) \n",
    "    valScores.append(clf.score(X_val,y_val))"
   ]
  },
  {
   "cell_type": "markdown",
   "metadata": {},
   "source": [
    "Finally, we select the best classifier by plotting the scores for the training (in)  and the validation (out ) sets.\n",
    "\n",
    "To do so, import `plt` from the `matplotlib.pyplot` library."
   ]
  },
  {
   "cell_type": "code",
   "execution_count": null,
   "metadata": {},
   "outputs": [],
   "source": [
    "import matplotlib.pyplot as plt\n",
    "#This command is necessary to display plots in Jupyter Notebooks\n",
    "%matplotlib inline \n",
    "\n"
   ]
  },
  {
   "cell_type": "markdown",
   "metadata": {},
   "source": [
    "Run the cell below to visualise a plot with the scores for the training and validation sets."
   ]
  },
  {
   "cell_type": "code",
   "execution_count": null,
   "metadata": {},
   "outputs": [],
   "source": [
    "#Plot\n",
    "p1 = plt.plot(ks, inSampleScores)\n",
    "p2 = plt.plot(ks , valScores )\n",
    "plt.legend(['in', 'out'], loc = 'upper right')"
   ]
  },
  {
   "cell_type": "markdown",
   "metadata": {},
   "source": [
    "In analysing this plot, we see that for small values of k, the nearest neighbours classifier suffers from overfitting, whereas for large values of k, the classifer suffers from underfitting. Our plot indicates that a k around 15 is a reasonable choice. We will use this value when evaluating the selected classifier on the test set.\n"
   ]
  },
  {
   "cell_type": "markdown",
   "metadata": {},
   "source": [
    "### Part 7 - Predict the generalisation error using the test data set.\n",
    "\n",
    "In the last part of this exercise, we will evaluate the classifier with k = 15 on the test set.\n",
    "\n",
    "Run the cell below, to compute the classifier for k=15 and to compute the predicted value of `y`."
   ]
  },
  {
   "cell_type": "code",
   "execution_count": null,
   "metadata": {},
   "outputs": [],
   "source": [
    "clf = KNeighborsClassifier(15).fit(X_train , y_train) \n",
    "\n",
    "y_test_pred = clf.predict(X_test)"
   ]
  },
  {
   "cell_type": "markdown",
   "metadata": {},
   "source": [
    "Finally, in the cell below compute the new score obtained by uning `X_test` and `y_test`. Assign the result to the variable `score_test`. "
   ]
  },
  {
   "cell_type": "code",
   "execution_count": null,
   "metadata": {},
   "outputs": [],
   "source": [
    "score_test = clf.score(X_test, y_test)"
   ]
  }
 ],
 "metadata": {
  "kernelspec": {
   "display_name": "Python 3",
   "language": "python",
   "name": "python3"
  },
  "language_info": {
   "codemirror_mode": {
    "name": "ipython",
    "version": 3
   },
   "file_extension": ".py",
   "mimetype": "text/x-python",
   "name": "python",
   "nbconvert_exporter": "python",
   "pygments_lexer": "ipython3",
   "version": "3.7.7"
  }
 },
 "nbformat": 4,
 "nbformat_minor": 2
}
